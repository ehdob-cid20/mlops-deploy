{
  "nbformat": 4,
  "nbformat_minor": 0,
  "metadata": {
    "colab": {
      "name": "CDN_Trabalho_Final.ipynb",
      "provenance": [],
      "collapsed_sections": [
        "NpCwkg1_X0Ts",
        "WGcYL_WxX6ii",
        "NRxDxXEUX-Fo",
        "CAsNzuvWgiIo",
        "aoGMe2iEZQGf",
        "oJyqJq4oYW3J",
        "0Dbx5VdOZT0y",
        "b2W9TLmRSL90",
        "ETqbEOR-hqmb",
        "H41P7TK1dDFX",
        "qiyGxbgYh-w6",
        "HLazYrEOhvNp",
        "ng8PKwxVd_Cf",
        "KpvXiwZKNIRl",
        "KNi01w9DNgJX",
        "AuHMs7zK3gnQ",
        "RmTjgRTgA2ev",
        "-m1IbFcySSVK"
      ],
      "include_colab_link": true
    },
    "kernelspec": {
      "display_name": "Python 3",
      "name": "python3"
    },
    "language_info": {
      "name": "python"
    }
  },
  "cells": [
    {
      "cell_type": "markdown",
      "metadata": {
        "id": "view-in-github",
        "colab_type": "text"
      },
      "source": [
        "<a href=\"https://colab.research.google.com/github/ehdob-cid20/mlops-deploy/blob/main/CDN_Trabalho_Final.ipynb\" target=\"_parent\"><img src=\"https://colab.research.google.com/assets/colab-badge.svg\" alt=\"Open In Colab\"/></a>"
      ]
    },
    {
      "cell_type": "markdown",
      "metadata": {
        "id": "Ia9b-lTpiK5k"
      },
      "source": [
        "<h1><strong>Health Insurance Cross Sell Prediction - Kaggle</strong></h1>\n",
        "\n",
        "<h3><strong>Data Science for Business</strong></h3>\n",
        "\n",
        "**Goal**:\n",
        "Our client is an Insurance company that has provided Health Insurance to its customers now they need your help in building a model to predict whether the policyholders (customers) from past year will also be interested in Vehicle Insurance provided by the company.\n",
        "\n",
        "*   Dataset: https://www.kaggle.com/anmolkumar/health-insurance-cross-sell-prediction\n",
        "\n",
        "***Teacher:*** Marcio Palheta Piedade\n",
        "\n",
        "***Group:*** Cássio de Paula , Dilmara Ferreira, Edson Brilhante e Paulo Moraes"
      ]
    },
    {
      "cell_type": "markdown",
      "metadata": {
        "id": "6sEaP1ySsoL4"
      },
      "source": [
        "<h4><strong>Melhores Modelos</strong></h4>\n",
        "\n",
        "\n",
        "\n",
        "*   Logistic Regression\n",
        "*   Random Florest\n",
        "*   XGBoost\n",
        "\n"
      ]
    },
    {
      "cell_type": "markdown",
      "metadata": {
        "id": "lhb4us1rtXgs"
      },
      "source": [
        "<h4><strong>Campos/Conceito</strong></h4>\n",
        "\n",
        "Total de 12 campos, sendo nenhum nulo, 3 categoricos  e 9 númericos.\n",
        "\n",
        "*  id - Unique ID for the customer\n",
        "*  Gender - Gender of the customer\n",
        "*  Age - Age of the customer\n",
        "*  Driving_License - 0 : Customer does not have DL, 1 : Customer already has DL\n",
        "*  Region_Code -  Unique code for the region of the customer\n",
        "*  Previously_Insured - 1 : Customer already has Vehicle Insurance, 0 : Customer doesn't have Vehicle Insurance\n",
        "*  Vehicle_Age - Age of the Vehiclevy  \n",
        "*  Vehicle_Damage - 1 : Customer got his/her vehicle damaged in the past. 0 : Customer didn't get his/her vehicle damaged in the past.\n",
        "*  Annual_Premium - The amount customer needs to pay as premium in the year\n",
        "*  PolicySalesChannel - Anonymized Code for the channel of outreaching to the customer ie. Different Agents, Over Mail, Over Phone, In Person, etc.\n",
        "*  Vintage - Number of Days, Customer has been associated with the company.\n",
        "*  Response - 1 : Customer is interested, 0 : Customer is not interested"
      ]
    },
    {
      "cell_type": "markdown",
      "metadata": {
        "id": "NpCwkg1_X0Ts"
      },
      "source": [
        "# 1. Importando Bibliotecas"
      ]
    },
    {
      "cell_type": "code",
      "metadata": {
        "colab": {
          "base_uri": "https://localhost:8080/"
        },
        "id": "SbaISY63Y-_J",
        "outputId": "8ebc68e6-d3bf-4590-d940-8fcb5513ae72"
      },
      "source": [
        "!pip install shap "
      ],
      "execution_count": 1,
      "outputs": [
        {
          "output_type": "stream",
          "name": "stdout",
          "text": [
            "Collecting shap\n",
            "  Downloading shap-0.40.0.tar.gz (371 kB)\n",
            "\u001b[?25l\r\u001b[K     |▉                               | 10 kB 28.8 MB/s eta 0:00:01\r\u001b[K     |█▊                              | 20 kB 32.9 MB/s eta 0:00:01\r\u001b[K     |██▋                             | 30 kB 35.9 MB/s eta 0:00:01\r\u001b[K     |███▌                            | 40 kB 38.2 MB/s eta 0:00:01\r\u001b[K     |████▍                           | 51 kB 39.8 MB/s eta 0:00:01\r\u001b[K     |█████▎                          | 61 kB 40.7 MB/s eta 0:00:01\r\u001b[K     |██████▏                         | 71 kB 34.9 MB/s eta 0:00:01\r\u001b[K     |███████                         | 81 kB 36.5 MB/s eta 0:00:01\r\u001b[K     |████████                        | 92 kB 38.3 MB/s eta 0:00:01\r\u001b[K     |████████▉                       | 102 kB 38.7 MB/s eta 0:00:01\r\u001b[K     |█████████▊                      | 112 kB 38.7 MB/s eta 0:00:01\r\u001b[K     |██████████▋                     | 122 kB 38.7 MB/s eta 0:00:01\r\u001b[K     |███████████▌                    | 133 kB 38.7 MB/s eta 0:00:01\r\u001b[K     |████████████▍                   | 143 kB 38.7 MB/s eta 0:00:01\r\u001b[K     |█████████████▎                  | 153 kB 38.7 MB/s eta 0:00:01\r\u001b[K     |██████████████                  | 163 kB 38.7 MB/s eta 0:00:01\r\u001b[K     |███████████████                 | 174 kB 38.7 MB/s eta 0:00:01\r\u001b[K     |███████████████▉                | 184 kB 38.7 MB/s eta 0:00:01\r\u001b[K     |████████████████▊               | 194 kB 38.7 MB/s eta 0:00:01\r\u001b[K     |█████████████████▋              | 204 kB 38.7 MB/s eta 0:00:01\r\u001b[K     |██████████████████▌             | 215 kB 38.7 MB/s eta 0:00:01\r\u001b[K     |███████████████████▍            | 225 kB 38.7 MB/s eta 0:00:01\r\u001b[K     |████████████████████▎           | 235 kB 38.7 MB/s eta 0:00:01\r\u001b[K     |█████████████████████▏          | 245 kB 38.7 MB/s eta 0:00:01\r\u001b[K     |██████████████████████          | 256 kB 38.7 MB/s eta 0:00:01\r\u001b[K     |███████████████████████         | 266 kB 38.7 MB/s eta 0:00:01\r\u001b[K     |███████████████████████▉        | 276 kB 38.7 MB/s eta 0:00:01\r\u001b[K     |████████████████████████▊       | 286 kB 38.7 MB/s eta 0:00:01\r\u001b[K     |█████████████████████████▋      | 296 kB 38.7 MB/s eta 0:00:01\r\u001b[K     |██████████████████████████▌     | 307 kB 38.7 MB/s eta 0:00:01\r\u001b[K     |███████████████████████████▎    | 317 kB 38.7 MB/s eta 0:00:01\r\u001b[K     |████████████████████████████▏   | 327 kB 38.7 MB/s eta 0:00:01\r\u001b[K     |█████████████████████████████   | 337 kB 38.7 MB/s eta 0:00:01\r\u001b[K     |██████████████████████████████  | 348 kB 38.7 MB/s eta 0:00:01\r\u001b[K     |██████████████████████████████▉ | 358 kB 38.7 MB/s eta 0:00:01\r\u001b[K     |███████████████████████████████▊| 368 kB 38.7 MB/s eta 0:00:01\r\u001b[K     |████████████████████████████████| 371 kB 38.7 MB/s \n",
            "\u001b[?25h  Installing build dependencies ... \u001b[?25l\u001b[?25hdone\n",
            "  Getting requirements to build wheel ... \u001b[?25l\u001b[?25hdone\n",
            "    Preparing wheel metadata ... \u001b[?25l\u001b[?25hdone\n",
            "Requirement already satisfied: tqdm>4.25.0 in /usr/local/lib/python3.7/dist-packages (from shap) (4.62.3)\n",
            "Requirement already satisfied: scipy in /usr/local/lib/python3.7/dist-packages (from shap) (1.4.1)\n",
            "Requirement already satisfied: numpy in /usr/local/lib/python3.7/dist-packages (from shap) (1.19.5)\n",
            "Collecting slicer==0.0.7\n",
            "  Downloading slicer-0.0.7-py3-none-any.whl (14 kB)\n",
            "Requirement already satisfied: packaging>20.9 in /usr/local/lib/python3.7/dist-packages (from shap) (21.2)\n",
            "Requirement already satisfied: pandas in /usr/local/lib/python3.7/dist-packages (from shap) (1.1.5)\n",
            "Requirement already satisfied: numba in /usr/local/lib/python3.7/dist-packages (from shap) (0.51.2)\n",
            "Requirement already satisfied: cloudpickle in /usr/local/lib/python3.7/dist-packages (from shap) (1.3.0)\n",
            "Requirement already satisfied: scikit-learn in /usr/local/lib/python3.7/dist-packages (from shap) (0.22.2.post1)\n",
            "Requirement already satisfied: pyparsing<3,>=2.0.2 in /usr/local/lib/python3.7/dist-packages (from packaging>20.9->shap) (2.4.7)\n",
            "Requirement already satisfied: setuptools in /usr/local/lib/python3.7/dist-packages (from numba->shap) (57.4.0)\n",
            "Requirement already satisfied: llvmlite<0.35,>=0.34.0.dev0 in /usr/local/lib/python3.7/dist-packages (from numba->shap) (0.34.0)\n",
            "Requirement already satisfied: python-dateutil>=2.7.3 in /usr/local/lib/python3.7/dist-packages (from pandas->shap) (2.8.2)\n",
            "Requirement already satisfied: pytz>=2017.2 in /usr/local/lib/python3.7/dist-packages (from pandas->shap) (2018.9)\n",
            "Requirement already satisfied: six>=1.5 in /usr/local/lib/python3.7/dist-packages (from python-dateutil>=2.7.3->pandas->shap) (1.15.0)\n",
            "Requirement already satisfied: joblib>=0.11 in /usr/local/lib/python3.7/dist-packages (from scikit-learn->shap) (1.1.0)\n",
            "Building wheels for collected packages: shap\n",
            "  Building wheel for shap (PEP 517) ... \u001b[?25l\u001b[?25hdone\n",
            "  Created wheel for shap: filename=shap-0.40.0-cp37-cp37m-linux_x86_64.whl size=509241 sha256=960f898a8c09aeb92cd8d12066c33265e262421e9b3c46f9133a4e6821e099a5\n",
            "  Stored in directory: /root/.cache/pip/wheels/ec/35/84/e304841ac4b910bc95fe9a6e5302eb2507b4333728851dcbfb\n",
            "Successfully built shap\n",
            "Installing collected packages: slicer, shap\n",
            "Successfully installed shap-0.40.0 slicer-0.0.7\n"
          ]
        }
      ]
    },
    {
      "cell_type": "code",
      "metadata": {
        "id": "t8lWWr0mYRCR"
      },
      "source": [
        "import numpy as np\n",
        "import pandas as pd\n",
        "import matplotlib as mpl\n",
        "import matplotlib.pyplot as plt\n",
        "import seaborn as sns\n",
        "import shap\n",
        "import xgboost\n",
        "\n",
        "from sklearn.preprocessing import LabelEncoder\n",
        "from sklearn.preprocessing import StandardScaler\n",
        "from sklearn.model_selection import train_test_split\n",
        "from sklearn.model_selection import KFold, cross_val_score\n",
        "from sklearn.neighbors import KNeighborsClassifier, DistanceMetric\n",
        "from sklearn.tree import DecisionTreeClassifier, plot_tree\n",
        "from sklearn.linear_model import LogisticRegression, SGDClassifier\n",
        "from sklearn.metrics import accuracy_score, classification_report, confusion_matrix, ConfusionMatrixDisplay, SCORERS\n",
        "from sklearn.ensemble import RandomForestClassifier\n",
        "from sklearn.metrics import ConfusionMatrixDisplay"
      ],
      "execution_count": 2,
      "outputs": []
    },
    {
      "cell_type": "code",
      "metadata": {
        "id": "ZFDuga0WinHn"
      },
      "source": [
        "pd.options.display.max_columns = None"
      ],
      "execution_count": 3,
      "outputs": []
    },
    {
      "cell_type": "code",
      "metadata": {
        "id": "14YywrkFiqLq"
      },
      "source": [
        "sns.set(font_scale=1.2)\n",
        "sns.set_style({'font.family': 'serif',\n",
        "               'fontname': 'Times New Roman'})"
      ],
      "execution_count": 4,
      "outputs": []
    },
    {
      "cell_type": "markdown",
      "metadata": {
        "id": "WGcYL_WxX6ii"
      },
      "source": [
        "#2. Carregando Dados"
      ]
    },
    {
      "cell_type": "code",
      "metadata": {
        "colab": {
          "base_uri": "https://localhost:8080/",
          "height": 0
        },
        "id": "CpevbxR1ZdKq",
        "outputId": "6b8c9bf8-373f-4fa4-dd6e-b842eabddc61"
      },
      "source": [
        "df_train = pd.read_csv('train.csv', sep=',')\n",
        "df_train.head(2)"
      ],
      "execution_count": 5,
      "outputs": [
        {
          "output_type": "execute_result",
          "data": {
            "text/html": [
              "<div>\n",
              "<style scoped>\n",
              "    .dataframe tbody tr th:only-of-type {\n",
              "        vertical-align: middle;\n",
              "    }\n",
              "\n",
              "    .dataframe tbody tr th {\n",
              "        vertical-align: top;\n",
              "    }\n",
              "\n",
              "    .dataframe thead th {\n",
              "        text-align: right;\n",
              "    }\n",
              "</style>\n",
              "<table border=\"1\" class=\"dataframe\">\n",
              "  <thead>\n",
              "    <tr style=\"text-align: right;\">\n",
              "      <th></th>\n",
              "      <th>id</th>\n",
              "      <th>Gender</th>\n",
              "      <th>Age</th>\n",
              "      <th>Driving_License</th>\n",
              "      <th>Region_Code</th>\n",
              "      <th>Previously_Insured</th>\n",
              "      <th>Vehicle_Age</th>\n",
              "      <th>Vehicle_Damage</th>\n",
              "      <th>Annual_Premium</th>\n",
              "      <th>Policy_Sales_Channel</th>\n",
              "      <th>Vintage</th>\n",
              "      <th>Response</th>\n",
              "    </tr>\n",
              "  </thead>\n",
              "  <tbody>\n",
              "    <tr>\n",
              "      <th>0</th>\n",
              "      <td>1</td>\n",
              "      <td>Male</td>\n",
              "      <td>44</td>\n",
              "      <td>1</td>\n",
              "      <td>28.0</td>\n",
              "      <td>0</td>\n",
              "      <td>&gt; 2 Years</td>\n",
              "      <td>Yes</td>\n",
              "      <td>40454.0</td>\n",
              "      <td>26.0</td>\n",
              "      <td>217</td>\n",
              "      <td>1</td>\n",
              "    </tr>\n",
              "    <tr>\n",
              "      <th>1</th>\n",
              "      <td>2</td>\n",
              "      <td>Male</td>\n",
              "      <td>76</td>\n",
              "      <td>1</td>\n",
              "      <td>3.0</td>\n",
              "      <td>0</td>\n",
              "      <td>1-2 Year</td>\n",
              "      <td>No</td>\n",
              "      <td>33536.0</td>\n",
              "      <td>26.0</td>\n",
              "      <td>183</td>\n",
              "      <td>0</td>\n",
              "    </tr>\n",
              "  </tbody>\n",
              "</table>\n",
              "</div>"
            ],
            "text/plain": [
              "   id Gender  Age  Driving_License  Region_Code  Previously_Insured  \\\n",
              "0   1   Male   44                1         28.0                   0   \n",
              "1   2   Male   76                1          3.0                   0   \n",
              "\n",
              "  Vehicle_Age Vehicle_Damage  Annual_Premium  Policy_Sales_Channel  Vintage  \\\n",
              "0   > 2 Years            Yes         40454.0                  26.0      217   \n",
              "1    1-2 Year             No         33536.0                  26.0      183   \n",
              "\n",
              "   Response  \n",
              "0         1  \n",
              "1         0  "
            ]
          },
          "metadata": {},
          "execution_count": 5
        }
      ]
    },
    {
      "cell_type": "markdown",
      "metadata": {
        "id": "NRxDxXEUX-Fo"
      },
      "source": [
        "#3. Análise Exploratoria"
      ]
    },
    {
      "cell_type": "code",
      "metadata": {
        "colab": {
          "base_uri": "https://localhost:8080/"
        },
        "id": "yzykaduDoi0i",
        "outputId": "7f52351b-bc4b-4c7c-fc1b-486a474fdaa1"
      },
      "source": [
        "df_train.info()"
      ],
      "execution_count": 6,
      "outputs": [
        {
          "output_type": "stream",
          "name": "stdout",
          "text": [
            "<class 'pandas.core.frame.DataFrame'>\n",
            "RangeIndex: 381109 entries, 0 to 381108\n",
            "Data columns (total 12 columns):\n",
            " #   Column                Non-Null Count   Dtype  \n",
            "---  ------                --------------   -----  \n",
            " 0   id                    381109 non-null  int64  \n",
            " 1   Gender                381109 non-null  object \n",
            " 2   Age                   381109 non-null  int64  \n",
            " 3   Driving_License       381109 non-null  int64  \n",
            " 4   Region_Code           381109 non-null  float64\n",
            " 5   Previously_Insured    381109 non-null  int64  \n",
            " 6   Vehicle_Age           381109 non-null  object \n",
            " 7   Vehicle_Damage        381109 non-null  object \n",
            " 8   Annual_Premium        381109 non-null  float64\n",
            " 9   Policy_Sales_Channel  381109 non-null  float64\n",
            " 10  Vintage               381109 non-null  int64  \n",
            " 11  Response              381109 non-null  int64  \n",
            "dtypes: float64(3), int64(6), object(3)\n",
            "memory usage: 34.9+ MB\n"
          ]
        }
      ]
    },
    {
      "cell_type": "code",
      "metadata": {
        "colab": {
          "base_uri": "https://localhost:8080/",
          "height": 0
        },
        "id": "3n4HW0JDalZs",
        "outputId": "4aa2e13a-de92-4d4e-da7f-5de81cd0eda9"
      },
      "source": [
        "df_train.head()"
      ],
      "execution_count": 7,
      "outputs": [
        {
          "output_type": "execute_result",
          "data": {
            "text/html": [
              "<div>\n",
              "<style scoped>\n",
              "    .dataframe tbody tr th:only-of-type {\n",
              "        vertical-align: middle;\n",
              "    }\n",
              "\n",
              "    .dataframe tbody tr th {\n",
              "        vertical-align: top;\n",
              "    }\n",
              "\n",
              "    .dataframe thead th {\n",
              "        text-align: right;\n",
              "    }\n",
              "</style>\n",
              "<table border=\"1\" class=\"dataframe\">\n",
              "  <thead>\n",
              "    <tr style=\"text-align: right;\">\n",
              "      <th></th>\n",
              "      <th>id</th>\n",
              "      <th>Gender</th>\n",
              "      <th>Age</th>\n",
              "      <th>Driving_License</th>\n",
              "      <th>Region_Code</th>\n",
              "      <th>Previously_Insured</th>\n",
              "      <th>Vehicle_Age</th>\n",
              "      <th>Vehicle_Damage</th>\n",
              "      <th>Annual_Premium</th>\n",
              "      <th>Policy_Sales_Channel</th>\n",
              "      <th>Vintage</th>\n",
              "      <th>Response</th>\n",
              "    </tr>\n",
              "  </thead>\n",
              "  <tbody>\n",
              "    <tr>\n",
              "      <th>0</th>\n",
              "      <td>1</td>\n",
              "      <td>Male</td>\n",
              "      <td>44</td>\n",
              "      <td>1</td>\n",
              "      <td>28.0</td>\n",
              "      <td>0</td>\n",
              "      <td>&gt; 2 Years</td>\n",
              "      <td>Yes</td>\n",
              "      <td>40454.0</td>\n",
              "      <td>26.0</td>\n",
              "      <td>217</td>\n",
              "      <td>1</td>\n",
              "    </tr>\n",
              "    <tr>\n",
              "      <th>1</th>\n",
              "      <td>2</td>\n",
              "      <td>Male</td>\n",
              "      <td>76</td>\n",
              "      <td>1</td>\n",
              "      <td>3.0</td>\n",
              "      <td>0</td>\n",
              "      <td>1-2 Year</td>\n",
              "      <td>No</td>\n",
              "      <td>33536.0</td>\n",
              "      <td>26.0</td>\n",
              "      <td>183</td>\n",
              "      <td>0</td>\n",
              "    </tr>\n",
              "    <tr>\n",
              "      <th>2</th>\n",
              "      <td>3</td>\n",
              "      <td>Male</td>\n",
              "      <td>47</td>\n",
              "      <td>1</td>\n",
              "      <td>28.0</td>\n",
              "      <td>0</td>\n",
              "      <td>&gt; 2 Years</td>\n",
              "      <td>Yes</td>\n",
              "      <td>38294.0</td>\n",
              "      <td>26.0</td>\n",
              "      <td>27</td>\n",
              "      <td>1</td>\n",
              "    </tr>\n",
              "    <tr>\n",
              "      <th>3</th>\n",
              "      <td>4</td>\n",
              "      <td>Male</td>\n",
              "      <td>21</td>\n",
              "      <td>1</td>\n",
              "      <td>11.0</td>\n",
              "      <td>1</td>\n",
              "      <td>&lt; 1 Year</td>\n",
              "      <td>No</td>\n",
              "      <td>28619.0</td>\n",
              "      <td>152.0</td>\n",
              "      <td>203</td>\n",
              "      <td>0</td>\n",
              "    </tr>\n",
              "    <tr>\n",
              "      <th>4</th>\n",
              "      <td>5</td>\n",
              "      <td>Female</td>\n",
              "      <td>29</td>\n",
              "      <td>1</td>\n",
              "      <td>41.0</td>\n",
              "      <td>1</td>\n",
              "      <td>&lt; 1 Year</td>\n",
              "      <td>No</td>\n",
              "      <td>27496.0</td>\n",
              "      <td>152.0</td>\n",
              "      <td>39</td>\n",
              "      <td>0</td>\n",
              "    </tr>\n",
              "  </tbody>\n",
              "</table>\n",
              "</div>"
            ],
            "text/plain": [
              "   id  Gender  Age  Driving_License  Region_Code  Previously_Insured  \\\n",
              "0   1    Male   44                1         28.0                   0   \n",
              "1   2    Male   76                1          3.0                   0   \n",
              "2   3    Male   47                1         28.0                   0   \n",
              "3   4    Male   21                1         11.0                   1   \n",
              "4   5  Female   29                1         41.0                   1   \n",
              "\n",
              "  Vehicle_Age Vehicle_Damage  Annual_Premium  Policy_Sales_Channel  Vintage  \\\n",
              "0   > 2 Years            Yes         40454.0                  26.0      217   \n",
              "1    1-2 Year             No         33536.0                  26.0      183   \n",
              "2   > 2 Years            Yes         38294.0                  26.0       27   \n",
              "3    < 1 Year             No         28619.0                 152.0      203   \n",
              "4    < 1 Year             No         27496.0                 152.0       39   \n",
              "\n",
              "   Response  \n",
              "0         1  \n",
              "1         0  \n",
              "2         1  \n",
              "3         0  \n",
              "4         0  "
            ]
          },
          "metadata": {},
          "execution_count": 7
        }
      ]
    },
    {
      "cell_type": "code",
      "metadata": {
        "colab": {
          "base_uri": "https://localhost:8080/",
          "height": 0
        },
        "id": "gC0MpwNO0T7z",
        "outputId": "ebf53ec0-8d0b-4d98-90c2-9daba6156d7f"
      },
      "source": [
        "#Princiapis categorias\n",
        "categoricals = df_train.select_dtypes(exclude=[np.number])\n",
        "categoricals.describe()"
      ],
      "execution_count": 8,
      "outputs": [
        {
          "output_type": "execute_result",
          "data": {
            "text/html": [
              "<div>\n",
              "<style scoped>\n",
              "    .dataframe tbody tr th:only-of-type {\n",
              "        vertical-align: middle;\n",
              "    }\n",
              "\n",
              "    .dataframe tbody tr th {\n",
              "        vertical-align: top;\n",
              "    }\n",
              "\n",
              "    .dataframe thead th {\n",
              "        text-align: right;\n",
              "    }\n",
              "</style>\n",
              "<table border=\"1\" class=\"dataframe\">\n",
              "  <thead>\n",
              "    <tr style=\"text-align: right;\">\n",
              "      <th></th>\n",
              "      <th>Gender</th>\n",
              "      <th>Vehicle_Age</th>\n",
              "      <th>Vehicle_Damage</th>\n",
              "    </tr>\n",
              "  </thead>\n",
              "  <tbody>\n",
              "    <tr>\n",
              "      <th>count</th>\n",
              "      <td>381109</td>\n",
              "      <td>381109</td>\n",
              "      <td>381109</td>\n",
              "    </tr>\n",
              "    <tr>\n",
              "      <th>unique</th>\n",
              "      <td>2</td>\n",
              "      <td>3</td>\n",
              "      <td>2</td>\n",
              "    </tr>\n",
              "    <tr>\n",
              "      <th>top</th>\n",
              "      <td>Male</td>\n",
              "      <td>1-2 Year</td>\n",
              "      <td>Yes</td>\n",
              "    </tr>\n",
              "    <tr>\n",
              "      <th>freq</th>\n",
              "      <td>206089</td>\n",
              "      <td>200316</td>\n",
              "      <td>192413</td>\n",
              "    </tr>\n",
              "  </tbody>\n",
              "</table>\n",
              "</div>"
            ],
            "text/plain": [
              "        Gender Vehicle_Age Vehicle_Damage\n",
              "count   381109      381109         381109\n",
              "unique       2           3              2\n",
              "top       Male    1-2 Year            Yes\n",
              "freq    206089      200316         192413"
            ]
          },
          "metadata": {},
          "execution_count": 8
        }
      ]
    },
    {
      "cell_type": "code",
      "metadata": {
        "colab": {
          "base_uri": "https://localhost:8080/"
        },
        "id": "YUdL5t3tu-s2",
        "outputId": "e344ac1f-4d87-4cee-f50d-436fe66bf52b"
      },
      "source": [
        "#Categorias por variavel\n",
        "n = categoricals\n",
        "for c in n.columns:\n",
        "    print('{:<14}'.format(c), df_train[c].unique())"
      ],
      "execution_count": 9,
      "outputs": [
        {
          "output_type": "stream",
          "name": "stdout",
          "text": [
            "Gender         ['Male' 'Female']\n",
            "Vehicle_Age    ['> 2 Years' '1-2 Year' '< 1 Year']\n",
            "Vehicle_Damage ['Yes' 'No']\n"
          ]
        }
      ]
    },
    {
      "cell_type": "code",
      "metadata": {
        "colab": {
          "base_uri": "https://localhost:8080/",
          "height": 0
        },
        "id": "UfHhM5-Akj3Z",
        "outputId": "bbe65692-9360-4162-a4e0-0bb26b9e814d"
      },
      "source": [
        "plt.figure(figsize = (12,5))\n",
        "\n",
        "ax = sns.countplot(x = 'Vehicle_Age', \n",
        "                   data = df_train, \n",
        "                   order = df_train['Vehicle_Age'].value_counts().index)\n",
        "\n",
        "ax.set_title('Idade do Veiculo')\n",
        "ax.set_xlabel('Idade')\n",
        "ax.set_ylabel('Qtde')\n",
        "\n",
        "plt.show()"
      ],
      "execution_count": 10,
      "outputs": [
        {
          "output_type": "display_data",
          "data": {
            "image/png": "[encoded data removed]",
            "text/plain": [
              "<Figure size 864x360 with 1 Axes>"
            ]
          },
          "metadata": {}
        }
      ]
    },
    {
      "cell_type": "code",
      "metadata": {
        "colab": {
          "base_uri": "https://localhost:8080/",
          "height": 0
        },
        "id": "xYqmJB6MGBWA",
        "outputId": "0707143b-5407-402f-8e0a-906e49e401ab"
      },
      "source": [
        "plt.figure(figsize = (12,5))\n",
        "\n",
        "ax = sns.countplot(x = 'Gender', \n",
        "                   data = df_train, \n",
        "                   order = df_train['Gender'].value_counts().index)\n",
        "\n",
        "ax.set_title('Clientes por Genero')\n",
        "ax.set_xlabel('Gender')\n",
        "ax.set_ylabel('Qtde')\n",
        "\n",
        "plt.show()"
      ],
      "execution_count": 11,
      "outputs": [
        {
          "output_type": "display_data",
          "data": {
            "image/png": "[encoded data removed]",
            "text/plain": [
              "<Figure size 864x360 with 1 Axes>"
            ]
          },
          "metadata": {}
        }
      ]
    },
    {
      "cell_type": "code",
      "metadata": {
        "colab": {
          "base_uri": "https://localhost:8080/",
          "height": 0
        },
        "id": "6hUQgywAlH-x",
        "outputId": "6b6e55ce-c152-4b05-b079-4c7d3614d62b"
      },
      "source": [
        "plt.figure(figsize = (35,10))\n",
        "\n",
        "ax = sns.countplot(x = 'Vehicle_Damage', \n",
        "                   data = df_train, \n",
        "                   order = df_train['Vehicle_Damage'].value_counts().index)\n",
        "\n",
        "ax.set_title('Veiculos Danificados')\n",
        "ax.set_xlabel('Damage')\n",
        "ax.set_ylabel('Qtde')\n",
        "\n",
        "plt.show()"
      ],
      "execution_count": 12,
      "outputs": [
        {
          "output_type": "display_data",
          "data": {
            "image/png": "[encoded data removed]",
            "text/plain": [
              "<Figure size 2520x720 with 1 Axes>"
            ]
          },
          "metadata": {}
        }
      ]
    },
    {
      "cell_type": "code",
      "metadata": {
        "colab": {
          "base_uri": "https://localhost:8080/",
          "height": 0
        },
        "id": "E9Ogf1vMJNcT",
        "outputId": "aeae6baa-b3a7-4771-d7db-b5dd44c06aaa"
      },
      "source": [
        "df_train.head(2)"
      ],
      "execution_count": 13,
      "outputs": [
        {
          "output_type": "execute_result",
          "data": {
            "text/html": [
              "<div>\n",
              "<style scoped>\n",
              "    .dataframe tbody tr th:only-of-type {\n",
              "        vertical-align: middle;\n",
              "    }\n",
              "\n",
              "    .dataframe tbody tr th {\n",
              "        vertical-align: top;\n",
              "    }\n",
              "\n",
              "    .dataframe thead th {\n",
              "        text-align: right;\n",
              "    }\n",
              "</style>\n",
              "<table border=\"1\" class=\"dataframe\">\n",
              "  <thead>\n",
              "    <tr style=\"text-align: right;\">\n",
              "      <th></th>\n",
              "      <th>id</th>\n",
              "      <th>Gender</th>\n",
              "      <th>Age</th>\n",
              "      <th>Driving_License</th>\n",
              "      <th>Region_Code</th>\n",
              "      <th>Previously_Insured</th>\n",
              "      <th>Vehicle_Age</th>\n",
              "      <th>Vehicle_Damage</th>\n",
              "      <th>Annual_Premium</th>\n",
              "      <th>Policy_Sales_Channel</th>\n",
              "      <th>Vintage</th>\n",
              "      <th>Response</th>\n",
              "    </tr>\n",
              "  </thead>\n",
              "  <tbody>\n",
              "    <tr>\n",
              "      <th>0</th>\n",
              "      <td>1</td>\n",
              "      <td>Male</td>\n",
              "      <td>44</td>\n",
              "      <td>1</td>\n",
              "      <td>28.0</td>\n",
              "      <td>0</td>\n",
              "      <td>&gt; 2 Years</td>\n",
              "      <td>Yes</td>\n",
              "      <td>40454.0</td>\n",
              "      <td>26.0</td>\n",
              "      <td>217</td>\n",
              "      <td>1</td>\n",
              "    </tr>\n",
              "    <tr>\n",
              "      <th>1</th>\n",
              "      <td>2</td>\n",
              "      <td>Male</td>\n",
              "      <td>76</td>\n",
              "      <td>1</td>\n",
              "      <td>3.0</td>\n",
              "      <td>0</td>\n",
              "      <td>1-2 Year</td>\n",
              "      <td>No</td>\n",
              "      <td>33536.0</td>\n",
              "      <td>26.0</td>\n",
              "      <td>183</td>\n",
              "      <td>0</td>\n",
              "    </tr>\n",
              "  </tbody>\n",
              "</table>\n",
              "</div>"
            ],
            "text/plain": [
              "   id Gender  Age  Driving_License  Region_Code  Previously_Insured  \\\n",
              "0   1   Male   44                1         28.0                   0   \n",
              "1   2   Male   76                1          3.0                   0   \n",
              "\n",
              "  Vehicle_Age Vehicle_Damage  Annual_Premium  Policy_Sales_Channel  Vintage  \\\n",
              "0   > 2 Years            Yes         40454.0                  26.0      217   \n",
              "1    1-2 Year             No         33536.0                  26.0      183   \n",
              "\n",
              "   Response  \n",
              "0         1  \n",
              "1         0  "
            ]
          },
          "metadata": {},
          "execution_count": 13
        }
      ]
    },
    {
      "cell_type": "code",
      "metadata": {
        "colab": {
          "base_uri": "https://localhost:8080/",
          "height": 0
        },
        "id": "XBuQCF3uuiKm",
        "outputId": "64ee6d05-fc9d-4bc3-c5bd-d44b96d2551b"
      },
      "source": [
        "total = df_train.isnull().sum().sort_values(ascending=False)\n",
        "percent = (df_train.isnull().sum()/df_train.isnull().count()).sort_values(ascending=False)\n",
        "null_data = pd.concat([total, percent], axis=1, keys=['Total', 'Percent'])\n",
        "null_data.head(20)"
      ],
      "execution_count": 14,
      "outputs": [
        {
          "output_type": "execute_result",
          "data": {
            "text/html": [
              "<div>\n",
              "<style scoped>\n",
              "    .dataframe tbody tr th:only-of-type {\n",
              "        vertical-align: middle;\n",
              "    }\n",
              "\n",
              "    .dataframe tbody tr th {\n",
              "        vertical-align: top;\n",
              "    }\n",
              "\n",
              "    .dataframe thead th {\n",
              "        text-align: right;\n",
              "    }\n",
              "</style>\n",
              "<table border=\"1\" class=\"dataframe\">\n",
              "  <thead>\n",
              "    <tr style=\"text-align: right;\">\n",
              "      <th></th>\n",
              "      <th>Total</th>\n",
              "      <th>Percent</th>\n",
              "    </tr>\n",
              "  </thead>\n",
              "  <tbody>\n",
              "    <tr>\n",
              "      <th>Response</th>\n",
              "      <td>0</td>\n",
              "      <td>0.0</td>\n",
              "    </tr>\n",
              "    <tr>\n",
              "      <th>Vintage</th>\n",
              "      <td>0</td>\n",
              "      <td>0.0</td>\n",
              "    </tr>\n",
              "    <tr>\n",
              "      <th>Policy_Sales_Channel</th>\n",
              "      <td>0</td>\n",
              "      <td>0.0</td>\n",
              "    </tr>\n",
              "    <tr>\n",
              "      <th>Annual_Premium</th>\n",
              "      <td>0</td>\n",
              "      <td>0.0</td>\n",
              "    </tr>\n",
              "    <tr>\n",
              "      <th>Vehicle_Damage</th>\n",
              "      <td>0</td>\n",
              "      <td>0.0</td>\n",
              "    </tr>\n",
              "    <tr>\n",
              "      <th>Vehicle_Age</th>\n",
              "      <td>0</td>\n",
              "      <td>0.0</td>\n",
              "    </tr>\n",
              "    <tr>\n",
              "      <th>Previously_Insured</th>\n",
              "      <td>0</td>\n",
              "      <td>0.0</td>\n",
              "    </tr>\n",
              "    <tr>\n",
              "      <th>Region_Code</th>\n",
              "      <td>0</td>\n",
              "      <td>0.0</td>\n",
              "    </tr>\n",
              "    <tr>\n",
              "      <th>Driving_License</th>\n",
              "      <td>0</td>\n",
              "      <td>0.0</td>\n",
              "    </tr>\n",
              "    <tr>\n",
              "      <th>Age</th>\n",
              "      <td>0</td>\n",
              "      <td>0.0</td>\n",
              "    </tr>\n",
              "    <tr>\n",
              "      <th>Gender</th>\n",
              "      <td>0</td>\n",
              "      <td>0.0</td>\n",
              "    </tr>\n",
              "    <tr>\n",
              "      <th>id</th>\n",
              "      <td>0</td>\n",
              "      <td>0.0</td>\n",
              "    </tr>\n",
              "  </tbody>\n",
              "</table>\n",
              "</div>"
            ],
            "text/plain": [
              "                      Total  Percent\n",
              "Response                  0      0.0\n",
              "Vintage                   0      0.0\n",
              "Policy_Sales_Channel      0      0.0\n",
              "Annual_Premium            0      0.0\n",
              "Vehicle_Damage            0      0.0\n",
              "Vehicle_Age               0      0.0\n",
              "Previously_Insured        0      0.0\n",
              "Region_Code               0      0.0\n",
              "Driving_License           0      0.0\n",
              "Age                       0      0.0\n",
              "Gender                    0      0.0\n",
              "id                        0      0.0"
            ]
          },
          "metadata": {},
          "execution_count": 14
        }
      ]
    },
    {
      "cell_type": "code",
      "metadata": {
        "id": "42ZtmiyqsK9q",
        "colab": {
          "base_uri": "https://localhost:8080/",
          "height": 0
        },
        "outputId": "6c701c8f-e398-470c-ca0c-6484374f7bf1"
      },
      "source": [
        "resposta = df_train['Response'].value_counts().reset_index()\n",
        "resposta = resposta.rename(columns={'index': 'resposta', 'Response': 'qtde'})\n",
        "resposta"
      ],
      "execution_count": 15,
      "outputs": [
        {
          "output_type": "execute_result",
          "data": {
            "text/html": [
              "<div>\n",
              "<style scoped>\n",
              "    .dataframe tbody tr th:only-of-type {\n",
              "        vertical-align: middle;\n",
              "    }\n",
              "\n",
              "    .dataframe tbody tr th {\n",
              "        vertical-align: top;\n",
              "    }\n",
              "\n",
              "    .dataframe thead th {\n",
              "        text-align: right;\n",
              "    }\n",
              "</style>\n",
              "<table border=\"1\" class=\"dataframe\">\n",
              "  <thead>\n",
              "    <tr style=\"text-align: right;\">\n",
              "      <th></th>\n",
              "      <th>resposta</th>\n",
              "      <th>qtde</th>\n",
              "    </tr>\n",
              "  </thead>\n",
              "  <tbody>\n",
              "    <tr>\n",
              "      <th>0</th>\n",
              "      <td>0</td>\n",
              "      <td>334399</td>\n",
              "    </tr>\n",
              "    <tr>\n",
              "      <th>1</th>\n",
              "      <td>1</td>\n",
              "      <td>46710</td>\n",
              "    </tr>\n",
              "  </tbody>\n",
              "</table>\n",
              "</div>"
            ],
            "text/plain": [
              "   resposta    qtde\n",
              "0         0  334399\n",
              "1         1   46710"
            ]
          },
          "metadata": {},
          "execution_count": 15
        }
      ]
    },
    {
      "cell_type": "code",
      "metadata": {
        "colab": {
          "base_uri": "https://localhost:8080/",
          "height": 0
        },
        "id": "JKr80KWPhkr5",
        "outputId": "b4c7142e-8ef6-4fca-cf2d-a4f841cf5522"
      },
      "source": [
        "correlacao = df_train.corr()\n",
        "correlacao"
      ],
      "execution_count": 16,
      "outputs": [
        {
          "output_type": "execute_result",
          "data": {
            "text/html": [
              "<div>\n",
              "<style scoped>\n",
              "    .dataframe tbody tr th:only-of-type {\n",
              "        vertical-align: middle;\n",
              "    }\n",
              "\n",
              "    .dataframe tbody tr th {\n",
              "        vertical-align: top;\n",
              "    }\n",
              "\n",
              "    .dataframe thead th {\n",
              "        text-align: right;\n",
              "    }\n",
              "</style>\n",
              "<table border=\"1\" class=\"dataframe\">\n",
              "  <thead>\n",
              "    <tr style=\"text-align: right;\">\n",
              "      <th></th>\n",
              "      <th>id</th>\n",
              "      <th>Age</th>\n",
              "      <th>Driving_License</th>\n",
              "      <th>Region_Code</th>\n",
              "      <th>Previously_Insured</th>\n",
              "      <th>Annual_Premium</th>\n",
              "      <th>Policy_Sales_Channel</th>\n",
              "      <th>Vintage</th>\n",
              "      <th>Response</th>\n",
              "    </tr>\n",
              "  </thead>\n",
              "  <tbody>\n",
              "    <tr>\n",
              "      <th>id</th>\n",
              "      <td>1.000000</td>\n",
              "      <td>0.001561</td>\n",
              "      <td>-0.000564</td>\n",
              "      <td>-0.000572</td>\n",
              "      <td>0.002457</td>\n",
              "      <td>0.003027</td>\n",
              "      <td>-0.002837</td>\n",
              "      <td>-0.000630</td>\n",
              "      <td>-0.001368</td>\n",
              "    </tr>\n",
              "    <tr>\n",
              "      <th>Age</th>\n",
              "      <td>0.001561</td>\n",
              "      <td>1.000000</td>\n",
              "      <td>-0.079782</td>\n",
              "      <td>0.042574</td>\n",
              "      <td>-0.254682</td>\n",
              "      <td>0.067507</td>\n",
              "      <td>-0.577826</td>\n",
              "      <td>-0.001264</td>\n",
              "      <td>0.111147</td>\n",
              "    </tr>\n",
              "    <tr>\n",
              "      <th>Driving_License</th>\n",
              "      <td>-0.000564</td>\n",
              "      <td>-0.079782</td>\n",
              "      <td>1.000000</td>\n",
              "      <td>-0.001081</td>\n",
              "      <td>0.014969</td>\n",
              "      <td>-0.011906</td>\n",
              "      <td>0.043731</td>\n",
              "      <td>-0.000848</td>\n",
              "      <td>0.010155</td>\n",
              "    </tr>\n",
              "    <tr>\n",
              "      <th>Region_Code</th>\n",
              "      <td>-0.000572</td>\n",
              "      <td>0.042574</td>\n",
              "      <td>-0.001081</td>\n",
              "      <td>1.000000</td>\n",
              "      <td>-0.024659</td>\n",
              "      <td>-0.010588</td>\n",
              "      <td>-0.042420</td>\n",
              "      <td>-0.002750</td>\n",
              "      <td>0.010570</td>\n",
              "    </tr>\n",
              "    <tr>\n",
              "      <th>Previously_Insured</th>\n",
              "      <td>0.002457</td>\n",
              "      <td>-0.254682</td>\n",
              "      <td>0.014969</td>\n",
              "      <td>-0.024659</td>\n",
              "      <td>1.000000</td>\n",
              "      <td>0.004269</td>\n",
              "      <td>0.219381</td>\n",
              "      <td>0.002537</td>\n",
              "      <td>-0.341170</td>\n",
              "    </tr>\n",
              "    <tr>\n",
              "      <th>Annual_Premium</th>\n",
              "      <td>0.003027</td>\n",
              "      <td>0.067507</td>\n",
              "      <td>-0.011906</td>\n",
              "      <td>-0.010588</td>\n",
              "      <td>0.004269</td>\n",
              "      <td>1.000000</td>\n",
              "      <td>-0.113247</td>\n",
              "      <td>-0.000608</td>\n",
              "      <td>0.022575</td>\n",
              "    </tr>\n",
              "    <tr>\n",
              "      <th>Policy_Sales_Channel</th>\n",
              "      <td>-0.002837</td>\n",
              "      <td>-0.577826</td>\n",
              "      <td>0.043731</td>\n",
              "      <td>-0.042420</td>\n",
              "      <td>0.219381</td>\n",
              "      <td>-0.113247</td>\n",
              "      <td>1.000000</td>\n",
              "      <td>0.000002</td>\n",
              "      <td>-0.139042</td>\n",
              "    </tr>\n",
              "    <tr>\n",
              "      <th>Vintage</th>\n",
              "      <td>-0.000630</td>\n",
              "      <td>-0.001264</td>\n",
              "      <td>-0.000848</td>\n",
              "      <td>-0.002750</td>\n",
              "      <td>0.002537</td>\n",
              "      <td>-0.000608</td>\n",
              "      <td>0.000002</td>\n",
              "      <td>1.000000</td>\n",
              "      <td>-0.001050</td>\n",
              "    </tr>\n",
              "    <tr>\n",
              "      <th>Response</th>\n",
              "      <td>-0.001368</td>\n",
              "      <td>0.111147</td>\n",
              "      <td>0.010155</td>\n",
              "      <td>0.010570</td>\n",
              "      <td>-0.341170</td>\n",
              "      <td>0.022575</td>\n",
              "      <td>-0.139042</td>\n",
              "      <td>-0.001050</td>\n",
              "      <td>1.000000</td>\n",
              "    </tr>\n",
              "  </tbody>\n",
              "</table>\n",
              "</div>"
            ],
            "text/plain": [
              "                            id       Age  Driving_License  Region_Code  \\\n",
              "id                    1.000000  0.001561        -0.000564    -0.000572   \n",
              "Age                   0.001561  1.000000        -0.079782     0.042574   \n",
              "Driving_License      -0.000564 -0.079782         1.000000    -0.001081   \n",
              "Region_Code          -0.000572  0.042574        -0.001081     1.000000   \n",
              "Previously_Insured    0.002457 -0.254682         0.014969    -0.024659   \n",
              "Annual_Premium        0.003027  0.067507        -0.011906    -0.010588   \n",
              "Policy_Sales_Channel -0.002837 -0.577826         0.043731    -0.042420   \n",
              "Vintage              -0.000630 -0.001264        -0.000848    -0.002750   \n",
              "Response             -0.001368  0.111147         0.010155     0.010570   \n",
              "\n",
              "                      Previously_Insured  Annual_Premium  \\\n",
              "id                              0.002457        0.003027   \n",
              "Age                            -0.254682        0.067507   \n",
              "Driving_License                 0.014969       -0.011906   \n",
              "Region_Code                    -0.024659       -0.010588   \n",
              "Previously_Insured              1.000000        0.004269   \n",
              "Annual_Premium                  0.004269        1.000000   \n",
              "Policy_Sales_Channel            0.219381       -0.113247   \n",
              "Vintage                         0.002537       -0.000608   \n",
              "Response                       -0.341170        0.022575   \n",
              "\n",
              "                      Policy_Sales_Channel   Vintage  Response  \n",
              "id                               -0.002837 -0.000630 -0.001368  \n",
              "Age                              -0.577826 -0.001264  0.111147  \n",
              "Driving_License                   0.043731 -0.000848  0.010155  \n",
              "Region_Code                      -0.042420 -0.002750  0.010570  \n",
              "Previously_Insured                0.219381  0.002537 -0.341170  \n",
              "Annual_Premium                   -0.113247 -0.000608  0.022575  \n",
              "Policy_Sales_Channel              1.000000  0.000002 -0.139042  \n",
              "Vintage                           0.000002  1.000000 -0.001050  \n",
              "Response                         -0.139042 -0.001050  1.000000  "
            ]
          },
          "metadata": {},
          "execution_count": 16
        }
      ]
    },
    {
      "cell_type": "code",
      "metadata": {
        "colab": {
          "base_uri": "https://localhost:8080/",
          "height": 0
        },
        "id": "vdUCIIQ7HsTO",
        "outputId": "b3578bf8-0466-4403-ffb9-66dc43218a25"
      },
      "source": [
        "fet_set = df_train.drop(labels=['id','Response'],axis=1)\n",
        "def plot_diag_heatmap(data):\n",
        "    corr = data.corr()\n",
        "    mask = np.triu(np.ones_like(corr, dtype=bool))\n",
        "    f, ax = plt.subplots(figsize=(10, 12))\n",
        "    sns.heatmap(corr, mask=mask, cmap='YlGnBu', center=0,square=True, linewidths=1, cbar_kws={\"shrink\": 1.0})\n",
        "plot_diag_heatmap(fet_set)"
      ],
      "execution_count": 17,
      "outputs": [
        {
          "output_type": "display_data",
          "data": {
            "image/png": "[encoded data removed]",
            "text/plain": [
              "<Figure size 720x864 with 2 Axes>"
            ]
          },
          "metadata": {}
        }
      ]
    },
    {
      "cell_type": "markdown",
      "metadata": {
        "id": "vXXoSE7Pff7Y"
      },
      "source": [
        "#4. Pré-processamento"
      ]
    },
    {
      "cell_type": "code",
      "metadata": {
        "id": "QYKdcXPZj2ua"
      },
      "source": [
        "#Removendo campo\n",
        "df_train.drop(['id'], axis='columns', inplace=True)"
      ],
      "execution_count": 18,
      "outputs": []
    },
    {
      "cell_type": "code",
      "metadata": {
        "id": "2Zu2q4Q3uG_J"
      },
      "source": [
        "#Convertendo string em numeros\n",
        "label_encoder = LabelEncoder()\n",
        "df_train['Gender'] = label_encoder.fit_transform(list(df_train['Gender'].values))\n",
        "df_train['Vehicle_Age'] = label_encoder.fit_transform(list(df_train['Vehicle_Age'].values))\n",
        "df_train['Vehicle_Damage'] = label_encoder.fit_transform(list(df_train['Vehicle_Damage'].values))\n"
      ],
      "execution_count": 19,
      "outputs": []
    },
    {
      "cell_type": "code",
      "metadata": {
        "colab": {
          "base_uri": "https://localhost:8080/",
          "height": 0
        },
        "id": "xOaeg8nNeJ-H",
        "outputId": "cccbf3f3-635a-4687-aae9-2ba16d688e4a"
      },
      "source": [
        "df_train.head(2)"
      ],
      "execution_count": 20,
      "outputs": [
        {
          "output_type": "execute_result",
          "data": {
            "text/html": [
              "<div>\n",
              "<style scoped>\n",
              "    .dataframe tbody tr th:only-of-type {\n",
              "        vertical-align: middle;\n",
              "    }\n",
              "\n",
              "    .dataframe tbody tr th {\n",
              "        vertical-align: top;\n",
              "    }\n",
              "\n",
              "    .dataframe thead th {\n",
              "        text-align: right;\n",
              "    }\n",
              "</style>\n",
              "<table border=\"1\" class=\"dataframe\">\n",
              "  <thead>\n",
              "    <tr style=\"text-align: right;\">\n",
              "      <th></th>\n",
              "      <th>Gender</th>\n",
              "      <th>Age</th>\n",
              "      <th>Driving_License</th>\n",
              "      <th>Region_Code</th>\n",
              "      <th>Previously_Insured</th>\n",
              "      <th>Vehicle_Age</th>\n",
              "      <th>Vehicle_Damage</th>\n",
              "      <th>Annual_Premium</th>\n",
              "      <th>Policy_Sales_Channel</th>\n",
              "      <th>Vintage</th>\n",
              "      <th>Response</th>\n",
              "    </tr>\n",
              "  </thead>\n",
              "  <tbody>\n",
              "    <tr>\n",
              "      <th>0</th>\n",
              "      <td>1</td>\n",
              "      <td>44</td>\n",
              "      <td>1</td>\n",
              "      <td>28.0</td>\n",
              "      <td>0</td>\n",
              "      <td>2</td>\n",
              "      <td>1</td>\n",
              "      <td>40454.0</td>\n",
              "      <td>26.0</td>\n",
              "      <td>217</td>\n",
              "      <td>1</td>\n",
              "    </tr>\n",
              "    <tr>\n",
              "      <th>1</th>\n",
              "      <td>1</td>\n",
              "      <td>76</td>\n",
              "      <td>1</td>\n",
              "      <td>3.0</td>\n",
              "      <td>0</td>\n",
              "      <td>0</td>\n",
              "      <td>0</td>\n",
              "      <td>33536.0</td>\n",
              "      <td>26.0</td>\n",
              "      <td>183</td>\n",
              "      <td>0</td>\n",
              "    </tr>\n",
              "  </tbody>\n",
              "</table>\n",
              "</div>"
            ],
            "text/plain": [
              "   Gender  Age  Driving_License  Region_Code  Previously_Insured  Vehicle_Age  \\\n",
              "0       1   44                1         28.0                   0            2   \n",
              "1       1   76                1          3.0                   0            0   \n",
              "\n",
              "   Vehicle_Damage  Annual_Premium  Policy_Sales_Channel  Vintage  Response  \n",
              "0               1         40454.0                  26.0      217         1  \n",
              "1               0         33536.0                  26.0      183         0  "
            ]
          },
          "metadata": {},
          "execution_count": 20
        }
      ]
    },
    {
      "cell_type": "code",
      "metadata": {
        "id": "se0UAB1w_JBL"
      },
      "source": [
        "target_names = [\"Não\",\"Sim\"]"
      ],
      "execution_count": 21,
      "outputs": []
    },
    {
      "cell_type": "markdown",
      "metadata": {
        "id": "kPWPUP1IYfw2"
      },
      "source": [
        "##4.1 Dividindo Treino e Teste"
      ]
    },
    {
      "cell_type": "code",
      "metadata": {
        "id": "thoutq8Q3cav"
      },
      "source": [
        "X_train, X_test, y_train, y_test = \\\n",
        "    train_test_split(df_train.drop(columns='Response'), \n",
        "                     df_train['Response'], \n",
        "                     test_size=0.33, random_state=42)"
      ],
      "execution_count": 22,
      "outputs": []
    },
    {
      "cell_type": "code",
      "metadata": {
        "colab": {
          "base_uri": "https://localhost:8080/"
        },
        "id": "cUDm8bG93SuY",
        "outputId": "7e403089-eb74-4da6-e844-a01e68bf5dda"
      },
      "source": [
        "y_train.value_counts(normalize=True)"
      ],
      "execution_count": 23,
      "outputs": [
        {
          "output_type": "execute_result",
          "data": {
            "text/plain": [
              "0    0.877831\n",
              "1    0.122169\n",
              "Name: Response, dtype: float64"
            ]
          },
          "metadata": {},
          "execution_count": 23
        }
      ]
    },
    {
      "cell_type": "code",
      "metadata": {
        "colab": {
          "base_uri": "https://localhost:8080/"
        },
        "id": "L8ilIGJB3kJL",
        "outputId": "3fc5317e-e0a5-4a2e-c6e6-fb86eb53e8d8"
      },
      "source": [
        "y_test.value_counts(normalize=True)"
      ],
      "execution_count": 24,
      "outputs": [
        {
          "output_type": "execute_result",
          "data": {
            "text/plain": [
              "0    0.876636\n",
              "1    0.123364\n",
              "Name: Response, dtype: float64"
            ]
          },
          "metadata": {},
          "execution_count": 24
        }
      ]
    },
    {
      "cell_type": "code",
      "metadata": {
        "colab": {
          "base_uri": "https://localhost:8080/"
        },
        "id": "mJ-welrAsSF6",
        "outputId": "8df77df2-ee9a-41c4-9658-2b14380e35f6"
      },
      "source": [
        "print('Amostras de treino:')\n",
        "print(f' * X_train: {X_train.shape}')\n",
        "print(f' * y_train: {y_train.shape}')\n",
        "\n",
        "print('Amostras de teste:')\n",
        "print(f' * X_test: {X_test.shape}')\n",
        "print(f' * y_test: {y_test.shape}')"
      ],
      "execution_count": 25,
      "outputs": [
        {
          "output_type": "stream",
          "name": "stdout",
          "text": [
            "Amostras de treino:\n",
            " * X_train: (255343, 10)\n",
            " * y_train: (255343,)\n",
            "Amostras de teste:\n",
            " * X_test: (125766, 10)\n",
            " * y_test: (125766,)\n"
          ]
        }
      ]
    },
    {
      "cell_type": "markdown",
      "metadata": {
        "id": "SzAqnLGOjSSU"
      },
      "source": [
        "#5. KNN"
      ]
    },
    {
      "cell_type": "markdown",
      "metadata": {
        "id": "6DqX2LmfeFmS"
      },
      "source": [
        "##5.1 Treino Modelo"
      ]
    },
    {
      "cell_type": "code",
      "metadata": {
        "colab": {
          "base_uri": "https://localhost:8080/"
        },
        "id": "1Vz3PdzntwNC",
        "outputId": "254e480f-6347-40a6-9a98-f0123bd29fc8"
      },
      "source": [
        "knn_model = KNeighborsClassifier(n_neighbors=25)\n",
        "\n",
        "knn_model.fit(X_train, y_train)"
      ],
      "execution_count": null,
      "outputs": [
        {
          "output_type": "execute_result",
          "data": {
            "text/plain": [
              "KNeighborsClassifier(algorithm='auto', leaf_size=30, metric='minkowski',\n",
              "                     metric_params=None, n_jobs=None, n_neighbors=25, p=2,\n",
              "                     weights='uniform')"
            ]
          },
          "metadata": {},
          "execution_count": 129
        }
      ]
    },
    {
      "cell_type": "markdown",
      "metadata": {
        "id": "b2W9TLmRSL90"
      },
      "source": [
        "## 5.2 Avaliando Modelo"
      ]
    },
    {
      "cell_type": "code",
      "metadata": {
        "colab": {
          "base_uri": "https://localhost:8080/"
        },
        "id": "sQcClQSjyMuZ",
        "outputId": "f367e13c-dc2c-4d63-ba39-d85638019bfe"
      },
      "source": [
        "print(f'Acurácia (Treino): {round(accuracy_score(y_train, knn_model.predict(X_train)), 2)}')\n",
        "print(f'Acurácia (Teste): {round(accuracy_score(y_test, knn_model.predict(X_test)), 2)}')"
      ],
      "execution_count": null,
      "outputs": [
        {
          "output_type": "stream",
          "name": "stdout",
          "text": [
            "Acurácia (Treino): 0.88\n",
            "Acurácia (Teste): 0.88\n"
          ]
        }
      ]
    },
    {
      "cell_type": "code",
      "metadata": {
        "colab": {
          "base_uri": "https://localhost:8080/"
        },
        "id": "s74Ka9Nu_ezh",
        "outputId": "ee0a191a-385d-4efb-f280-53d8fd592f87"
      },
      "source": [
        "print(classification_report(y_test, knn_model.predict(X_test), target_names=['Não', 'Sim']))"
      ],
      "execution_count": null,
      "outputs": [
        {
          "output_type": "stream",
          "name": "stdout",
          "text": [
            "              precision    recall  f1-score   support\n",
            "\n",
            "         Não       0.88      1.00      0.93    110251\n",
            "         Sim       0.28      0.00      0.00     15515\n",
            "\n",
            "    accuracy                           0.88    125766\n",
            "   macro avg       0.58      0.50      0.47    125766\n",
            "weighted avg       0.80      0.88      0.82    125766\n",
            "\n"
          ]
        }
      ]
    },
    {
      "cell_type": "code",
      "metadata": {
        "colab": {
          "base_uri": "https://localhost:8080/"
        },
        "id": "hr1MsHTPn8nh",
        "outputId": "7245c530-71c9-4680-ff9f-f7626b8cae34"
      },
      "source": [
        "cm = confusion_matrix(y_test, knn_model.predict(X_test), labels=knn_model.classes_)\n",
        "# Normalise\n",
        "cmn = cm.astype('float') /  cm.sum(axis=1)[:, np.newaxis]\n",
        "fig, ax = plt.subplots(figsize=(5,4))\n",
        "sns.heatmap(cmn, annot=True, fmt='.2f', xticklabels=target_names, yticklabels=target_names)\n",
        "plt.ylabel('Actual')\n",
        "plt.xlabel('Predicted')\n",
        "plt.show(block=False)"
      ],
      "execution_count": null,
      "outputs": [
        {
          "output_type": "display_data",
          "data": {
            "image/png": "[encoded data removed]",
            "text/plain": [
              "<Figure size 360x288 with 2 Axes>"
            ]
          },
          "metadata": {}
        }
      ]
    },
    {
      "cell_type": "markdown",
      "metadata": {
        "id": "ETqbEOR-hqmb"
      },
      "source": [
        "#6. Árvore de Decisão"
      ]
    },
    {
      "cell_type": "markdown",
      "metadata": {
        "id": "H41P7TK1dDFX"
      },
      "source": [
        "##6.1 Treinando Modelo"
      ]
    },
    {
      "cell_type": "code",
      "metadata": {
        "colab": {
          "base_uri": "https://localhost:8080/"
        },
        "id": "q9wev3s_B0p5",
        "outputId": "d28ad365-2644-427f-fb21-8d305600b226"
      },
      "source": [
        "tree_model = DecisionTreeClassifier(criterion='gini',\n",
        "                                    max_depth=10,\n",
        "                                    random_state=0)\n",
        "\n",
        "tree_model.fit(X_train, y_train)"
      ],
      "execution_count": null,
      "outputs": [
        {
          "output_type": "execute_result",
          "data": {
            "text/plain": [
              "DecisionTreeClassifier(ccp_alpha=0.0, class_weight=None, criterion='gini',\n",
              "                       max_depth=10, max_features=None, max_leaf_nodes=None,\n",
              "                       min_impurity_decrease=0.0, min_impurity_split=None,\n",
              "                       min_samples_leaf=1, min_samples_split=2,\n",
              "                       min_weight_fraction_leaf=0.0, presort='deprecated',\n",
              "                       random_state=0, splitter='best')"
            ]
          },
          "metadata": {},
          "execution_count": 172
        }
      ]
    },
    {
      "cell_type": "code",
      "metadata": {
        "colab": {
          "base_uri": "https://localhost:8080/"
        },
        "id": "ciCveJV1B3jX",
        "outputId": "19dc18ac-fd84-4e9d-e123-7b2cc9d604b9"
      },
      "source": [
        "plt.figure(figsize=(18,10))\n",
        "\n",
        "ax = plot_tree(tree_model,\n",
        "               max_depth=3,\n",
        "               fontsize=12,\n",
        "               feature_names=df_train.columns[1:])\n",
        "\n",
        "plt.show()"
      ],
      "execution_count": null,
      "outputs": [
        {
          "output_type": "display_data",
          "data": {
            "image/png": "[encoded data removed]",
            "text/plain": [
              "<Figure size 1296x720 with 1 Axes>"
            ]
          },
          "metadata": {}
        }
      ]
    },
    {
      "cell_type": "markdown",
      "metadata": {
        "id": "qiyGxbgYh-w6"
      },
      "source": [
        "## 6.2 Avaliando Modelo"
      ]
    },
    {
      "cell_type": "code",
      "metadata": {
        "colab": {
          "base_uri": "https://localhost:8080/"
        },
        "id": "5yulLxlKB8OG",
        "outputId": "fd905afb-3a85-49bf-f857-96e23afb8bfb"
      },
      "source": [
        "print(f'Acurácia (Treino): {round(accuracy_score(y_train, tree_model.predict(X_train)), 2)}')\n",
        "print(f'Acurácia (Teste): {round(accuracy_score(y_test, tree_model.predict(X_test)), 2)}')"
      ],
      "execution_count": null,
      "outputs": [
        {
          "output_type": "stream",
          "name": "stdout",
          "text": [
            "Acurácia (Treino): 0.88\n",
            "Acurácia (Teste): 0.88\n"
          ]
        }
      ]
    },
    {
      "cell_type": "code",
      "metadata": {
        "colab": {
          "base_uri": "https://localhost:8080/"
        },
        "id": "HDxlSkLeB-E7",
        "outputId": "b0b56d61-4aed-4b60-a6f8-8bce8a94477e"
      },
      "source": [
        "print(classification_report(y_test, tree_model.predict(X_test), target_names=['Não', 'Sim']))"
      ],
      "execution_count": null,
      "outputs": [
        {
          "output_type": "stream",
          "name": "stdout",
          "text": [
            "              precision    recall  f1-score   support\n",
            "\n",
            "         Não       0.88      1.00      0.93    110251\n",
            "         Sim       0.24      0.00      0.00     15515\n",
            "\n",
            "    accuracy                           0.88    125766\n",
            "   macro avg       0.56      0.50      0.47    125766\n",
            "weighted avg       0.80      0.88      0.82    125766\n",
            "\n"
          ]
        }
      ]
    },
    {
      "cell_type": "code",
      "metadata": {
        "id": "1kph3tNQB9q6",
        "colab": {
          "base_uri": "https://localhost:8080/"
        },
        "outputId": "eadb7705-3725-439d-c080-aab78ebceda5"
      },
      "source": [
        "cm = confusion_matrix(y_test, tree_model.predict(X_test), labels=tree_model.classes_)\n",
        "# Normalise\n",
        "cmn = cm.astype('float') /  cm.sum(axis=1)[:, np.newaxis]\n",
        "fig, ax = plt.subplots(figsize=(5,4))\n",
        "sns.heatmap(cmn, annot=True, fmt='.2f', xticklabels=target_names, yticklabels=target_names)\n",
        "plt.ylabel('Actual')\n",
        "plt.xlabel('Predicted')\n",
        "plt.show(block=False)"
      ],
      "execution_count": null,
      "outputs": [
        {
          "output_type": "display_data",
          "data": {
            "image/png": "[encoded data removed]",
            "text/plain": [
              "<Figure size 360x288 with 2 Axes>"
            ]
          },
          "metadata": {}
        }
      ]
    },
    {
      "cell_type": "markdown",
      "metadata": {
        "id": "HLazYrEOhvNp"
      },
      "source": [
        "#7. Regressão Logística"
      ]
    },
    {
      "cell_type": "markdown",
      "metadata": {
        "id": "ng8PKwxVd_Cf"
      },
      "source": [
        "##7.1 Treino Modelo"
      ]
    },
    {
      "cell_type": "code",
      "metadata": {
        "colab": {
          "base_uri": "https://localhost:8080/"
        },
        "id": "lgprTTZtfj0W",
        "outputId": "2537062a-7fb9-4fb1-c2d5-2828bf7f60f2"
      },
      "source": [
        "reglog_model = SGDClassifier(loss='log', \n",
        "                             learning_rate='constant', \n",
        "                             max_iter=250,\n",
        "                             eta0=0.05, \n",
        "                             verbose=1, \n",
        "                             tol=None, \n",
        "                             random_state=0)\n",
        "\n",
        "reglog_model.fit(X_train, y_train)"
      ],
      "execution_count": null,
      "outputs": [
        {
          "output_type": "stream",
          "name": "stdout",
          "text": [
            "-- Epoch 1\n",
            "Norm: 14032.86, NNZs: 10, Bias: 14.225000, T: 255343, Avg. loss: 7054625.025389\n",
            "Total training time: 0.06 seconds.\n",
            "-- Epoch 2\n",
            "Norm: 17318.56, NNZs: 10, Bias: 34.375000, T: 510686, Avg. loss: 6938599.325796\n",
            "Total training time: 0.11 seconds.\n",
            "-- Epoch 3\n",
            "Norm: 17846.28, NNZs: 10, Bias: 58.575000, T: 766029, Avg. loss: 6981220.470380\n",
            "Total training time: 0.16 seconds.\n",
            "-- Epoch 4\n",
            "Norm: 17498.80, NNZs: 10, Bias: 78.275000, T: 1021372, Avg. loss: 7026589.618499\n",
            "Total training time: 0.21 seconds.\n",
            "-- Epoch 5\n",
            "Norm: 17555.03, NNZs: 10, Bias: 99.675000, T: 1276715, Avg. loss: 6954615.382544\n",
            "Total training time: 0.27 seconds.\n",
            "-- Epoch 6\n",
            "Norm: 17853.33, NNZs: 10, Bias: 122.325000, T: 1532058, Avg. loss: 6969674.374617\n",
            "Total training time: 0.32 seconds.\n",
            "-- Epoch 7\n",
            "Norm: 18356.92, NNZs: 10, Bias: 140.625000, T: 1787401, Avg. loss: 6883414.792744\n",
            "Total training time: 0.37 seconds.\n",
            "-- Epoch 8\n",
            "Norm: 18389.29, NNZs: 10, Bias: 164.825000, T: 2042744, Avg. loss: 6962080.681106\n",
            "Total training time: 0.43 seconds.\n",
            "-- Epoch 9\n",
            "Norm: 17621.68, NNZs: 10, Bias: 187.475000, T: 2298087, Avg. loss: 6994632.818071\n",
            "Total training time: 0.48 seconds.\n",
            "-- Epoch 10\n",
            "Norm: 17726.05, NNZs: 10, Bias: 209.475000, T: 2553430, Avg. loss: 6910163.371122\n",
            "Total training time: 0.53 seconds.\n",
            "-- Epoch 11\n",
            "Norm: 17743.96, NNZs: 10, Bias: 230.975000, T: 2808773, Avg. loss: 6975021.475435\n",
            "Total training time: 0.58 seconds.\n",
            "-- Epoch 12\n",
            "Norm: 18323.25, NNZs: 10, Bias: 250.975000, T: 3064116, Avg. loss: 6988190.273103\n",
            "Total training time: 0.64 seconds.\n",
            "-- Epoch 13\n",
            "Norm: 17836.98, NNZs: 10, Bias: 277.224999, T: 3319459, Avg. loss: 6985694.130470\n",
            "Total training time: 0.69 seconds.\n",
            "-- Epoch 14\n",
            "Norm: 17818.48, NNZs: 10, Bias: 295.074999, T: 3574802, Avg. loss: 6919722.737334\n",
            "Total training time: 0.74 seconds.\n",
            "-- Epoch 15\n",
            "Norm: 17599.51, NNZs: 10, Bias: 314.824999, T: 3830145, Avg. loss: 7010993.670183\n",
            "Total training time: 0.79 seconds.\n",
            "-- Epoch 16\n",
            "Norm: 17122.76, NNZs: 10, Bias: 337.124999, T: 4085488, Avg. loss: 6873890.674301\n",
            "Total training time: 0.84 seconds.\n",
            "-- Epoch 17\n",
            "Norm: 17077.35, NNZs: 10, Bias: 357.424999, T: 4340831, Avg. loss: 6902710.312025\n",
            "Total training time: 0.90 seconds.\n",
            "-- Epoch 18\n",
            "Norm: 17053.86, NNZs: 10, Bias: 380.024999, T: 4596174, Avg. loss: 6932573.380452\n",
            "Total training time: 0.95 seconds.\n",
            "-- Epoch 19\n",
            "Norm: 17812.26, NNZs: 10, Bias: 400.924999, T: 4851517, Avg. loss: 6953576.333534\n",
            "Total training time: 1.01 seconds.\n",
            "-- Epoch 20\n",
            "Norm: 17701.68, NNZs: 10, Bias: 421.124999, T: 5106860, Avg. loss: 6945241.569910\n",
            "Total training time: 1.06 seconds.\n",
            "-- Epoch 21\n",
            "Norm: 17480.84, NNZs: 10, Bias: 444.874999, T: 5362203, Avg. loss: 6990140.905392\n",
            "Total training time: 1.11 seconds.\n",
            "-- Epoch 22\n",
            "Norm: 17879.25, NNZs: 10, Bias: 465.375000, T: 5617546, Avg. loss: 6969823.225077\n",
            "Total training time: 1.16 seconds.\n",
            "-- Epoch 23\n",
            "Norm: 18065.14, NNZs: 10, Bias: 482.725000, T: 5872889, Avg. loss: 6862121.299446\n",
            "Total training time: 1.21 seconds.\n",
            "-- Epoch 24\n",
            "Norm: 17718.33, NNZs: 10, Bias: 501.225000, T: 6128232, Avg. loss: 6978024.652286\n",
            "Total training time: 1.27 seconds.\n",
            "-- Epoch 25\n",
            "Norm: 17425.78, NNZs: 10, Bias: 524.575000, T: 6383575, Avg. loss: 6964116.309690\n",
            "Total training time: 1.32 seconds.\n",
            "-- Epoch 26\n",
            "Norm: 17185.68, NNZs: 10, Bias: 542.775000, T: 6638918, Avg. loss: 6991907.428498\n",
            "Total training time: 1.38 seconds.\n",
            "-- Epoch 27\n",
            "Norm: 17712.77, NNZs: 10, Bias: 564.525000, T: 6894261, Avg. loss: 6995551.606983\n",
            "Total training time: 1.43 seconds.\n",
            "-- Epoch 28\n",
            "Norm: 17899.92, NNZs: 10, Bias: 585.175000, T: 7149604, Avg. loss: 6941854.175431\n",
            "Total training time: 1.48 seconds.\n",
            "-- Epoch 29\n",
            "Norm: 17993.67, NNZs: 10, Bias: 604.375000, T: 7404947, Avg. loss: 6993691.369954\n",
            "Total training time: 1.54 seconds.\n",
            "-- Epoch 30\n",
            "Norm: 17552.53, NNZs: 10, Bias: 625.925000, T: 7660290, Avg. loss: 6935372.961471\n",
            "Total training time: 1.59 seconds.\n",
            "-- Epoch 31\n",
            "Norm: 17772.50, NNZs: 10, Bias: 642.425000, T: 7915633, Avg. loss: 6916445.440833\n",
            "Total training time: 1.64 seconds.\n",
            "-- Epoch 32\n",
            "Norm: 17672.81, NNZs: 10, Bias: 667.075000, T: 8170976, Avg. loss: 6986903.966860\n",
            "Total training time: 1.69 seconds.\n",
            "-- Epoch 33\n",
            "Norm: 17352.97, NNZs: 10, Bias: 688.975000, T: 8426319, Avg. loss: 6992301.194335\n",
            "Total training time: 1.74 seconds.\n",
            "-- Epoch 34\n",
            "Norm: 17362.80, NNZs: 10, Bias: 712.575000, T: 8681662, Avg. loss: 6982652.095974\n",
            "Total training time: 1.79 seconds.\n",
            "-- Epoch 35\n",
            "Norm: 17856.27, NNZs: 10, Bias: 728.225000, T: 8937005, Avg. loss: 6935479.194258\n",
            "Total training time: 1.85 seconds.\n",
            "-- Epoch 36\n",
            "Norm: 23626.78, NNZs: 10, Bias: 748.075000, T: 9192348, Avg. loss: 6928164.637520\n",
            "Total training time: 1.90 seconds.\n",
            "-- Epoch 37\n",
            "Norm: 17507.97, NNZs: 10, Bias: 766.125000, T: 9447691, Avg. loss: 6918778.958670\n",
            "Total training time: 1.95 seconds.\n",
            "-- Epoch 38\n",
            "Norm: 17687.77, NNZs: 10, Bias: 789.125000, T: 9703034, Avg. loss: 6976385.732579\n",
            "Total training time: 2.00 seconds.\n",
            "-- Epoch 39\n",
            "Norm: 17175.12, NNZs: 10, Bias: 814.475000, T: 9958377, Avg. loss: 7000809.760795\n",
            "Total training time: 2.05 seconds.\n",
            "-- Epoch 40\n",
            "Norm: 18075.66, NNZs: 10, Bias: 830.875000, T: 10213720, Avg. loss: 6941710.218278\n",
            "Total training time: 2.10 seconds.\n",
            "-- Epoch 41\n",
            "Norm: 17519.39, NNZs: 10, Bias: 852.775000, T: 10469063, Avg. loss: 6975158.963371\n",
            "Total training time: 2.16 seconds.\n",
            "-- Epoch 42\n",
            "Norm: 17922.01, NNZs: 10, Bias: 870.375000, T: 10724406, Avg. loss: 6984190.156968\n",
            "Total training time: 2.21 seconds.\n",
            "-- Epoch 43\n",
            "Norm: 17506.13, NNZs: 10, Bias: 889.675000, T: 10979749, Avg. loss: 6913425.464315\n",
            "Total training time: 2.26 seconds.\n",
            "-- Epoch 44\n",
            "Norm: 17421.10, NNZs: 10, Bias: 911.175000, T: 11235092, Avg. loss: 6979401.689751\n",
            "Total training time: 2.32 seconds.\n",
            "-- Epoch 45\n",
            "Norm: 17836.51, NNZs: 10, Bias: 930.125000, T: 11490435, Avg. loss: 6966658.135192\n",
            "Total training time: 2.37 seconds.\n",
            "-- Epoch 46\n",
            "Norm: 18039.92, NNZs: 10, Bias: 949.725000, T: 11745778, Avg. loss: 6966580.664935\n",
            "Total training time: 2.42 seconds.\n",
            "-- Epoch 47\n",
            "Norm: 17976.41, NNZs: 10, Bias: 971.975000, T: 12001121, Avg. loss: 6928436.865061\n",
            "Total training time: 2.48 seconds.\n",
            "-- Epoch 48\n",
            "Norm: 17922.57, NNZs: 10, Bias: 995.925000, T: 12256464, Avg. loss: 7024593.346044\n",
            "Total training time: 2.53 seconds.\n",
            "-- Epoch 49\n",
            "Norm: 17485.83, NNZs: 10, Bias: 1016.175000, T: 12511807, Avg. loss: 6914998.827858\n",
            "Total training time: 2.58 seconds.\n",
            "-- Epoch 50\n",
            "Norm: 17693.65, NNZs: 10, Bias: 1037.025000, T: 12767150, Avg. loss: 7016748.946138\n",
            "Total training time: 2.64 seconds.\n",
            "-- Epoch 51\n",
            "Norm: 17908.10, NNZs: 10, Bias: 1058.875000, T: 13022493, Avg. loss: 6889195.962269\n",
            "Total training time: 2.69 seconds.\n",
            "-- Epoch 52\n",
            "Norm: 16894.29, NNZs: 10, Bias: 1082.125000, T: 13277836, Avg. loss: 6963510.256080\n",
            "Total training time: 2.74 seconds.\n",
            "-- Epoch 53\n",
            "Norm: 17180.84, NNZs: 10, Bias: 1100.475000, T: 13533179, Avg. loss: 7012402.596294\n",
            "Total training time: 2.79 seconds.\n",
            "-- Epoch 54\n",
            "Norm: 17631.73, NNZs: 10, Bias: 1120.275000, T: 13788522, Avg. loss: 6952383.474627\n",
            "Total training time: 2.85 seconds.\n",
            "-- Epoch 55\n",
            "Norm: 16888.43, NNZs: 10, Bias: 1144.175000, T: 14043865, Avg. loss: 6926855.817937\n",
            "Total training time: 2.90 seconds.\n",
            "-- Epoch 56\n",
            "Norm: 18490.37, NNZs: 10, Bias: 1161.725000, T: 14299208, Avg. loss: 6953166.325133\n",
            "Total training time: 2.95 seconds.\n",
            "-- Epoch 57\n",
            "Norm: 18069.98, NNZs: 10, Bias: 1183.225000, T: 14554551, Avg. loss: 6913619.396122\n",
            "Total training time: 3.00 seconds.\n",
            "-- Epoch 58\n",
            "Norm: 16967.34, NNZs: 10, Bias: 1206.875000, T: 14809894, Avg. loss: 6915248.923253\n",
            "Total training time: 3.05 seconds.\n",
            "-- Epoch 59\n",
            "Norm: 17275.76, NNZs: 10, Bias: 1224.575000, T: 15065237, Avg. loss: 6969138.583353\n",
            "Total training time: 3.10 seconds.\n",
            "-- Epoch 60\n",
            "Norm: 17941.17, NNZs: 10, Bias: 1243.675000, T: 15320580, Avg. loss: 6995317.753437\n",
            "Total training time: 3.16 seconds.\n",
            "-- Epoch 61\n",
            "Norm: 17428.67, NNZs: 10, Bias: 1265.775000, T: 15575923, Avg. loss: 6991226.367086\n",
            "Total training time: 3.21 seconds.\n",
            "-- Epoch 62\n",
            "Norm: 17910.17, NNZs: 10, Bias: 1286.775000, T: 15831266, Avg. loss: 6960122.680841\n",
            "Total training time: 3.26 seconds.\n",
            "-- Epoch 63\n",
            "Norm: 17433.86, NNZs: 10, Bias: 1307.375000, T: 16086609, Avg. loss: 6872981.974195\n",
            "Total training time: 3.31 seconds.\n",
            "-- Epoch 64\n",
            "Norm: 17822.31, NNZs: 10, Bias: 1330.725000, T: 16341952, Avg. loss: 6994212.225970\n",
            "Total training time: 3.37 seconds.\n",
            "-- Epoch 65\n",
            "Norm: 18097.98, NNZs: 10, Bias: 1347.725000, T: 16597295, Avg. loss: 6943662.777250\n",
            "Total training time: 3.42 seconds.\n",
            "-- Epoch 66\n",
            "Norm: 17453.17, NNZs: 10, Bias: 1373.225000, T: 16852638, Avg. loss: 6969345.071110\n",
            "Total training time: 3.47 seconds.\n",
            "-- Epoch 67\n",
            "Norm: 17301.33, NNZs: 10, Bias: 1396.725000, T: 17107981, Avg. loss: 6990019.020507\n",
            "Total training time: 3.53 seconds.\n",
            "-- Epoch 68\n",
            "Norm: 16931.52, NNZs: 10, Bias: 1416.175000, T: 17363324, Avg. loss: 6984834.422725\n",
            "Total training time: 3.59 seconds.\n",
            "-- Epoch 69\n",
            "Norm: 18459.05, NNZs: 10, Bias: 1431.925000, T: 17618667, Avg. loss: 6962185.615431\n",
            "Total training time: 3.64 seconds.\n",
            "-- Epoch 70\n",
            "Norm: 17861.43, NNZs: 10, Bias: 1458.425000, T: 17874010, Avg. loss: 6953142.896240\n",
            "Total training time: 3.70 seconds.\n",
            "-- Epoch 71\n",
            "Norm: 17797.65, NNZs: 10, Bias: 1481.175000, T: 18129353, Avg. loss: 6903036.583421\n",
            "Total training time: 3.75 seconds.\n",
            "-- Epoch 72\n",
            "Norm: 17905.81, NNZs: 10, Bias: 1499.075000, T: 18384696, Avg. loss: 6949900.997552\n",
            "Total training time: 3.80 seconds.\n",
            "-- Epoch 73\n",
            "Norm: 18119.76, NNZs: 10, Bias: 1520.325000, T: 18640039, Avg. loss: 6982886.316591\n",
            "Total training time: 3.86 seconds.\n",
            "-- Epoch 74\n",
            "Norm: 17178.03, NNZs: 10, Bias: 1546.775000, T: 18895382, Avg. loss: 7015710.114853\n",
            "Total training time: 3.91 seconds.\n",
            "-- Epoch 75\n",
            "Norm: 17483.86, NNZs: 10, Bias: 1573.225000, T: 19150725, Avg. loss: 7004623.706503\n",
            "Total training time: 3.96 seconds.\n",
            "-- Epoch 76\n",
            "Norm: 17508.06, NNZs: 10, Bias: 1592.925000, T: 19406068, Avg. loss: 6956445.544675\n",
            "Total training time: 4.01 seconds.\n",
            "-- Epoch 77\n",
            "Norm: 17671.64, NNZs: 10, Bias: 1610.625000, T: 19661411, Avg. loss: 6898684.585933\n",
            "Total training time: 4.06 seconds.\n",
            "-- Epoch 78\n",
            "Norm: 17550.30, NNZs: 10, Bias: 1630.225000, T: 19916754, Avg. loss: 6924301.426471\n",
            "Total training time: 4.11 seconds.\n",
            "-- Epoch 79\n",
            "Norm: 17390.95, NNZs: 10, Bias: 1652.925000, T: 20172097, Avg. loss: 6966499.496746\n",
            "Total training time: 4.16 seconds.\n",
            "-- Epoch 80\n",
            "Norm: 17398.49, NNZs: 10, Bias: 1674.875000, T: 20427440, Avg. loss: 6921793.087018\n",
            "Total training time: 4.22 seconds.\n",
            "-- Epoch 81\n",
            "Norm: 17588.28, NNZs: 10, Bias: 1695.375000, T: 20682783, Avg. loss: 6958288.516093\n",
            "Total training time: 4.28 seconds.\n",
            "-- Epoch 82\n",
            "Norm: 17661.18, NNZs: 10, Bias: 1720.875000, T: 20938126, Avg. loss: 6950954.179929\n",
            "Total training time: 4.33 seconds.\n",
            "-- Epoch 83\n",
            "Norm: 16799.84, NNZs: 10, Bias: 1742.225000, T: 21193469, Avg. loss: 7018718.281245\n",
            "Total training time: 4.38 seconds.\n",
            "-- Epoch 84\n",
            "Norm: 17158.92, NNZs: 10, Bias: 1764.325000, T: 21448812, Avg. loss: 6970363.892122\n",
            "Total training time: 4.44 seconds.\n",
            "-- Epoch 85\n",
            "Norm: 17405.45, NNZs: 10, Bias: 1787.761238, T: 21704155, Avg. loss: 6945753.225033\n",
            "Total training time: 4.49 seconds.\n",
            "-- Epoch 86\n",
            "Norm: 17311.73, NNZs: 10, Bias: 1808.161238, T: 21959498, Avg. loss: 6936169.852105\n",
            "Total training time: 4.55 seconds.\n",
            "-- Epoch 87\n",
            "Norm: 17631.08, NNZs: 10, Bias: 1831.411238, T: 22214841, Avg. loss: 6956837.582665\n",
            "Total training time: 4.60 seconds.\n",
            "-- Epoch 88\n",
            "Norm: 17430.79, NNZs: 10, Bias: 1855.461238, T: 22470184, Avg. loss: 6939679.239569\n",
            "Total training time: 4.65 seconds.\n",
            "-- Epoch 89\n",
            "Norm: 17708.82, NNZs: 10, Bias: 1871.461238, T: 22725527, Avg. loss: 6946531.691061\n",
            "Total training time: 4.70 seconds.\n",
            "-- Epoch 90\n",
            "Norm: 17842.39, NNZs: 10, Bias: 1887.861238, T: 22980870, Avg. loss: 6932643.914841\n",
            "Total training time: 4.75 seconds.\n",
            "-- Epoch 91\n",
            "Norm: 17623.59, NNZs: 10, Bias: 1909.311238, T: 23236213, Avg. loss: 6999711.636585\n",
            "Total training time: 4.80 seconds.\n",
            "-- Epoch 92\n",
            "Norm: 18065.49, NNZs: 10, Bias: 1930.661238, T: 23491556, Avg. loss: 6923434.085482\n",
            "Total training time: 4.86 seconds.\n",
            "-- Epoch 93\n",
            "Norm: 17689.75, NNZs: 10, Bias: 1954.311238, T: 23746899, Avg. loss: 6947044.234741\n",
            "Total training time: 4.91 seconds.\n",
            "-- Epoch 94\n",
            "Norm: 17067.71, NNZs: 10, Bias: 1976.161238, T: 24002242, Avg. loss: 6934893.576655\n",
            "Total training time: 4.96 seconds.\n",
            "-- Epoch 95\n",
            "Norm: 17960.79, NNZs: 10, Bias: 1994.011238, T: 24257585, Avg. loss: 6952636.073013\n",
            "Total training time: 5.01 seconds.\n",
            "-- Epoch 96\n",
            "Norm: 18328.96, NNZs: 10, Bias: 2012.561238, T: 24512928, Avg. loss: 7017857.509879\n",
            "Total training time: 5.06 seconds.\n",
            "-- Epoch 97\n",
            "Norm: 18096.42, NNZs: 10, Bias: 2034.211238, T: 24768271, Avg. loss: 6915808.557787\n",
            "Total training time: 5.11 seconds.\n",
            "-- Epoch 98\n",
            "Norm: 17283.61, NNZs: 10, Bias: 2050.811238, T: 25023614, Avg. loss: 6927365.699300\n",
            "Total training time: 5.17 seconds.\n",
            "-- Epoch 99\n",
            "Norm: 17608.09, NNZs: 10, Bias: 2077.811238, T: 25278957, Avg. loss: 6992269.651537\n",
            "Total training time: 5.22 seconds.\n",
            "-- Epoch 100\n",
            "Norm: 17461.61, NNZs: 10, Bias: 2102.861238, T: 25534300, Avg. loss: 6913596.976302\n",
            "Total training time: 5.27 seconds.\n",
            "-- Epoch 101\n",
            "Norm: 17113.52, NNZs: 10, Bias: 2125.461009, T: 25789643, Avg. loss: 6944494.360747\n",
            "Total training time: 5.33 seconds.\n",
            "-- Epoch 102\n",
            "Norm: 17212.23, NNZs: 10, Bias: 2145.911009, T: 26044986, Avg. loss: 6910402.526328\n",
            "Total training time: 5.39 seconds.\n",
            "-- Epoch 103\n",
            "Norm: 17822.98, NNZs: 10, Bias: 2165.511009, T: 26300329, Avg. loss: 6851790.489885\n",
            "Total training time: 5.44 seconds.\n",
            "-- Epoch 104\n",
            "Norm: 18047.82, NNZs: 10, Bias: 2184.111009, T: 26555672, Avg. loss: 7034934.633298\n",
            "Total training time: 5.50 seconds.\n",
            "-- Epoch 105\n",
            "Norm: 17590.70, NNZs: 10, Bias: 2207.511012, T: 26811015, Avg. loss: 6906487.496580\n",
            "Total training time: 5.55 seconds.\n",
            "-- Epoch 106\n",
            "Norm: 17907.16, NNZs: 10, Bias: 2227.461012, T: 27066358, Avg. loss: 6946575.470040\n",
            "Total training time: 5.60 seconds.\n",
            "-- Epoch 107\n",
            "Norm: 17881.42, NNZs: 10, Bias: 2248.611012, T: 27321701, Avg. loss: 6939900.384411\n",
            "Total training time: 5.66 seconds.\n",
            "-- Epoch 108\n",
            "Norm: 17235.88, NNZs: 10, Bias: 2272.361012, T: 27577044, Avg. loss: 7020611.350962\n",
            "Total training time: 5.71 seconds.\n",
            "-- Epoch 109\n",
            "Norm: 17794.71, NNZs: 10, Bias: 2292.361012, T: 27832387, Avg. loss: 7024111.366813\n",
            "Total training time: 5.77 seconds.\n",
            "-- Epoch 110\n",
            "Norm: 17416.74, NNZs: 10, Bias: 2312.811012, T: 28087730, Avg. loss: 6946107.097742\n",
            "Total training time: 5.82 seconds.\n",
            "-- Epoch 111\n",
            "Norm: 17962.39, NNZs: 10, Bias: 2331.111012, T: 28343073, Avg. loss: 6965836.493933\n",
            "Total training time: 5.87 seconds.\n",
            "-- Epoch 112\n",
            "Norm: 17935.91, NNZs: 10, Bias: 2351.311010, T: 28598416, Avg. loss: 6984902.236831\n",
            "Total training time: 5.92 seconds.\n",
            "-- Epoch 113\n",
            "Norm: 17788.65, NNZs: 10, Bias: 2367.011010, T: 28853759, Avg. loss: 6937505.146601\n",
            "Total training time: 5.97 seconds.\n",
            "-- Epoch 114\n",
            "Norm: 17325.71, NNZs: 10, Bias: 2392.861010, T: 29109102, Avg. loss: 7032217.552159\n",
            "Total training time: 6.03 seconds.\n",
            "-- Epoch 115\n",
            "Norm: 17572.76, NNZs: 10, Bias: 2414.161010, T: 29364445, Avg. loss: 6967484.191794\n",
            "Total training time: 6.08 seconds.\n",
            "-- Epoch 116\n",
            "Norm: 17762.02, NNZs: 10, Bias: 2438.561010, T: 29619788, Avg. loss: 6990287.201853\n",
            "Total training time: 6.13 seconds.\n",
            "-- Epoch 117\n",
            "Norm: 17844.32, NNZs: 10, Bias: 2456.861010, T: 29875131, Avg. loss: 6953467.328469\n",
            "Total training time: 6.18 seconds.\n",
            "-- Epoch 118\n",
            "Norm: 18093.79, NNZs: 10, Bias: 2474.860967, T: 30130474, Avg. loss: 6915030.606277\n",
            "Total training time: 6.23 seconds.\n",
            "-- Epoch 119\n",
            "Norm: 17470.72, NNZs: 10, Bias: 2497.610967, T: 30385817, Avg. loss: 6972479.630430\n",
            "Total training time: 6.29 seconds.\n",
            "-- Epoch 120\n",
            "Norm: 17793.97, NNZs: 10, Bias: 2508.210967, T: 30641160, Avg. loss: 6921262.673929\n",
            "Total training time: 6.34 seconds.\n",
            "-- Epoch 121\n",
            "Norm: 17653.92, NNZs: 10, Bias: 2532.110967, T: 30896503, Avg. loss: 6916654.481911\n",
            "Total training time: 6.40 seconds.\n",
            "-- Epoch 122\n",
            "Norm: 17302.39, NNZs: 10, Bias: 2553.110967, T: 31151846, Avg. loss: 6939086.147898\n",
            "Total training time: 6.45 seconds.\n",
            "-- Epoch 123\n",
            "Norm: 17948.06, NNZs: 10, Bias: 2573.010967, T: 31407189, Avg. loss: 7023396.367740\n",
            "Total training time: 6.50 seconds.\n",
            "-- Epoch 124\n",
            "Norm: 17725.42, NNZs: 10, Bias: 2594.560967, T: 31662532, Avg. loss: 6940341.622345\n",
            "Total training time: 6.55 seconds.\n",
            "-- Epoch 125\n",
            "Norm: 18304.95, NNZs: 10, Bias: 2614.260967, T: 31917875, Avg. loss: 6935894.883721\n",
            "Total training time: 6.60 seconds.\n",
            "-- Epoch 126\n",
            "Norm: 17750.66, NNZs: 10, Bias: 2634.760967, T: 32173218, Avg. loss: 6912875.955981\n",
            "Total training time: 6.66 seconds.\n",
            "-- Epoch 127\n",
            "Norm: 17831.52, NNZs: 10, Bias: 2653.711053, T: 32428561, Avg. loss: 6934647.217267\n",
            "Total training time: 6.71 seconds.\n",
            "-- Epoch 128\n",
            "Norm: 17571.77, NNZs: 10, Bias: 2681.361053, T: 32683904, Avg. loss: 7024873.084977\n",
            "Total training time: 6.76 seconds.\n",
            "-- Epoch 129\n",
            "Norm: 17631.98, NNZs: 10, Bias: 2701.211053, T: 32939247, Avg. loss: 6984116.663470\n",
            "Total training time: 6.81 seconds.\n",
            "-- Epoch 130\n",
            "Norm: 17853.84, NNZs: 10, Bias: 2719.711053, T: 33194590, Avg. loss: 6966462.544802\n",
            "Total training time: 6.87 seconds.\n",
            "-- Epoch 131\n",
            "Norm: 17689.38, NNZs: 10, Bias: 2743.511053, T: 33449933, Avg. loss: 6924128.389162\n",
            "Total training time: 6.92 seconds.\n",
            "-- Epoch 132\n",
            "Norm: 17557.20, NNZs: 10, Bias: 2766.361053, T: 33705276, Avg. loss: 6949433.671841\n",
            "Total training time: 6.98 seconds.\n",
            "-- Epoch 133\n",
            "Norm: 17912.07, NNZs: 10, Bias: 2787.861053, T: 33960619, Avg. loss: 6938980.955658\n",
            "Total training time: 7.03 seconds.\n",
            "-- Epoch 134\n",
            "Norm: 17509.65, NNZs: 10, Bias: 2811.311053, T: 34215962, Avg. loss: 7023760.477577\n",
            "Total training time: 7.08 seconds.\n",
            "-- Epoch 135\n",
            "Norm: 17378.97, NNZs: 10, Bias: 2831.361053, T: 34471305, Avg. loss: 6969461.179216\n",
            "Total training time: 7.13 seconds.\n",
            "-- Epoch 136\n",
            "Norm: 17682.78, NNZs: 10, Bias: 2849.711053, T: 34726648, Avg. loss: 6968035.756752\n",
            "Total training time: 7.19 seconds.\n",
            "-- Epoch 137\n",
            "Norm: 17341.11, NNZs: 10, Bias: 2871.911053, T: 34981991, Avg. loss: 6982026.465336\n",
            "Total training time: 7.24 seconds.\n",
            "-- Epoch 138\n",
            "Norm: 18128.44, NNZs: 10, Bias: 2885.561053, T: 35237334, Avg. loss: 6978641.205160\n",
            "Total training time: 7.29 seconds.\n",
            "-- Epoch 139\n",
            "Norm: 17292.73, NNZs: 10, Bias: 2913.061053, T: 35492677, Avg. loss: 6925728.639586\n",
            "Total training time: 7.34 seconds.\n",
            "-- Epoch 140\n",
            "Norm: 17358.99, NNZs: 10, Bias: 2933.461053, T: 35748020, Avg. loss: 6988568.851479\n",
            "Total training time: 7.40 seconds.\n",
            "-- Epoch 141\n",
            "Norm: 17391.21, NNZs: 10, Bias: 2954.861053, T: 36003363, Avg. loss: 6937867.440261\n",
            "Total training time: 7.45 seconds.\n",
            "-- Epoch 142\n",
            "Norm: 17377.13, NNZs: 10, Bias: 2974.561079, T: 36258706, Avg. loss: 6953897.190196\n",
            "Total training time: 7.50 seconds.\n",
            "-- Epoch 143\n",
            "Norm: 17781.87, NNZs: 10, Bias: 2992.961079, T: 36514049, Avg. loss: 6985760.209189\n",
            "Total training time: 7.55 seconds.\n",
            "-- Epoch 144\n",
            "Norm: 17669.13, NNZs: 10, Bias: 3015.811079, T: 36769392, Avg. loss: 6949910.454694\n",
            "Total training time: 7.60 seconds.\n",
            "-- Epoch 145\n",
            "Norm: 18031.69, NNZs: 10, Bias: 3034.811079, T: 37024735, Avg. loss: 6978839.736331\n",
            "Total training time: 7.65 seconds.\n",
            "-- Epoch 146\n",
            "Norm: 18234.47, NNZs: 10, Bias: 3057.011079, T: 37280078, Avg. loss: 6921843.334590\n",
            "Total training time: 7.70 seconds.\n",
            "-- Epoch 147\n",
            "Norm: 18371.88, NNZs: 10, Bias: 3078.061079, T: 37535421, Avg. loss: 6956400.358347\n",
            "Total training time: 7.75 seconds.\n",
            "-- Epoch 148\n",
            "Norm: 17968.85, NNZs: 10, Bias: 3098.261079, T: 37790764, Avg. loss: 6891204.057118\n",
            "Total training time: 7.80 seconds.\n",
            "-- Epoch 149\n",
            "Norm: 17780.04, NNZs: 10, Bias: 3118.361079, T: 38046107, Avg. loss: 7005188.721705\n",
            "Total training time: 7.86 seconds.\n",
            "-- Epoch 150\n",
            "Norm: 17374.93, NNZs: 10, Bias: 3140.261079, T: 38301450, Avg. loss: 6912197.116334\n",
            "Total training time: 7.91 seconds.\n",
            "-- Epoch 151\n",
            "Norm: 17166.04, NNZs: 10, Bias: 3165.561079, T: 38556793, Avg. loss: 7009165.213818\n",
            "Total training time: 7.96 seconds.\n",
            "-- Epoch 152\n",
            "Norm: 17203.99, NNZs: 10, Bias: 3184.811079, T: 38812136, Avg. loss: 6988761.180151\n",
            "Total training time: 8.02 seconds.\n",
            "-- Epoch 153\n",
            "Norm: 17692.78, NNZs: 10, Bias: 3207.861079, T: 39067479, Avg. loss: 7030833.179087\n",
            "Total training time: 8.07 seconds.\n",
            "-- Epoch 154\n",
            "Norm: 17891.07, NNZs: 10, Bias: 3222.561079, T: 39322822, Avg. loss: 6881136.440671\n",
            "Total training time: 8.12 seconds.\n",
            "-- Epoch 155\n",
            "Norm: 17487.76, NNZs: 10, Bias: 3244.811073, T: 39578165, Avg. loss: 6897328.590372\n",
            "Total training time: 8.17 seconds.\n",
            "-- Epoch 156\n",
            "Norm: 17606.76, NNZs: 10, Bias: 3262.661073, T: 39833508, Avg. loss: 6968097.228758\n",
            "Total training time: 8.22 seconds.\n",
            "-- Epoch 157\n",
            "Norm: 17441.24, NNZs: 10, Bias: 3280.561073, T: 40088851, Avg. loss: 6944354.951560\n",
            "Total training time: 8.27 seconds.\n",
            "-- Epoch 158\n",
            "Norm: 17353.29, NNZs: 10, Bias: 3301.411073, T: 40344194, Avg. loss: 6938406.357233\n",
            "Total training time: 8.33 seconds.\n",
            "-- Epoch 159\n",
            "Norm: 17122.44, NNZs: 10, Bias: 3323.911073, T: 40599537, Avg. loss: 6968828.317138\n",
            "Total training time: 8.38 seconds.\n",
            "-- Epoch 160\n",
            "Norm: 17588.50, NNZs: 10, Bias: 3342.161073, T: 40854880, Avg. loss: 6940435.398037\n",
            "Total training time: 8.44 seconds.\n",
            "-- Epoch 161\n",
            "Norm: 17545.25, NNZs: 10, Bias: 3363.761072, T: 41110223, Avg. loss: 6943539.283478\n",
            "Total training time: 8.49 seconds.\n",
            "-- Epoch 162\n",
            "Norm: 18386.46, NNZs: 10, Bias: 3385.861072, T: 41365566, Avg. loss: 6921417.153543\n",
            "Total training time: 8.54 seconds.\n",
            "-- Epoch 163\n",
            "Norm: 18413.11, NNZs: 10, Bias: 3403.461072, T: 41620909, Avg. loss: 6986503.159457\n",
            "Total training time: 8.59 seconds.\n",
            "-- Epoch 164\n",
            "Norm: 17921.31, NNZs: 10, Bias: 3420.161072, T: 41876252, Avg. loss: 6984014.530358\n",
            "Total training time: 8.64 seconds.\n",
            "-- Epoch 165\n",
            "Norm: 17882.21, NNZs: 10, Bias: 3439.461072, T: 42131595, Avg. loss: 6907875.831195\n",
            "Total training time: 8.70 seconds.\n",
            "-- Epoch 166\n",
            "Norm: 17948.09, NNZs: 10, Bias: 3461.611072, T: 42386938, Avg. loss: 6944522.937638\n",
            "Total training time: 8.75 seconds.\n",
            "-- Epoch 167\n",
            "Norm: 18287.61, NNZs: 10, Bias: 3476.711072, T: 42642281, Avg. loss: 6922270.001620\n",
            "Total training time: 8.80 seconds.\n",
            "-- Epoch 168\n",
            "Norm: 17894.53, NNZs: 10, Bias: 3499.311072, T: 42897624, Avg. loss: 6994121.727157\n",
            "Total training time: 8.85 seconds.\n",
            "-- Epoch 169\n",
            "Norm: 17748.27, NNZs: 10, Bias: 3519.411072, T: 43152967, Avg. loss: 6926382.617891\n",
            "Total training time: 8.91 seconds.\n",
            "-- Epoch 170\n",
            "Norm: 17888.83, NNZs: 10, Bias: 3538.161072, T: 43408310, Avg. loss: 6908633.063638\n",
            "Total training time: 8.96 seconds.\n",
            "-- Epoch 171\n",
            "Norm: 17662.80, NNZs: 10, Bias: 3561.411072, T: 43663653, Avg. loss: 6870034.395199\n",
            "Total training time: 9.01 seconds.\n",
            "-- Epoch 172\n",
            "Norm: 17650.62, NNZs: 10, Bias: 3583.561072, T: 43918996, Avg. loss: 7001334.719500\n",
            "Total training time: 9.06 seconds.\n",
            "-- Epoch 173\n",
            "Norm: 17127.13, NNZs: 10, Bias: 3606.961072, T: 44174339, Avg. loss: 6934373.354411\n",
            "Total training time: 9.11 seconds.\n",
            "-- Epoch 174\n",
            "Norm: 17123.33, NNZs: 10, Bias: 3627.311072, T: 44429682, Avg. loss: 6979447.731994\n",
            "Total training time: 9.16 seconds.\n",
            "-- Epoch 175\n",
            "Norm: 17604.52, NNZs: 10, Bias: 3646.411072, T: 44685025, Avg. loss: 6884621.566209\n",
            "Total training time: 9.21 seconds.\n",
            "-- Epoch 176\n",
            "Norm: 17552.70, NNZs: 10, Bias: 3663.811072, T: 44940368, Avg. loss: 6977348.413563\n",
            "Total training time: 9.27 seconds.\n",
            "-- Epoch 177\n",
            "Norm: 17883.60, NNZs: 10, Bias: 3687.761072, T: 45195711, Avg. loss: 6968692.088071\n",
            "Total training time: 9.32 seconds.\n",
            "-- Epoch 178\n",
            "Norm: 17306.83, NNZs: 10, Bias: 3709.161072, T: 45451054, Avg. loss: 6914052.452107\n",
            "Total training time: 9.37 seconds.\n",
            "-- Epoch 179\n",
            "Norm: 17703.06, NNZs: 10, Bias: 3730.761072, T: 45706397, Avg. loss: 6895798.466108\n",
            "Total training time: 9.42 seconds.\n",
            "-- Epoch 180\n",
            "Norm: 17158.44, NNZs: 10, Bias: 3750.961072, T: 45961740, Avg. loss: 6963248.258013\n",
            "Total training time: 9.47 seconds.\n",
            "-- Epoch 181\n",
            "Norm: 17956.91, NNZs: 10, Bias: 3764.561072, T: 46217083, Avg. loss: 6931133.657659\n",
            "Total training time: 9.53 seconds.\n",
            "-- Epoch 182\n",
            "Norm: 17692.04, NNZs: 10, Bias: 3789.111072, T: 46472426, Avg. loss: 6922669.392342\n",
            "Total training time: 9.58 seconds.\n",
            "-- Epoch 183\n",
            "Norm: 16974.43, NNZs: 10, Bias: 3809.111072, T: 46727769, Avg. loss: 6930794.829516\n",
            "Total training time: 9.63 seconds.\n",
            "-- Epoch 184\n",
            "Norm: 17601.00, NNZs: 10, Bias: 3828.111072, T: 46983112, Avg. loss: 6931779.226073\n",
            "Total training time: 9.68 seconds.\n",
            "-- Epoch 185\n",
            "Norm: 17734.02, NNZs: 10, Bias: 3851.161072, T: 47238455, Avg. loss: 7029904.669411\n",
            "Total training time: 9.73 seconds.\n",
            "-- Epoch 186\n",
            "Norm: 18039.05, NNZs: 10, Bias: 3871.261072, T: 47493798, Avg. loss: 6959080.548379\n",
            "Total training time: 9.78 seconds.\n",
            "-- Epoch 187\n",
            "Norm: 18280.93, NNZs: 10, Bias: 3889.111072, T: 47749141, Avg. loss: 6991624.586260\n",
            "Total training time: 9.83 seconds.\n",
            "-- Epoch 188\n",
            "Norm: 17786.77, NNZs: 10, Bias: 3909.011072, T: 48004484, Avg. loss: 6963003.468018\n",
            "Total training time: 9.88 seconds.\n",
            "-- Epoch 189\n",
            "Norm: 17481.03, NNZs: 10, Bias: 3935.761072, T: 48259827, Avg. loss: 7022799.703712\n",
            "Total training time: 9.94 seconds.\n",
            "-- Epoch 190\n",
            "Norm: 17629.97, NNZs: 10, Bias: 3958.561072, T: 48515170, Avg. loss: 6954170.797631\n",
            "Total training time: 9.99 seconds.\n",
            "-- Epoch 191\n",
            "Norm: 17876.30, NNZs: 10, Bias: 3972.161072, T: 48770513, Avg. loss: 6925335.096712\n",
            "Total training time: 10.04 seconds.\n",
            "-- Epoch 192\n",
            "Norm: 17412.68, NNZs: 10, Bias: 3995.111072, T: 49025856, Avg. loss: 6911552.608194\n",
            "Total training time: 10.09 seconds.\n",
            "-- Epoch 193\n",
            "Norm: 17972.29, NNZs: 10, Bias: 4010.961072, T: 49281199, Avg. loss: 6992283.545075\n",
            "Total training time: 10.14 seconds.\n",
            "-- Epoch 194\n",
            "Norm: 18176.23, NNZs: 10, Bias: 4030.411072, T: 49536542, Avg. loss: 6971418.650687\n",
            "Total training time: 10.20 seconds.\n",
            "-- Epoch 195\n",
            "Norm: 17849.06, NNZs: 10, Bias: 4048.261072, T: 49791885, Avg. loss: 6944215.666316\n",
            "Total training time: 10.25 seconds.\n",
            "-- Epoch 196\n",
            "Norm: 17077.60, NNZs: 10, Bias: 4076.361072, T: 50047228, Avg. loss: 7027275.161348\n",
            "Total training time: 10.30 seconds.\n",
            "-- Epoch 197\n",
            "Norm: 17291.57, NNZs: 10, Bias: 4097.561072, T: 50302571, Avg. loss: 6974211.858681\n",
            "Total training time: 10.36 seconds.\n",
            "-- Epoch 198\n",
            "Norm: 17609.47, NNZs: 10, Bias: 4120.211072, T: 50557914, Avg. loss: 6969982.724495\n",
            "Total training time: 10.42 seconds.\n",
            "-- Epoch 199\n",
            "Norm: 17683.43, NNZs: 10, Bias: 4136.761072, T: 50813257, Avg. loss: 6946564.390703\n",
            "Total training time: 10.48 seconds.\n",
            "-- Epoch 200\n",
            "Norm: 17892.00, NNZs: 10, Bias: 4155.711072, T: 51068600, Avg. loss: 6915225.105735\n",
            "Total training time: 10.53 seconds.\n",
            "-- Epoch 201\n",
            "Norm: 17430.49, NNZs: 10, Bias: 4178.911072, T: 51323943, Avg. loss: 6991652.077227\n",
            "Total training time: 10.58 seconds.\n",
            "-- Epoch 202\n",
            "Norm: 17244.43, NNZs: 10, Bias: 4201.661072, T: 51579286, Avg. loss: 6985273.469680\n",
            "Total training time: 10.63 seconds.\n",
            "-- Epoch 203\n",
            "Norm: 18033.76, NNZs: 10, Bias: 4218.111072, T: 51834629, Avg. loss: 6998495.136276\n",
            "Total training time: 10.69 seconds.\n",
            "-- Epoch 204\n",
            "Norm: 17989.14, NNZs: 10, Bias: 4243.511072, T: 52089972, Avg. loss: 6973200.606738\n",
            "Total training time: 10.74 seconds.\n",
            "-- Epoch 205\n",
            "Norm: 17783.38, NNZs: 10, Bias: 4263.461072, T: 52345315, Avg. loss: 6957797.584690\n",
            "Total training time: 10.79 seconds.\n",
            "-- Epoch 206\n",
            "Norm: 17844.14, NNZs: 10, Bias: 4281.711072, T: 52600658, Avg. loss: 6899164.342124\n",
            "Total training time: 10.84 seconds.\n",
            "-- Epoch 207\n",
            "Norm: 18007.20, NNZs: 10, Bias: 4305.061072, T: 52856001, Avg. loss: 6978094.120498\n",
            "Total training time: 10.89 seconds.\n",
            "-- Epoch 208\n",
            "Norm: 17801.53, NNZs: 10, Bias: 4322.111072, T: 53111344, Avg. loss: 6912686.236138\n",
            "Total training time: 10.94 seconds.\n",
            "-- Epoch 209\n",
            "Norm: 17225.02, NNZs: 10, Bias: 4343.761072, T: 53366687, Avg. loss: 6935533.628425\n",
            "Total training time: 10.99 seconds.\n",
            "-- Epoch 210\n",
            "Norm: 18227.93, NNZs: 10, Bias: 4359.060584, T: 53622030, Avg. loss: 6983683.077364\n",
            "Total training time: 11.04 seconds.\n",
            "-- Epoch 211\n",
            "Norm: 17481.04, NNZs: 10, Bias: 4382.110584, T: 53877373, Avg. loss: 6961568.367071\n",
            "Total training time: 11.10 seconds.\n",
            "-- Epoch 212\n",
            "Norm: 17524.76, NNZs: 10, Bias: 4402.260584, T: 54132716, Avg. loss: 6960734.838249\n",
            "Total training time: 11.14 seconds.\n",
            "-- Epoch 213\n",
            "Norm: 17892.92, NNZs: 10, Bias: 4417.060584, T: 54388059, Avg. loss: 6961830.648414\n",
            "Total training time: 11.20 seconds.\n",
            "-- Epoch 214\n",
            "Norm: 17887.78, NNZs: 10, Bias: 4440.360584, T: 54643402, Avg. loss: 6943055.814203\n",
            "Total training time: 11.25 seconds.\n",
            "-- Epoch 215\n",
            "Norm: 18110.95, NNZs: 10, Bias: 4456.260584, T: 54898745, Avg. loss: 6968197.058396\n",
            "Total training time: 11.30 seconds.\n",
            "-- Epoch 216\n",
            "Norm: 17748.63, NNZs: 10, Bias: 4478.060584, T: 55154088, Avg. loss: 6951008.377853\n",
            "Total training time: 11.35 seconds.\n",
            "-- Epoch 217\n",
            "Norm: 17498.48, NNZs: 10, Bias: 4501.060584, T: 55409431, Avg. loss: 6900242.870806\n",
            "Total training time: 11.40 seconds.\n",
            "-- Epoch 218\n",
            "Norm: 17870.68, NNZs: 10, Bias: 4524.660584, T: 55664774, Avg. loss: 6941807.491728\n",
            "Total training time: 11.46 seconds.\n",
            "-- Epoch 219\n",
            "Norm: 17646.45, NNZs: 10, Bias: 4547.812116, T: 55920117, Avg. loss: 6977016.281101\n",
            "Total training time: 11.51 seconds.\n",
            "-- Epoch 220\n",
            "Norm: 17564.58, NNZs: 10, Bias: 4570.462116, T: 56175460, Avg. loss: 6949844.662875\n",
            "Total training time: 11.56 seconds.\n",
            "-- Epoch 221\n",
            "Norm: 17498.60, NNZs: 10, Bias: 4587.012116, T: 56430803, Avg. loss: 6928261.817194\n",
            "Total training time: 11.61 seconds.\n",
            "-- Epoch 222\n",
            "Norm: 17737.01, NNZs: 10, Bias: 4607.712116, T: 56686146, Avg. loss: 6923033.141253\n",
            "Total training time: 11.67 seconds.\n",
            "-- Epoch 223\n",
            "Norm: 17685.02, NNZs: 10, Bias: 4626.512116, T: 56941489, Avg. loss: 6976468.341438\n",
            "Total training time: 11.72 seconds.\n",
            "-- Epoch 224\n",
            "Norm: 17215.86, NNZs: 10, Bias: 4650.212116, T: 57196832, Avg. loss: 6932864.549198\n",
            "Total training time: 11.77 seconds.\n",
            "-- Epoch 225\n",
            "Norm: 17593.83, NNZs: 10, Bias: 4665.312116, T: 57452175, Avg. loss: 6934322.552389\n",
            "Total training time: 11.82 seconds.\n",
            "-- Epoch 226\n",
            "Norm: 17646.77, NNZs: 10, Bias: 4684.712116, T: 57707518, Avg. loss: 7035170.571445\n",
            "Total training time: 11.88 seconds.\n",
            "-- Epoch 227\n",
            "Norm: 17415.72, NNZs: 10, Bias: 4714.312116, T: 57962861, Avg. loss: 6941424.666131\n",
            "Total training time: 11.93 seconds.\n",
            "-- Epoch 228\n",
            "Norm: 18097.43, NNZs: 10, Bias: 4731.412108, T: 58218204, Avg. loss: 6983773.488755\n",
            "Total training time: 11.98 seconds.\n",
            "-- Epoch 229\n",
            "Norm: 17166.36, NNZs: 10, Bias: 4758.962108, T: 58473547, Avg. loss: 6937054.019888\n",
            "Total training time: 12.03 seconds.\n",
            "-- Epoch 230\n",
            "Norm: 17840.38, NNZs: 10, Bias: 4770.962108, T: 58728890, Avg. loss: 6941136.812458\n",
            "Total training time: 12.08 seconds.\n",
            "-- Epoch 231\n",
            "Norm: 18087.31, NNZs: 10, Bias: 4788.712108, T: 58984233, Avg. loss: 6947442.427657\n",
            "Total training time: 12.14 seconds.\n",
            "-- Epoch 232\n",
            "Norm: 17595.01, NNZs: 10, Bias: 4810.112108, T: 59239576, Avg. loss: 6984283.512666\n",
            "Total training time: 12.19 seconds.\n",
            "-- Epoch 233\n",
            "Norm: 17682.03, NNZs: 10, Bias: 4834.162108, T: 59494919, Avg. loss: 6932779.247089\n",
            "Total training time: 12.24 seconds.\n",
            "-- Epoch 234\n",
            "Norm: 17594.25, NNZs: 10, Bias: 4850.662108, T: 59750262, Avg. loss: 6976211.230252\n",
            "Total training time: 12.29 seconds.\n",
            "-- Epoch 235\n",
            "Norm: 17923.05, NNZs: 10, Bias: 4875.775181, T: 60005605, Avg. loss: 7001438.829070\n",
            "Total training time: 12.35 seconds.\n",
            "-- Epoch 236\n",
            "Norm: 17530.24, NNZs: 10, Bias: 4899.725181, T: 60260948, Avg. loss: 6952122.769387\n",
            "Total training time: 12.40 seconds.\n",
            "-- Epoch 237\n",
            "Norm: 17196.46, NNZs: 10, Bias: 4925.096124, T: 60516291, Avg. loss: 6951072.511192\n",
            "Total training time: 12.46 seconds.\n",
            "-- Epoch 238\n",
            "Norm: 17754.14, NNZs: 10, Bias: 4941.296124, T: 60771634, Avg. loss: 6939305.625343\n",
            "Total training time: 12.51 seconds.\n",
            "-- Epoch 239\n",
            "Norm: 18000.14, NNZs: 10, Bias: 4962.996124, T: 61026977, Avg. loss: 6902624.321100\n",
            "Total training time: 12.56 seconds.\n",
            "-- Epoch 240\n",
            "Norm: 17774.96, NNZs: 10, Bias: 4982.296124, T: 61282320, Avg. loss: 6920349.282855\n",
            "Total training time: 12.61 seconds.\n",
            "-- Epoch 241\n",
            "Norm: 17589.20, NNZs: 10, Bias: 5005.796124, T: 61537663, Avg. loss: 6942522.178473\n",
            "Total training time: 12.66 seconds.\n",
            "-- Epoch 242\n",
            "Norm: 17438.83, NNZs: 10, Bias: 5029.046124, T: 61793006, Avg. loss: 7011410.499813\n",
            "Total training time: 12.72 seconds.\n",
            "-- Epoch 243\n",
            "Norm: 18079.72, NNZs: 10, Bias: 5045.196117, T: 62048349, Avg. loss: 7044664.686249\n",
            "Total training time: 12.77 seconds.\n",
            "-- Epoch 244\n",
            "Norm: 17673.41, NNZs: 10, Bias: 5071.146117, T: 62303692, Avg. loss: 6926660.574269\n",
            "Total training time: 12.82 seconds.\n",
            "-- Epoch 245\n",
            "Norm: 18469.76, NNZs: 10, Bias: 5086.296117, T: 62559035, Avg. loss: 6959168.592419\n",
            "Total training time: 12.87 seconds.\n",
            "-- Epoch 246\n",
            "Norm: 17538.08, NNZs: 10, Bias: 5115.146117, T: 62814378, Avg. loss: 6936150.856042\n",
            "Total training time: 12.93 seconds.\n",
            "-- Epoch 247\n",
            "Norm: 17443.04, NNZs: 10, Bias: 5130.946117, T: 63069721, Avg. loss: 6969606.900014\n",
            "Total training time: 12.98 seconds.\n",
            "-- Epoch 248\n",
            "Norm: 17405.95, NNZs: 10, Bias: 5151.846117, T: 63325064, Avg. loss: 6900442.556560\n",
            "Total training time: 13.03 seconds.\n",
            "-- Epoch 249\n",
            "Norm: 17244.80, NNZs: 10, Bias: 5176.591825, T: 63580407, Avg. loss: 6996774.964925\n",
            "Total training time: 13.08 seconds.\n",
            "-- Epoch 250\n",
            "Norm: 17781.69, NNZs: 10, Bias: 5191.241825, T: 63835750, Avg. loss: 6937934.307101\n",
            "Total training time: 13.14 seconds.\n"
          ]
        },
        {
          "output_type": "execute_result",
          "data": {
            "text/plain": [
              "SGDClassifier(alpha=0.0001, average=False, class_weight=None,\n",
              "              early_stopping=False, epsilon=0.1, eta0=0.05, fit_intercept=True,\n",
              "              l1_ratio=0.15, learning_rate='constant', loss='log', max_iter=250,\n",
              "              n_iter_no_change=5, n_jobs=None, penalty='l2', power_t=0.5,\n",
              "              random_state=0, shuffle=True, tol=None, validation_fraction=0.1,\n",
              "              verbose=1, warm_start=False)"
            ]
          },
          "metadata": {},
          "execution_count": 177
        }
      ]
    },
    {
      "cell_type": "markdown",
      "metadata": {
        "id": "BrDwi7sckio6"
      },
      "source": [
        "##7.2 Avaliando Modelo"
      ]
    },
    {
      "cell_type": "code",
      "metadata": {
        "colab": {
          "base_uri": "https://localhost:8080/"
        },
        "id": "kk52a5KNftfR",
        "outputId": "ba9082c5-ec6a-4090-e0e8-c10544c2fc59"
      },
      "source": [
        "for f, c in zip(df_train.columns[1:], reglog_model.coef_[0].tolist()):\n",
        "    print(f'{f} = {c}')\n",
        "\n",
        "print(f'CONST = {float(reglog_model.intercept_)}')"
      ],
      "execution_count": null,
      "outputs": [
        {
          "output_type": "stream",
          "name": "stdout",
          "text": [
            "Age = 90.0671236699138\n",
            "Driving_License = 5391.406538363818\n",
            "Region_Code = 16.26300367504131\n",
            "Previously_Insured = 648.3723492345354\n",
            "Vehicle_Age = -543.0070975188937\n",
            "Vehicle_Damage = -180.75619942020174\n",
            "Annual_Premium = 582.1832206537789\n",
            "Policy_Sales_Channel = 540.5741915976199\n",
            "Vintage = -16830.96011156369\n",
            "Response = 1566.022114913993\n",
            "CONST = 5191.241825275374\n"
          ]
        }
      ]
    },
    {
      "cell_type": "code",
      "metadata": {
        "colab": {
          "base_uri": "https://localhost:8080/"
        },
        "id": "oKrGyrUMgPfd",
        "outputId": "762937a7-d9d3-4323-cdf7-cd98d98a4cef"
      },
      "source": [
        "print(f'Acurácia (Treino): {round(accuracy_score(y_train, reglog_model.predict(X_train)), 2)}')"
      ],
      "execution_count": null,
      "outputs": [
        {
          "output_type": "stream",
          "name": "stdout",
          "text": [
            "Acurácia (Treino): 0.21\n"
          ]
        }
      ]
    },
    {
      "cell_type": "code",
      "metadata": {
        "colab": {
          "base_uri": "https://localhost:8080/"
        },
        "id": "bNgtAjM3gRHK",
        "outputId": "a2f395bb-b187-4aef-a836-1402af9e87d3"
      },
      "source": [
        "print(f'Acurácia (Teste): {round(accuracy_score(y_test, reglog_model.predict(X_test)), 2)}')"
      ],
      "execution_count": null,
      "outputs": [
        {
          "output_type": "stream",
          "name": "stdout",
          "text": [
            "Acurácia (Teste): 0.21\n"
          ]
        }
      ]
    },
    {
      "cell_type": "code",
      "metadata": {
        "colab": {
          "base_uri": "https://localhost:8080/"
        },
        "id": "DK7Kgp67qk7U",
        "outputId": "213ed458-51a7-4b1f-a7d6-fab659d9f1f7"
      },
      "source": [
        "cm = confusion_matrix(y_test, reglog_model.predict(X_test), labels=reglog_model.classes_)\n",
        "# Normalise\n",
        "cmn = cm.astype('float') /  cm.sum(axis=1)[:, np.newaxis]\n",
        "fig, ax = plt.subplots(figsize=(5,4))\n",
        "sns.heatmap(cmn, annot=True, fmt='.2f', xticklabels=target_names, yticklabels=target_names)\n",
        "plt.ylabel('Actual')\n",
        "plt.xlabel('Predicted')\n",
        "plt.show(block=False)"
      ],
      "execution_count": null,
      "outputs": [
        {
          "output_type": "display_data",
          "data": {
            "image/png": "[encoded data removed]",
            "text/plain": [
              "<Figure size 360x288 with 2 Axes>"
            ]
          },
          "metadata": {}
        }
      ]
    },
    {
      "cell_type": "markdown",
      "metadata": {
        "id": "f0bm2OCZOYM1"
      },
      "source": [
        "#8. Random Forest"
      ]
    },
    {
      "cell_type": "code",
      "metadata": {
        "id": "OdHYOQgXObCI"
      },
      "source": [
        "random_forest_model = RandomForestClassifier(n_estimators=50, \n",
        "                                             criterion='entropy',\n",
        "                                             max_depth=10,\n",
        "                                             min_samples_split=2,\n",
        "                                             random_state=0)\n"
      ],
      "execution_count": null,
      "outputs": []
    },
    {
      "cell_type": "code",
      "metadata": {
        "colab": {
          "base_uri": "https://localhost:8080/"
        },
        "id": "6g4dtCQSO_7j",
        "outputId": "5b6fc6d5-d130-4d97-a387-9688837d89a9"
      },
      "source": [
        "random_forest_model.fit(X_train, y_train)"
      ],
      "execution_count": null,
      "outputs": [
        {
          "output_type": "execute_result",
          "data": {
            "text/plain": [
              "RandomForestClassifier(bootstrap=True, ccp_alpha=0.0, class_weight=None,\n",
              "                       criterion='entropy', max_depth=10, max_features='auto',\n",
              "                       max_leaf_nodes=None, max_samples=None,\n",
              "                       min_impurity_decrease=0.0, min_impurity_split=None,\n",
              "                       min_samples_leaf=1, min_samples_split=2,\n",
              "                       min_weight_fraction_leaf=0.0, n_estimators=50,\n",
              "                       n_jobs=None, oob_score=False, random_state=0, verbose=0,\n",
              "                       warm_start=False)"
            ]
          },
          "metadata": {},
          "execution_count": 188
        }
      ]
    },
    {
      "cell_type": "code",
      "metadata": {
        "colab": {
          "base_uri": "https://localhost:8080/"
        },
        "id": "vRFb7GrrPCD_",
        "outputId": "827252d7-09dd-4c40-ea31-d649e1083298"
      },
      "source": [
        "print('Random Forest')\n",
        "print(f'Acurácia: {round(accuracy_score(y_test, random_forest_model.predict(X_test)), 4)}')"
      ],
      "execution_count": null,
      "outputs": [
        {
          "output_type": "stream",
          "name": "stdout",
          "text": [
            "Random Forest\n",
            "Acurácia: 0.8766\n"
          ]
        }
      ]
    },
    {
      "cell_type": "code",
      "metadata": {
        "colab": {
          "base_uri": "https://localhost:8080/"
        },
        "id": "zo2ozBZjPDmj",
        "outputId": "614be9e3-b5c7-474d-b655-0e073b3f6677"
      },
      "source": [
        "print(classification_report(y_test, random_forest_model.predict(X_test), target_names=['Não', 'Sim']))"
      ],
      "execution_count": null,
      "outputs": [
        {
          "output_type": "stream",
          "name": "stdout",
          "text": [
            "              precision    recall  f1-score   support\n",
            "\n",
            "         Não       0.88      1.00      0.93    110251\n",
            "         Sim       0.00      0.00      0.00     15515\n",
            "\n",
            "    accuracy                           0.88    125766\n",
            "   macro avg       0.44      0.50      0.47    125766\n",
            "weighted avg       0.77      0.88      0.82    125766\n",
            "\n"
          ]
        }
      ]
    },
    {
      "cell_type": "code",
      "metadata": {
        "colab": {
          "base_uri": "https://localhost:8080/"
        },
        "id": "xzmQTkcc9gWg",
        "outputId": "38d65e20-8a55-4cbe-f6ad-4a10fd534e52"
      },
      "source": [
        "cm = confusion_matrix(y_test, random_forest_model.predict(X_test), labels=random_forest_model.classes_)\n",
        "# Normalise\n",
        "cmn = cm.astype('float') /  cm.sum(axis=1)[:, np.newaxis]\n",
        "fig, ax = plt.subplots(figsize=(5,4))\n",
        "sns.heatmap(cmn, annot=True, fmt='.2f', xticklabels=target_names, yticklabels=target_names)\n",
        "plt.ylabel('Actual')\n",
        "plt.xlabel('Predicted')\n",
        "plt.show(block=False)"
      ],
      "execution_count": null,
      "outputs": [
        {
          "output_type": "display_data",
          "data": {
            "image/png": "[encoded data removed]",
            "text/plain": [
              "<Figure size 360x288 with 2 Axes>"
            ]
          },
          "metadata": {}
        }
      ]
    },
    {
      "cell_type": "markdown",
      "metadata": {
        "id": "p70GJj7B58zy"
      },
      "source": [
        "#9. XGBoost"
      ]
    },
    {
      "cell_type": "code",
      "metadata": {
        "id": "qFRiGJ0D5_QD"
      },
      "source": [
        "%%capture\n",
        "\n",
        "xgb_model = xgboost.XGBClassifier(booster = 'gbtree', \n",
        "                                  learning_rate = 0.03,\n",
        "                                  n_estimators = 100,\n",
        "                                  max_depth = 3, \n",
        "                                  use_label_encoder=False)\n",
        "\n",
        "cv = KFold(n_splits = 5, \n",
        "           shuffle = True, \n",
        "           random_state=0)\n",
        "\n",
        "n_scores = cross_val_score(xgb_model, \n",
        "                           X_train, y_train, \n",
        "                           scoring = 'accuracy', \n",
        "                           cv = cv)"
      ],
      "execution_count": 26,
      "outputs": []
    },
    {
      "cell_type": "code",
      "metadata": {
        "colab": {
          "base_uri": "https://localhost:8080/"
        },
        "id": "FO6STSM36CrQ",
        "outputId": "38c6a366-be04-45b3-842a-5d3c820cecc4"
      },
      "source": [
        "print('Validação Cruzada\\n')\n",
        "print(f'Acurácias: {n_scores}\\n')\n",
        "print(f'Acurácias (média): {round(np.mean(n_scores), 4)}')\n",
        "print(f'Acurácias (desvio padrão): {round(np.std(n_scores), 4)}')"
      ],
      "execution_count": 27,
      "outputs": [
        {
          "output_type": "stream",
          "name": "stdout",
          "text": [
            "Validação Cruzada\n",
            "\n",
            "Acurácias: [0.87783195 0.87744033 0.87734242 0.8785345  0.8780058 ]\n",
            "\n",
            "Acurácias (média): 0.8778\n",
            "Acurácias (desvio padrão): 0.0004\n"
          ]
        }
      ]
    },
    {
      "cell_type": "code",
      "metadata": {
        "id": "eNwQ4fh46FeW"
      },
      "source": [
        "%%capture\n",
        "\n",
        "xgb_model.fit(X_train, y_train)"
      ],
      "execution_count": 28,
      "outputs": []
    },
    {
      "cell_type": "code",
      "metadata": {
        "colab": {
          "base_uri": "https://localhost:8080/"
        },
        "id": "1Qx7npCJGJFv",
        "outputId": "4efb083e-42b1-4501-fdac-2a00cdb7cb84"
      },
      "source": [
        "print('XGBoost')\n",
        "print(f'Acurácia: {round(accuracy_score(y_test, xgb_model.predict(X_test)), 4)}')"
      ],
      "execution_count": 29,
      "outputs": [
        {
          "output_type": "stream",
          "name": "stdout",
          "text": [
            "XGBoost\n",
            "Acurácia: 0.8766\n"
          ]
        }
      ]
    },
    {
      "cell_type": "code",
      "metadata": {
        "colab": {
          "base_uri": "https://localhost:8080/",
          "height": 0
        },
        "id": "F8FbUURyqxYl",
        "outputId": "419763d9-16df-409a-8016-846da233b32b"
      },
      "source": [
        "cm = confusion_matrix(y_test, xgb_model.predict(X_test), labels=xgb_model.classes_)\n",
        "# Normalise\n",
        "cmn = cm.astype('float') /  cm.sum(axis=1)[:, np.newaxis]\n",
        "fig, ax = plt.subplots(figsize=(5,4))\n",
        "sns.heatmap(cmn, annot=True, fmt='.2f', xticklabels=target_names, yticklabels=target_names)\n",
        "plt.ylabel('Actual')\n",
        "plt.xlabel('Predicted')\n",
        "plt.show(block=False)"
      ],
      "execution_count": 30,
      "outputs": [
        {
          "output_type": "display_data",
          "data": {
            "image/png": "[encoded data removed]",
            "text/plain": [
              "<Figure size 360x288 with 2 Axes>"
            ]
          },
          "metadata": {}
        }
      ]
    },
    {
      "cell_type": "markdown",
      "metadata": {
        "id": "e3v6FpWY57be"
      },
      "source": [
        "#10. Baleceamento + Seleção de Features "
      ]
    },
    {
      "cell_type": "code",
      "metadata": {
        "id": "Hiw1yE1Z2oBm"
      },
      "source": [
        "train = xgboost.DMatrix(X_train,y_train,feature_names=X_train.columns)\n",
        "test = xgboost.DMatrix(X_test,feature_names=X_test.columns)\n",
        "xgb_params = {\n",
        "    'eta':0.03,\n",
        "    'max_depth':4,\n",
        "    'sub_sample':0.9,\n",
        "    'colsample_bytree':0.5,\n",
        "    'objective':'binary:logistic',\n",
        "    'eval_metric':'auc',\n",
        "    'silent':0}\n",
        "\n",
        "final_model = xgboost.train(xgb_params,train,num_boost_round=500)"
      ],
      "execution_count": 31,
      "outputs": []
    },
    {
      "cell_type": "code",
      "metadata": {
        "id": "cvJjEY-VypFc"
      },
      "source": [
        "import pickle\n",
        "import numpy as np\n",
        "from util import ScoreDistribution, ROC_AUC, \\\n",
        "    prob_scale, get_resampling, PSI, xgbCV"
      ],
      "execution_count": 38,
      "outputs": []
    },
    {
      "cell_type": "code",
      "metadata": {
        "colab": {
          "base_uri": "https://localhost:8080/"
        },
        "id": "IrPlU39m0nYt",
        "outputId": "f3c89ce1-1742-4720-c764-404d855f07d9"
      },
      "source": [
        "X_train_under, y_train_under = get_resampling(X_train, y_train, \n",
        "                                              verbose=False, \n",
        "                                              random_state=42, \n",
        "                                              by='undersampling', \n",
        "                                              good_mult=1)"
      ],
      "execution_count": 33,
      "outputs": [
        {
          "output_type": "stream",
          "name": "stderr",
          "text": [
            "Function safe_indexing is deprecated; safe_indexing is deprecated in version 0.22 and will be removed in version 0.24.\n"
          ]
        }
      ]
    },
    {
      "cell_type": "code",
      "metadata": {
        "colab": {
          "base_uri": "https://localhost:8080/"
        },
        "id": "VCZiJwpC1wrS",
        "outputId": "1d3fec89-8ebd-4ea4-f8cf-7f1a8dc2433c"
      },
      "source": [
        "y_train_under.value_counts(normalize=True)"
      ],
      "execution_count": 34,
      "outputs": [
        {
          "output_type": "execute_result",
          "data": {
            "text/plain": [
              "1    0.5\n",
              "0    0.5\n",
              "Name: bom_pagador, dtype: float64"
            ]
          },
          "metadata": {},
          "execution_count": 34
        }
      ]
    },
    {
      "cell_type": "code",
      "metadata": {
        "id": "HrU6s3SW4DZk"
      },
      "source": [
        "train = xgboost.DMatrix(X_train_under,y_train_under,\n",
        "                    feature_names=X_train_under.columns)\n",
        "test = xgboost.DMatrix(X_test,feature_names=X_train_under.columns)\n",
        "xgb_params = {\n",
        "                    'eta':0.03,\n",
        "                    'max_depth':4,\n",
        "                    'sub_sample':0.9,\n",
        "                    'colsample_bytree':0.5,\n",
        "                    'objective':'binary:logistic',\n",
        "                    'eval_metric':'auc',\n",
        "                    'silent':0\n",
        "                    }\n",
        "\n",
        "final_model_under = xgboost.train(xgb_params,train,num_boost_round=500)"
      ],
      "execution_count": 35,
      "outputs": []
    },
    {
      "cell_type": "code",
      "metadata": {
        "colab": {
          "base_uri": "https://localhost:8080/",
          "height": 306
        },
        "id": "79bStZDt14r8",
        "outputId": "c627af18-924b-4960-bfe3-9a5ee95c3a1a"
      },
      "source": [
        "y_pred_train_under = final_model_under.predict(train)\n",
        "\n",
        "xgboost.plot_importance(final_model_under)\n",
        "plt.show()"
      ],
      "execution_count": 36,
      "outputs": [
        {
          "output_type": "display_data",
          "data": {
            "image/png": "[encoded data removed]",
            "text/plain": [
              "<Figure size 432x288 with 1 Axes>"
            ]
          },
          "metadata": {}
        }
      ]
    },
    {
      "cell_type": "markdown",
      "metadata": {
        "id": "iCA9RcVjm1kr"
      },
      "source": [
        "# 10.Gerando Modelo"
      ]
    },
    {
      "cell_type": "code",
      "metadata": {
        "id": "FW9cQ3pGlDxq"
      },
      "source": [
        "file_name = 'xgboost_undersampling.pkl'\n",
        "pickle.dump(final_model_under, open(file_name, \"wb\"))"
      ],
      "execution_count": 39,
      "outputs": []
    }
  ]
}