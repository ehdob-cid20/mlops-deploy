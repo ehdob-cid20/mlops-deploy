{
  "nbformat": 4,
  "nbformat_minor": 0,
  "metadata": {
    "colab": {
      "name": "CDN_Trabalho_Final.ipynb",
      "provenance": [],
      "collapsed_sections": [
        "NpCwkg1_X0Ts",
        "WGcYL_WxX6ii",
        "NRxDxXEUX-Fo",
        "CAsNzuvWgiIo",
        "aoGMe2iEZQGf",
        "oJyqJq4oYW3J",
        "0Dbx5VdOZT0y",
        "b2W9TLmRSL90",
        "ETqbEOR-hqmb",
        "H41P7TK1dDFX",
        "qiyGxbgYh-w6",
        "HLazYrEOhvNp",
        "ng8PKwxVd_Cf",
        "KpvXiwZKNIRl",
        "KNi01w9DNgJX",
        "AuHMs7zK3gnQ",
        "RmTjgRTgA2ev",
        "-m1IbFcySSVK"
      ],
      "toc_visible": true,
      "include_colab_link": true
    },
    "kernelspec": {
      "display_name": "Python 3",
      "name": "python3"
    },
    "language_info": {
      "name": "python"
    }
  },
  "cells": [
    {
      "cell_type": "markdown",
      "metadata": {
        "id": "view-in-github",
        "colab_type": "text"
      },
      "source": [
        "<a href=\"https://colab.research.google.com/github/ehdob-cid20/mlops-deploy/blob/main/CDN_Trabalho_Final.ipynb\" target=\"_parent\"><img src=\"https://colab.research.google.com/assets/colab-badge.svg\" alt=\"Open In Colab\"/></a>"
      ]
    },
    {
      "cell_type": "markdown",
      "metadata": {
        "id": "Ia9b-lTpiK5k"
      },
      "source": [
        "<h1><strong>Health Insurance Cross Sell Prediction - Kaggle</strong></h1>\n",
        "\n",
        "<h3><strong>Data Science for Business</strong></h3>\n",
        "\n",
        "**Goal**:\n",
        "Our client is an Insurance company that has provided Health Insurance to its customers now they need your help in building a model to predict whether the policyholders (customers) from past year will also be interested in Vehicle Insurance provided by the company.\n",
        "\n",
        "*   Dataset: https://www.kaggle.com/anmolkumar/health-insurance-cross-sell-prediction\n",
        "\n",
        "***Teacher:*** Marcio Palheta Piedade\n",
        "\n",
        "***Group:*** Dilmara Ferreira, Edson Brilhante, Cássio de Paula e Paulo Moraes"
      ]
    },
    {
      "cell_type": "markdown",
      "metadata": {
        "id": "6sEaP1ySsoL4"
      },
      "source": [
        "<h4><strong>Melhores Modelos</strong></h4>\n",
        "\n",
        "\n",
        "\n",
        "*   Logistic Regression\n",
        "*   Random Florest\n",
        "*   XGBoost\n",
        "\n"
      ]
    },
    {
      "cell_type": "markdown",
      "metadata": {
        "id": "lhb4us1rtXgs"
      },
      "source": [
        "<h4><strong>Campos/Conceito</strong></h4>\n",
        "\n",
        "Total de 12 campos, sendo nenhum nulo, 3 categoricos  e 9 númericos.\n",
        "\n",
        "*  id - Unique ID for the customer\n",
        "*  Gender - Gender of the customer\n",
        "*  Age - Age of the customer\n",
        "*  Driving_License - 0 : Customer does not have DL, 1 : Customer already has DL\n",
        "*  Region_Code -  Unique code for the region of the customer\n",
        "*  Previously_Insured - 1 : Customer already has Vehicle Insurance, 0 : Customer doesn't have Vehicle Insurance\n",
        "*  Vehicle_Age - Age of the Vehiclevy  \n",
        "*  Vehicle_Damage - 1 : Customer got his/her vehicle damaged in the past. 0 : Customer didn't get his/her vehicle damaged in the past.\n",
        "*  Annual_Premium - The amount customer needs to pay as premium in the year\n",
        "*  PolicySalesChannel - Anonymized Code for the channel of outreaching to the customer ie. Different Agents, Over Mail, Over Phone, In Person, etc.\n",
        "*  Vintage - Number of Days, Customer has been associated with the company.\n",
        "*  Response - 1 : Customer is interested, 0 : Customer is not interested"
      ]
    },
    {
      "cell_type": "markdown",
      "metadata": {
        "id": "NpCwkg1_X0Ts"
      },
      "source": [
        "# 1. Importando Bibliotecas"
      ]
    },
    {
      "cell_type": "code",
      "metadata": {
        "colab": {
          "base_uri": "https://localhost:8080/"
        },
        "id": "SbaISY63Y-_J",
        "outputId": "b0864eb6-6a6e-4e60-cdaf-b31f3793e8d9"
      },
      "source": [
        "!pip install shap "
      ],
      "execution_count": null,
      "outputs": [
        {
          "output_type": "stream",
          "name": "stdout",
          "text": [
            "Requirement already satisfied: shap in /usr/local/lib/python3.7/dist-packages (0.40.0)\n",
            "Requirement already satisfied: numpy in /usr/local/lib/python3.7/dist-packages (from shap) (1.19.5)\n",
            "Requirement already satisfied: numba in /usr/local/lib/python3.7/dist-packages (from shap) (0.51.2)\n",
            "Requirement already satisfied: slicer==0.0.7 in /usr/local/lib/python3.7/dist-packages (from shap) (0.0.7)\n",
            "Requirement already satisfied: tqdm>4.25.0 in /usr/local/lib/python3.7/dist-packages (from shap) (4.62.3)\n",
            "Requirement already satisfied: scipy in /usr/local/lib/python3.7/dist-packages (from shap) (1.4.1)\n",
            "Requirement already satisfied: cloudpickle in /usr/local/lib/python3.7/dist-packages (from shap) (1.3.0)\n",
            "Requirement already satisfied: pandas in /usr/local/lib/python3.7/dist-packages (from shap) (1.1.5)\n",
            "Requirement already satisfied: packaging>20.9 in /usr/local/lib/python3.7/dist-packages (from shap) (21.2)\n",
            "Requirement already satisfied: scikit-learn in /usr/local/lib/python3.7/dist-packages (from shap) (0.22.2.post1)\n",
            "Requirement already satisfied: pyparsing<3,>=2.0.2 in /usr/local/lib/python3.7/dist-packages (from packaging>20.9->shap) (2.4.7)\n",
            "Requirement already satisfied: setuptools in /usr/local/lib/python3.7/dist-packages (from numba->shap) (57.4.0)\n",
            "Requirement already satisfied: llvmlite<0.35,>=0.34.0.dev0 in /usr/local/lib/python3.7/dist-packages (from numba->shap) (0.34.0)\n",
            "Requirement already satisfied: python-dateutil>=2.7.3 in /usr/local/lib/python3.7/dist-packages (from pandas->shap) (2.8.2)\n",
            "Requirement already satisfied: pytz>=2017.2 in /usr/local/lib/python3.7/dist-packages (from pandas->shap) (2018.9)\n",
            "Requirement already satisfied: six>=1.5 in /usr/local/lib/python3.7/dist-packages (from python-dateutil>=2.7.3->pandas->shap) (1.15.0)\n",
            "Requirement already satisfied: joblib>=0.11 in /usr/local/lib/python3.7/dist-packages (from scikit-learn->shap) (1.1.0)\n"
          ]
        }
      ]
    },
    {
      "cell_type": "code",
      "metadata": {
        "id": "t8lWWr0mYRCR"
      },
      "source": [
        "import numpy as np\n",
        "import pandas as pd\n",
        "import matplotlib as mpl\n",
        "import matplotlib.pyplot as plt\n",
        "import seaborn as sns\n",
        "import shap\n",
        "import xgboost\n",
        "\n",
        "from sklearn.preprocessing import LabelEncoder\n",
        "from sklearn.preprocessing import StandardScaler\n",
        "from sklearn.model_selection import train_test_split\n",
        "from sklearn.model_selection import KFold, cross_val_score\n",
        "from sklearn.neighbors import KNeighborsClassifier, DistanceMetric\n",
        "from sklearn.tree import DecisionTreeClassifier, plot_tree\n",
        "from sklearn.linear_model import LogisticRegression, SGDClassifier\n",
        "from sklearn.metrics import accuracy_score, classification_report, confusion_matrix, ConfusionMatrixDisplay, SCORERS\n",
        "from sklearn.ensemble import RandomForestClassifier\n",
        "from sklearn.metrics import ConfusionMatrixDisplay"
      ],
      "execution_count": null,
      "outputs": []
    },
    {
      "cell_type": "code",
      "metadata": {
        "id": "ZFDuga0WinHn"
      },
      "source": [
        "pd.options.display.max_columns = None"
      ],
      "execution_count": null,
      "outputs": []
    },
    {
      "cell_type": "code",
      "metadata": {
        "id": "14YywrkFiqLq"
      },
      "source": [
        "sns.set(font_scale=1.2)\n",
        "sns.set_style({'font.family': 'serif',\n",
        "               'fontname': 'Times New Roman'})"
      ],
      "execution_count": null,
      "outputs": []
    },
    {
      "cell_type": "markdown",
      "metadata": {
        "id": "WGcYL_WxX6ii"
      },
      "source": [
        "#2. Carregando Dados"
      ]
    },
    {
      "cell_type": "code",
      "metadata": {
        "colab": {
          "base_uri": "https://localhost:8080/",
          "height": 110
        },
        "id": "CpevbxR1ZdKq",
        "outputId": "dbb68da4-ee18-4866-d0d8-f6e752a9c6ff"
      },
      "source": [
        "df_train = pd.read_csv('train.csv', sep=',')\n",
        "df_train.head(2)"
      ],
      "execution_count": null,
      "outputs": [
        {
          "output_type": "execute_result",
          "data": {
            "text/html": [
              "<div>\n",
              "<style scoped>\n",
              "    .dataframe tbody tr th:only-of-type {\n",
              "        vertical-align: middle;\n",
              "    }\n",
              "\n",
              "    .dataframe tbody tr th {\n",
              "        vertical-align: top;\n",
              "    }\n",
              "\n",
              "    .dataframe thead th {\n",
              "        text-align: right;\n",
              "    }\n",
              "</style>\n",
              "<table border=\"1\" class=\"dataframe\">\n",
              "  <thead>\n",
              "    <tr style=\"text-align: right;\">\n",
              "      <th></th>\n",
              "      <th>id</th>\n",
              "      <th>Gender</th>\n",
              "      <th>Age</th>\n",
              "      <th>Driving_License</th>\n",
              "      <th>Region_Code</th>\n",
              "      <th>Previously_Insured</th>\n",
              "      <th>Vehicle_Age</th>\n",
              "      <th>Vehicle_Damage</th>\n",
              "      <th>Annual_Premium</th>\n",
              "      <th>Policy_Sales_Channel</th>\n",
              "      <th>Vintage</th>\n",
              "      <th>Response</th>\n",
              "    </tr>\n",
              "  </thead>\n",
              "  <tbody>\n",
              "    <tr>\n",
              "      <th>0</th>\n",
              "      <td>1</td>\n",
              "      <td>Male</td>\n",
              "      <td>44</td>\n",
              "      <td>1</td>\n",
              "      <td>28.0</td>\n",
              "      <td>0</td>\n",
              "      <td>&gt; 2 Years</td>\n",
              "      <td>Yes</td>\n",
              "      <td>40454.0</td>\n",
              "      <td>26.0</td>\n",
              "      <td>217</td>\n",
              "      <td>1</td>\n",
              "    </tr>\n",
              "    <tr>\n",
              "      <th>1</th>\n",
              "      <td>2</td>\n",
              "      <td>Male</td>\n",
              "      <td>76</td>\n",
              "      <td>1</td>\n",
              "      <td>3.0</td>\n",
              "      <td>0</td>\n",
              "      <td>1-2 Year</td>\n",
              "      <td>No</td>\n",
              "      <td>33536.0</td>\n",
              "      <td>26.0</td>\n",
              "      <td>183</td>\n",
              "      <td>0</td>\n",
              "    </tr>\n",
              "  </tbody>\n",
              "</table>\n",
              "</div>"
            ],
            "text/plain": [
              "   id Gender  Age  Driving_License  Region_Code  Previously_Insured  \\\n",
              "0   1   Male   44                1         28.0                   0   \n",
              "1   2   Male   76                1          3.0                   0   \n",
              "\n",
              "  Vehicle_Age Vehicle_Damage  Annual_Premium  Policy_Sales_Channel  Vintage  \\\n",
              "0   > 2 Years            Yes         40454.0                  26.0      217   \n",
              "1    1-2 Year             No         33536.0                  26.0      183   \n",
              "\n",
              "   Response  \n",
              "0         1  \n",
              "1         0  "
            ]
          },
          "metadata": {},
          "execution_count": 66
        }
      ]
    },
    {
      "cell_type": "markdown",
      "metadata": {
        "id": "NRxDxXEUX-Fo"
      },
      "source": [
        "#3. Análise Exploratoria"
      ]
    },
    {
      "cell_type": "code",
      "metadata": {
        "colab": {
          "base_uri": "https://localhost:8080/"
        },
        "id": "yzykaduDoi0i",
        "outputId": "b6dc579a-178b-4c18-ba66-ea510ea89644"
      },
      "source": [
        "df_train.info()"
      ],
      "execution_count": null,
      "outputs": [
        {
          "output_type": "stream",
          "name": "stdout",
          "text": [
            "<class 'pandas.core.frame.DataFrame'>\n",
            "RangeIndex: 381109 entries, 0 to 381108\n",
            "Data columns (total 12 columns):\n",
            " #   Column                Non-Null Count   Dtype  \n",
            "---  ------                --------------   -----  \n",
            " 0   id                    381109 non-null  int64  \n",
            " 1   Gender                381109 non-null  object \n",
            " 2   Age                   381109 non-null  int64  \n",
            " 3   Driving_License       381109 non-null  int64  \n",
            " 4   Region_Code           381109 non-null  float64\n",
            " 5   Previously_Insured    381109 non-null  int64  \n",
            " 6   Vehicle_Age           381109 non-null  object \n",
            " 7   Vehicle_Damage        381109 non-null  object \n",
            " 8   Annual_Premium        381109 non-null  float64\n",
            " 9   Policy_Sales_Channel  381109 non-null  float64\n",
            " 10  Vintage               381109 non-null  int64  \n",
            " 11  Response              381109 non-null  int64  \n",
            "dtypes: float64(3), int64(6), object(3)\n",
            "memory usage: 34.9+ MB\n"
          ]
        }
      ]
    },
    {
      "cell_type": "code",
      "metadata": {
        "colab": {
          "base_uri": "https://localhost:8080/",
          "height": 203
        },
        "id": "3n4HW0JDalZs",
        "outputId": "eaed7ab9-62ef-4dfe-e963-9f14e9055a98"
      },
      "source": [
        "df_train.head()"
      ],
      "execution_count": null,
      "outputs": [
        {
          "output_type": "execute_result",
          "data": {
            "text/html": [
              "<div>\n",
              "<style scoped>\n",
              "    .dataframe tbody tr th:only-of-type {\n",
              "        vertical-align: middle;\n",
              "    }\n",
              "\n",
              "    .dataframe tbody tr th {\n",
              "        vertical-align: top;\n",
              "    }\n",
              "\n",
              "    .dataframe thead th {\n",
              "        text-align: right;\n",
              "    }\n",
              "</style>\n",
              "<table border=\"1\" class=\"dataframe\">\n",
              "  <thead>\n",
              "    <tr style=\"text-align: right;\">\n",
              "      <th></th>\n",
              "      <th>id</th>\n",
              "      <th>Gender</th>\n",
              "      <th>Age</th>\n",
              "      <th>Driving_License</th>\n",
              "      <th>Region_Code</th>\n",
              "      <th>Previously_Insured</th>\n",
              "      <th>Vehicle_Age</th>\n",
              "      <th>Vehicle_Damage</th>\n",
              "      <th>Annual_Premium</th>\n",
              "      <th>Policy_Sales_Channel</th>\n",
              "      <th>Vintage</th>\n",
              "      <th>Response</th>\n",
              "    </tr>\n",
              "  </thead>\n",
              "  <tbody>\n",
              "    <tr>\n",
              "      <th>0</th>\n",
              "      <td>1</td>\n",
              "      <td>Male</td>\n",
              "      <td>44</td>\n",
              "      <td>1</td>\n",
              "      <td>28.0</td>\n",
              "      <td>0</td>\n",
              "      <td>&gt; 2 Years</td>\n",
              "      <td>Yes</td>\n",
              "      <td>40454.0</td>\n",
              "      <td>26.0</td>\n",
              "      <td>217</td>\n",
              "      <td>1</td>\n",
              "    </tr>\n",
              "    <tr>\n",
              "      <th>1</th>\n",
              "      <td>2</td>\n",
              "      <td>Male</td>\n",
              "      <td>76</td>\n",
              "      <td>1</td>\n",
              "      <td>3.0</td>\n",
              "      <td>0</td>\n",
              "      <td>1-2 Year</td>\n",
              "      <td>No</td>\n",
              "      <td>33536.0</td>\n",
              "      <td>26.0</td>\n",
              "      <td>183</td>\n",
              "      <td>0</td>\n",
              "    </tr>\n",
              "    <tr>\n",
              "      <th>2</th>\n",
              "      <td>3</td>\n",
              "      <td>Male</td>\n",
              "      <td>47</td>\n",
              "      <td>1</td>\n",
              "      <td>28.0</td>\n",
              "      <td>0</td>\n",
              "      <td>&gt; 2 Years</td>\n",
              "      <td>Yes</td>\n",
              "      <td>38294.0</td>\n",
              "      <td>26.0</td>\n",
              "      <td>27</td>\n",
              "      <td>1</td>\n",
              "    </tr>\n",
              "    <tr>\n",
              "      <th>3</th>\n",
              "      <td>4</td>\n",
              "      <td>Male</td>\n",
              "      <td>21</td>\n",
              "      <td>1</td>\n",
              "      <td>11.0</td>\n",
              "      <td>1</td>\n",
              "      <td>&lt; 1 Year</td>\n",
              "      <td>No</td>\n",
              "      <td>28619.0</td>\n",
              "      <td>152.0</td>\n",
              "      <td>203</td>\n",
              "      <td>0</td>\n",
              "    </tr>\n",
              "    <tr>\n",
              "      <th>4</th>\n",
              "      <td>5</td>\n",
              "      <td>Female</td>\n",
              "      <td>29</td>\n",
              "      <td>1</td>\n",
              "      <td>41.0</td>\n",
              "      <td>1</td>\n",
              "      <td>&lt; 1 Year</td>\n",
              "      <td>No</td>\n",
              "      <td>27496.0</td>\n",
              "      <td>152.0</td>\n",
              "      <td>39</td>\n",
              "      <td>0</td>\n",
              "    </tr>\n",
              "  </tbody>\n",
              "</table>\n",
              "</div>"
            ],
            "text/plain": [
              "   id  Gender  Age  Driving_License  Region_Code  Previously_Insured  \\\n",
              "0   1    Male   44                1         28.0                   0   \n",
              "1   2    Male   76                1          3.0                   0   \n",
              "2   3    Male   47                1         28.0                   0   \n",
              "3   4    Male   21                1         11.0                   1   \n",
              "4   5  Female   29                1         41.0                   1   \n",
              "\n",
              "  Vehicle_Age Vehicle_Damage  Annual_Premium  Policy_Sales_Channel  Vintage  \\\n",
              "0   > 2 Years            Yes         40454.0                  26.0      217   \n",
              "1    1-2 Year             No         33536.0                  26.0      183   \n",
              "2   > 2 Years            Yes         38294.0                  26.0       27   \n",
              "3    < 1 Year             No         28619.0                 152.0      203   \n",
              "4    < 1 Year             No         27496.0                 152.0       39   \n",
              "\n",
              "   Response  \n",
              "0         1  \n",
              "1         0  \n",
              "2         1  \n",
              "3         0  \n",
              "4         0  "
            ]
          },
          "metadata": {},
          "execution_count": 69
        }
      ]
    },
    {
      "cell_type": "code",
      "metadata": {
        "colab": {
          "base_uri": "https://localhost:8080/"
        },
        "id": "11i-TsVaa3jD",
        "outputId": "089c241e-0134-4570-8d1a-ec9a81a69ee9"
      },
      "source": [
        "print(\"Tamanho dataset treino: \", df_train.shape)"
      ],
      "execution_count": null,
      "outputs": [
        {
          "output_type": "stream",
          "name": "stdout",
          "text": [
            "Tamanho dataset treino:  (381109, 12)\n"
          ]
        }
      ]
    },
    {
      "cell_type": "code",
      "metadata": {
        "colab": {
          "base_uri": "https://localhost:8080/",
          "height": 172
        },
        "id": "gC0MpwNO0T7z",
        "outputId": "e8054250-dee9-459c-b242-c0b6df8dea60"
      },
      "source": [
        "#Princiapis categorias\n",
        "categoricals = df_train.select_dtypes(exclude=[np.number])\n",
        "categoricals.describe()"
      ],
      "execution_count": null,
      "outputs": [
        {
          "output_type": "execute_result",
          "data": {
            "text/html": [
              "<div>\n",
              "<style scoped>\n",
              "    .dataframe tbody tr th:only-of-type {\n",
              "        vertical-align: middle;\n",
              "    }\n",
              "\n",
              "    .dataframe tbody tr th {\n",
              "        vertical-align: top;\n",
              "    }\n",
              "\n",
              "    .dataframe thead th {\n",
              "        text-align: right;\n",
              "    }\n",
              "</style>\n",
              "<table border=\"1\" class=\"dataframe\">\n",
              "  <thead>\n",
              "    <tr style=\"text-align: right;\">\n",
              "      <th></th>\n",
              "      <th>Gender</th>\n",
              "      <th>Vehicle_Age</th>\n",
              "      <th>Vehicle_Damage</th>\n",
              "    </tr>\n",
              "  </thead>\n",
              "  <tbody>\n",
              "    <tr>\n",
              "      <th>count</th>\n",
              "      <td>381109</td>\n",
              "      <td>381109</td>\n",
              "      <td>381109</td>\n",
              "    </tr>\n",
              "    <tr>\n",
              "      <th>unique</th>\n",
              "      <td>2</td>\n",
              "      <td>3</td>\n",
              "      <td>2</td>\n",
              "    </tr>\n",
              "    <tr>\n",
              "      <th>top</th>\n",
              "      <td>Male</td>\n",
              "      <td>1-2 Year</td>\n",
              "      <td>Yes</td>\n",
              "    </tr>\n",
              "    <tr>\n",
              "      <th>freq</th>\n",
              "      <td>206089</td>\n",
              "      <td>200316</td>\n",
              "      <td>192413</td>\n",
              "    </tr>\n",
              "  </tbody>\n",
              "</table>\n",
              "</div>"
            ],
            "text/plain": [
              "        Gender Vehicle_Age Vehicle_Damage\n",
              "count   381109      381109         381109\n",
              "unique       2           3              2\n",
              "top       Male    1-2 Year            Yes\n",
              "freq    206089      200316         192413"
            ]
          },
          "metadata": {},
          "execution_count": 9
        }
      ]
    },
    {
      "cell_type": "code",
      "metadata": {
        "colab": {
          "base_uri": "https://localhost:8080/"
        },
        "id": "YUdL5t3tu-s2",
        "outputId": "97637a24-dc22-44df-a73e-01536504363e"
      },
      "source": [
        "#Categorias por variavel\n",
        "n = categoricals\n",
        "for c in n.columns:\n",
        "    print('{:<14}'.format(c), df_train[c].unique())"
      ],
      "execution_count": null,
      "outputs": [
        {
          "name": "stdout",
          "output_type": "stream",
          "text": [
            "Gender         ['Male' 'Female']\n",
            "Vehicle_Age    ['> 2 Years' '1-2 Year' '< 1 Year']\n",
            "Vehicle_Damage ['Yes' 'No']\n"
          ]
        }
      ]
    },
    {
      "cell_type": "code",
      "metadata": {
        "colab": {
          "base_uri": "https://localhost:8080/",
          "height": 360
        },
        "id": "UfHhM5-Akj3Z",
        "outputId": "834f16bb-9bd2-40fc-954d-b4d229f7f563"
      },
      "source": [
        "plt.figure(figsize = (12,5))\n",
        "\n",
        "ax = sns.countplot(x = 'Vehicle_Age', \n",
        "                   data = df_train, \n",
        "                   order = df_train['Vehicle_Age'].value_counts().index)\n",
        "\n",
        "ax.set_title('Idade do Veiculo')\n",
        "ax.set_xlabel('Idade')\n",
        "ax.set_ylabel('Qtde')\n",
        "\n",
        "plt.show()"
      ],
      "execution_count": null,
      "outputs": [
        {
          "output_type": "display_data",
          "data": {
            "image/png": "[encoded data removed]",
            "text/plain": [
              "<Figure size 864x360 with 1 Axes>"
            ]
          },
          "metadata": {}
        }
      ]
    },
    {
      "cell_type": "code",
      "metadata": {
        "colab": {
          "base_uri": "https://localhost:8080/",
          "height": 360
        },
        "id": "xYqmJB6MGBWA",
        "outputId": "40a35105-303f-4919-b5fc-b9f4aff3727b"
      },
      "source": [
        "plt.figure(figsize = (12,5))\n",
        "\n",
        "ax = sns.countplot(x = 'Gender', \n",
        "                   data = df_train, \n",
        "                   order = df_train['Gender'].value_counts().index)\n",
        "\n",
        "ax.set_title('Clientes por Genero')\n",
        "ax.set_xlabel('Gender')\n",
        "ax.set_ylabel('Qtde')\n",
        "\n",
        "plt.show()"
      ],
      "execution_count": null,
      "outputs": [
        {
          "output_type": "display_data",
          "data": {
            "image/png": "[encoded data removed]",
            "text/plain": [
              "<Figure size 864x360 with 1 Axes>"
            ]
          },
          "metadata": {}
        }
      ]
    },
    {
      "cell_type": "code",
      "metadata": {
        "colab": {
          "base_uri": "https://localhost:8080/",
          "height": 442
        },
        "id": "6hUQgywAlH-x",
        "outputId": "df6b1207-ab0e-4cc0-dd8d-ef953fd3c2a9"
      },
      "source": [
        "plt.figure(figsize = (35,10))\n",
        "\n",
        "ax = sns.countplot(x = 'Vehicle_Damage', \n",
        "                   data = df_train, \n",
        "                   order = df_train['Vehicle_Damage'].value_counts().index)\n",
        "\n",
        "ax.set_title('Veiculos Danificados')\n",
        "ax.set_xlabel('Damage')\n",
        "ax.set_ylabel('Qtde')\n",
        "\n",
        "plt.show()"
      ],
      "execution_count": null,
      "outputs": [
        {
          "output_type": "display_data",
          "data": {
            "image/png": "[encoded data removed]",
            "text/plain": [
              "<Figure size 2520x720 with 1 Axes>"
            ]
          },
          "metadata": {}
        }
      ]
    },
    {
      "cell_type": "code",
      "metadata": {
        "colab": {
          "base_uri": "https://localhost:8080/",
          "height": 110
        },
        "id": "E9Ogf1vMJNcT",
        "outputId": "f8a973ea-9724-49eb-c7ff-4d3386f18e0d"
      },
      "source": [
        "df_train.head(2)"
      ],
      "execution_count": null,
      "outputs": [
        {
          "output_type": "execute_result",
          "data": {
            "text/html": [
              "<div>\n",
              "<style scoped>\n",
              "    .dataframe tbody tr th:only-of-type {\n",
              "        vertical-align: middle;\n",
              "    }\n",
              "\n",
              "    .dataframe tbody tr th {\n",
              "        vertical-align: top;\n",
              "    }\n",
              "\n",
              "    .dataframe thead th {\n",
              "        text-align: right;\n",
              "    }\n",
              "</style>\n",
              "<table border=\"1\" class=\"dataframe\">\n",
              "  <thead>\n",
              "    <tr style=\"text-align: right;\">\n",
              "      <th></th>\n",
              "      <th>id</th>\n",
              "      <th>Gender</th>\n",
              "      <th>Age</th>\n",
              "      <th>Driving_License</th>\n",
              "      <th>Region_Code</th>\n",
              "      <th>Previously_Insured</th>\n",
              "      <th>Vehicle_Age</th>\n",
              "      <th>Vehicle_Damage</th>\n",
              "      <th>Annual_Premium</th>\n",
              "      <th>Policy_Sales_Channel</th>\n",
              "      <th>Vintage</th>\n",
              "      <th>Response</th>\n",
              "    </tr>\n",
              "  </thead>\n",
              "  <tbody>\n",
              "    <tr>\n",
              "      <th>0</th>\n",
              "      <td>1</td>\n",
              "      <td>Male</td>\n",
              "      <td>44</td>\n",
              "      <td>1</td>\n",
              "      <td>28.0</td>\n",
              "      <td>0</td>\n",
              "      <td>&gt; 2 Years</td>\n",
              "      <td>Yes</td>\n",
              "      <td>40454.0</td>\n",
              "      <td>26.0</td>\n",
              "      <td>217</td>\n",
              "      <td>1</td>\n",
              "    </tr>\n",
              "    <tr>\n",
              "      <th>1</th>\n",
              "      <td>2</td>\n",
              "      <td>Male</td>\n",
              "      <td>76</td>\n",
              "      <td>1</td>\n",
              "      <td>3.0</td>\n",
              "      <td>0</td>\n",
              "      <td>1-2 Year</td>\n",
              "      <td>No</td>\n",
              "      <td>33536.0</td>\n",
              "      <td>26.0</td>\n",
              "      <td>183</td>\n",
              "      <td>0</td>\n",
              "    </tr>\n",
              "  </tbody>\n",
              "</table>\n",
              "</div>"
            ],
            "text/plain": [
              "   id Gender  Age  Driving_License  Region_Code  Previously_Insured  \\\n",
              "0   1   Male   44                1         28.0                   0   \n",
              "1   2   Male   76                1          3.0                   0   \n",
              "\n",
              "  Vehicle_Age Vehicle_Damage  Annual_Premium  Policy_Sales_Channel  Vintage  \\\n",
              "0   > 2 Years            Yes         40454.0                  26.0      217   \n",
              "1    1-2 Year             No         33536.0                  26.0      183   \n",
              "\n",
              "   Response  \n",
              "0         1  \n",
              "1         0  "
            ]
          },
          "metadata": {},
          "execution_count": 13
        }
      ]
    },
    {
      "cell_type": "code",
      "metadata": {
        "colab": {
          "base_uri": "https://localhost:8080/",
          "height": 418
        },
        "id": "XBuQCF3uuiKm",
        "outputId": "b62a749b-c226-4cb6-a34a-95b0b60f79df"
      },
      "source": [
        "total = df_train.isnull().sum().sort_values(ascending=False)\n",
        "percent = (df_train.isnull().sum()/df_train.isnull().count()).sort_values(ascending=False)\n",
        "null_data = pd.concat([total, percent], axis=1, keys=['Total', 'Percent'])\n",
        "null_data.head(20)"
      ],
      "execution_count": null,
      "outputs": [
        {
          "output_type": "execute_result",
          "data": {
            "text/html": [
              "<div>\n",
              "<style scoped>\n",
              "    .dataframe tbody tr th:only-of-type {\n",
              "        vertical-align: middle;\n",
              "    }\n",
              "\n",
              "    .dataframe tbody tr th {\n",
              "        vertical-align: top;\n",
              "    }\n",
              "\n",
              "    .dataframe thead th {\n",
              "        text-align: right;\n",
              "    }\n",
              "</style>\n",
              "<table border=\"1\" class=\"dataframe\">\n",
              "  <thead>\n",
              "    <tr style=\"text-align: right;\">\n",
              "      <th></th>\n",
              "      <th>Total</th>\n",
              "      <th>Percent</th>\n",
              "    </tr>\n",
              "  </thead>\n",
              "  <tbody>\n",
              "    <tr>\n",
              "      <th>Response</th>\n",
              "      <td>0</td>\n",
              "      <td>0.0</td>\n",
              "    </tr>\n",
              "    <tr>\n",
              "      <th>Vintage</th>\n",
              "      <td>0</td>\n",
              "      <td>0.0</td>\n",
              "    </tr>\n",
              "    <tr>\n",
              "      <th>Policy_Sales_Channel</th>\n",
              "      <td>0</td>\n",
              "      <td>0.0</td>\n",
              "    </tr>\n",
              "    <tr>\n",
              "      <th>Annual_Premium</th>\n",
              "      <td>0</td>\n",
              "      <td>0.0</td>\n",
              "    </tr>\n",
              "    <tr>\n",
              "      <th>Vehicle_Damage</th>\n",
              "      <td>0</td>\n",
              "      <td>0.0</td>\n",
              "    </tr>\n",
              "    <tr>\n",
              "      <th>Vehicle_Age</th>\n",
              "      <td>0</td>\n",
              "      <td>0.0</td>\n",
              "    </tr>\n",
              "    <tr>\n",
              "      <th>Previously_Insured</th>\n",
              "      <td>0</td>\n",
              "      <td>0.0</td>\n",
              "    </tr>\n",
              "    <tr>\n",
              "      <th>Region_Code</th>\n",
              "      <td>0</td>\n",
              "      <td>0.0</td>\n",
              "    </tr>\n",
              "    <tr>\n",
              "      <th>Driving_License</th>\n",
              "      <td>0</td>\n",
              "      <td>0.0</td>\n",
              "    </tr>\n",
              "    <tr>\n",
              "      <th>Age</th>\n",
              "      <td>0</td>\n",
              "      <td>0.0</td>\n",
              "    </tr>\n",
              "    <tr>\n",
              "      <th>Gender</th>\n",
              "      <td>0</td>\n",
              "      <td>0.0</td>\n",
              "    </tr>\n",
              "    <tr>\n",
              "      <th>id</th>\n",
              "      <td>0</td>\n",
              "      <td>0.0</td>\n",
              "    </tr>\n",
              "  </tbody>\n",
              "</table>\n",
              "</div>"
            ],
            "text/plain": [
              "                      Total  Percent\n",
              "Response                  0      0.0\n",
              "Vintage                   0      0.0\n",
              "Policy_Sales_Channel      0      0.0\n",
              "Annual_Premium            0      0.0\n",
              "Vehicle_Damage            0      0.0\n",
              "Vehicle_Age               0      0.0\n",
              "Previously_Insured        0      0.0\n",
              "Region_Code               0      0.0\n",
              "Driving_License           0      0.0\n",
              "Age                       0      0.0\n",
              "Gender                    0      0.0\n",
              "id                        0      0.0"
            ]
          },
          "metadata": {},
          "execution_count": 14
        }
      ]
    },
    {
      "cell_type": "code",
      "metadata": {
        "colab": {
          "base_uri": "https://localhost:8080/",
          "height": 326
        },
        "id": "JKr80KWPhkr5",
        "outputId": "8a494a63-b60c-4074-b167-faaa2bdeafdb"
      },
      "source": [
        "correlacao = df_train.corr()\n",
        "correlacao"
      ],
      "execution_count": null,
      "outputs": [
        {
          "output_type": "execute_result",
          "data": {
            "text/html": [
              "<div>\n",
              "<style scoped>\n",
              "    .dataframe tbody tr th:only-of-type {\n",
              "        vertical-align: middle;\n",
              "    }\n",
              "\n",
              "    .dataframe tbody tr th {\n",
              "        vertical-align: top;\n",
              "    }\n",
              "\n",
              "    .dataframe thead th {\n",
              "        text-align: right;\n",
              "    }\n",
              "</style>\n",
              "<table border=\"1\" class=\"dataframe\">\n",
              "  <thead>\n",
              "    <tr style=\"text-align: right;\">\n",
              "      <th></th>\n",
              "      <th>id</th>\n",
              "      <th>Age</th>\n",
              "      <th>Driving_License</th>\n",
              "      <th>Region_Code</th>\n",
              "      <th>Previously_Insured</th>\n",
              "      <th>Annual_Premium</th>\n",
              "      <th>Policy_Sales_Channel</th>\n",
              "      <th>Vintage</th>\n",
              "      <th>Response</th>\n",
              "    </tr>\n",
              "  </thead>\n",
              "  <tbody>\n",
              "    <tr>\n",
              "      <th>id</th>\n",
              "      <td>1.000000</td>\n",
              "      <td>0.001561</td>\n",
              "      <td>-0.000564</td>\n",
              "      <td>-0.000572</td>\n",
              "      <td>0.002457</td>\n",
              "      <td>0.003027</td>\n",
              "      <td>-0.002837</td>\n",
              "      <td>-0.000630</td>\n",
              "      <td>-0.001368</td>\n",
              "    </tr>\n",
              "    <tr>\n",
              "      <th>Age</th>\n",
              "      <td>0.001561</td>\n",
              "      <td>1.000000</td>\n",
              "      <td>-0.079782</td>\n",
              "      <td>0.042574</td>\n",
              "      <td>-0.254682</td>\n",
              "      <td>0.067507</td>\n",
              "      <td>-0.577826</td>\n",
              "      <td>-0.001264</td>\n",
              "      <td>0.111147</td>\n",
              "    </tr>\n",
              "    <tr>\n",
              "      <th>Driving_License</th>\n",
              "      <td>-0.000564</td>\n",
              "      <td>-0.079782</td>\n",
              "      <td>1.000000</td>\n",
              "      <td>-0.001081</td>\n",
              "      <td>0.014969</td>\n",
              "      <td>-0.011906</td>\n",
              "      <td>0.043731</td>\n",
              "      <td>-0.000848</td>\n",
              "      <td>0.010155</td>\n",
              "    </tr>\n",
              "    <tr>\n",
              "      <th>Region_Code</th>\n",
              "      <td>-0.000572</td>\n",
              "      <td>0.042574</td>\n",
              "      <td>-0.001081</td>\n",
              "      <td>1.000000</td>\n",
              "      <td>-0.024659</td>\n",
              "      <td>-0.010588</td>\n",
              "      <td>-0.042420</td>\n",
              "      <td>-0.002750</td>\n",
              "      <td>0.010570</td>\n",
              "    </tr>\n",
              "    <tr>\n",
              "      <th>Previously_Insured</th>\n",
              "      <td>0.002457</td>\n",
              "      <td>-0.254682</td>\n",
              "      <td>0.014969</td>\n",
              "      <td>-0.024659</td>\n",
              "      <td>1.000000</td>\n",
              "      <td>0.004269</td>\n",
              "      <td>0.219381</td>\n",
              "      <td>0.002537</td>\n",
              "      <td>-0.341170</td>\n",
              "    </tr>\n",
              "    <tr>\n",
              "      <th>Annual_Premium</th>\n",
              "      <td>0.003027</td>\n",
              "      <td>0.067507</td>\n",
              "      <td>-0.011906</td>\n",
              "      <td>-0.010588</td>\n",
              "      <td>0.004269</td>\n",
              "      <td>1.000000</td>\n",
              "      <td>-0.113247</td>\n",
              "      <td>-0.000608</td>\n",
              "      <td>0.022575</td>\n",
              "    </tr>\n",
              "    <tr>\n",
              "      <th>Policy_Sales_Channel</th>\n",
              "      <td>-0.002837</td>\n",
              "      <td>-0.577826</td>\n",
              "      <td>0.043731</td>\n",
              "      <td>-0.042420</td>\n",
              "      <td>0.219381</td>\n",
              "      <td>-0.113247</td>\n",
              "      <td>1.000000</td>\n",
              "      <td>0.000002</td>\n",
              "      <td>-0.139042</td>\n",
              "    </tr>\n",
              "    <tr>\n",
              "      <th>Vintage</th>\n",
              "      <td>-0.000630</td>\n",
              "      <td>-0.001264</td>\n",
              "      <td>-0.000848</td>\n",
              "      <td>-0.002750</td>\n",
              "      <td>0.002537</td>\n",
              "      <td>-0.000608</td>\n",
              "      <td>0.000002</td>\n",
              "      <td>1.000000</td>\n",
              "      <td>-0.001050</td>\n",
              "    </tr>\n",
              "    <tr>\n",
              "      <th>Response</th>\n",
              "      <td>-0.001368</td>\n",
              "      <td>0.111147</td>\n",
              "      <td>0.010155</td>\n",
              "      <td>0.010570</td>\n",
              "      <td>-0.341170</td>\n",
              "      <td>0.022575</td>\n",
              "      <td>-0.139042</td>\n",
              "      <td>-0.001050</td>\n",
              "      <td>1.000000</td>\n",
              "    </tr>\n",
              "  </tbody>\n",
              "</table>\n",
              "</div>"
            ],
            "text/plain": [
              "                            id       Age  Driving_License  Region_Code  \\\n",
              "id                    1.000000  0.001561        -0.000564    -0.000572   \n",
              "Age                   0.001561  1.000000        -0.079782     0.042574   \n",
              "Driving_License      -0.000564 -0.079782         1.000000    -0.001081   \n",
              "Region_Code          -0.000572  0.042574        -0.001081     1.000000   \n",
              "Previously_Insured    0.002457 -0.254682         0.014969    -0.024659   \n",
              "Annual_Premium        0.003027  0.067507        -0.011906    -0.010588   \n",
              "Policy_Sales_Channel -0.002837 -0.577826         0.043731    -0.042420   \n",
              "Vintage              -0.000630 -0.001264        -0.000848    -0.002750   \n",
              "Response             -0.001368  0.111147         0.010155     0.010570   \n",
              "\n",
              "                      Previously_Insured  Annual_Premium  \\\n",
              "id                              0.002457        0.003027   \n",
              "Age                            -0.254682        0.067507   \n",
              "Driving_License                 0.014969       -0.011906   \n",
              "Region_Code                    -0.024659       -0.010588   \n",
              "Previously_Insured              1.000000        0.004269   \n",
              "Annual_Premium                  0.004269        1.000000   \n",
              "Policy_Sales_Channel            0.219381       -0.113247   \n",
              "Vintage                         0.002537       -0.000608   \n",
              "Response                       -0.341170        0.022575   \n",
              "\n",
              "                      Policy_Sales_Channel   Vintage  Response  \n",
              "id                               -0.002837 -0.000630 -0.001368  \n",
              "Age                              -0.577826 -0.001264  0.111147  \n",
              "Driving_License                   0.043731 -0.000848  0.010155  \n",
              "Region_Code                      -0.042420 -0.002750  0.010570  \n",
              "Previously_Insured                0.219381  0.002537 -0.341170  \n",
              "Annual_Premium                   -0.113247 -0.000608  0.022575  \n",
              "Policy_Sales_Channel              1.000000  0.000002 -0.139042  \n",
              "Vintage                           0.000002  1.000000 -0.001050  \n",
              "Response                         -0.139042 -0.001050  1.000000  "
            ]
          },
          "metadata": {},
          "execution_count": 15
        }
      ]
    },
    {
      "cell_type": "code",
      "metadata": {
        "colab": {
          "base_uri": "https://localhost:8080/",
          "height": 734
        },
        "id": "vdUCIIQ7HsTO",
        "outputId": "84c45908-2a40-4eaa-d9c0-0925feacb1ca"
      },
      "source": [
        "fet_set = df_train.drop(labels=['id','Response'],axis=1)\n",
        "def plot_diag_heatmap(data):\n",
        "    corr = data.corr()\n",
        "    mask = np.triu(np.ones_like(corr, dtype=bool))\n",
        "    f, ax = plt.subplots(figsize=(10, 12))\n",
        "    sns.heatmap(corr, mask=mask, cmap='YlGnBu', center=0,square=True, linewidths=1, cbar_kws={\"shrink\": 1.0})\n",
        "plot_diag_heatmap(fet_set)"
      ],
      "execution_count": null,
      "outputs": [
        {
          "output_type": "display_data",
          "data": {
            "image/png": "[encoded data removed]",
            "text/plain": [
              "<Figure size 720x864 with 2 Axes>"
            ]
          },
          "metadata": {}
        }
      ]
    },
    {
      "cell_type": "markdown",
      "metadata": {
        "id": "vXXoSE7Pff7Y"
      },
      "source": [
        "#4. Pré-processamento"
      ]
    },
    {
      "cell_type": "code",
      "metadata": {
        "id": "QYKdcXPZj2ua"
      },
      "source": [
        "#Removendo campo\n",
        "df_train.drop(['id'], axis='columns', inplace=True)"
      ],
      "execution_count": null,
      "outputs": []
    },
    {
      "cell_type": "code",
      "metadata": {
        "colab": {
          "base_uri": "https://localhost:8080/"
        },
        "id": "YnDb2-XOppEh",
        "outputId": "aaa5c559-979f-4726-a353-806af9fe8510"
      },
      "source": [
        "df_train.head(2)"
      ],
      "execution_count": null,
      "outputs": [
        {
          "output_type": "execute_result",
          "data": {
            "text/html": [
              "<div>\n",
              "<style scoped>\n",
              "    .dataframe tbody tr th:only-of-type {\n",
              "        vertical-align: middle;\n",
              "    }\n",
              "\n",
              "    .dataframe tbody tr th {\n",
              "        vertical-align: top;\n",
              "    }\n",
              "\n",
              "    .dataframe thead th {\n",
              "        text-align: right;\n",
              "    }\n",
              "</style>\n",
              "<table border=\"1\" class=\"dataframe\">\n",
              "  <thead>\n",
              "    <tr style=\"text-align: right;\">\n",
              "      <th></th>\n",
              "      <th>Gender</th>\n",
              "      <th>Age</th>\n",
              "      <th>Driving_License</th>\n",
              "      <th>Region_Code</th>\n",
              "      <th>Previously_Insured</th>\n",
              "      <th>Vehicle_Age</th>\n",
              "      <th>Vehicle_Damage</th>\n",
              "      <th>Annual_Premium</th>\n",
              "      <th>Policy_Sales_Channel</th>\n",
              "      <th>Vintage</th>\n",
              "      <th>Response</th>\n",
              "    </tr>\n",
              "  </thead>\n",
              "  <tbody>\n",
              "    <tr>\n",
              "      <th>0</th>\n",
              "      <td>Male</td>\n",
              "      <td>44</td>\n",
              "      <td>1</td>\n",
              "      <td>28.0</td>\n",
              "      <td>0</td>\n",
              "      <td>&gt; 2 Years</td>\n",
              "      <td>Yes</td>\n",
              "      <td>40454.0</td>\n",
              "      <td>26.0</td>\n",
              "      <td>217</td>\n",
              "      <td>1</td>\n",
              "    </tr>\n",
              "    <tr>\n",
              "      <th>1</th>\n",
              "      <td>Male</td>\n",
              "      <td>76</td>\n",
              "      <td>1</td>\n",
              "      <td>3.0</td>\n",
              "      <td>0</td>\n",
              "      <td>1-2 Year</td>\n",
              "      <td>No</td>\n",
              "      <td>33536.0</td>\n",
              "      <td>26.0</td>\n",
              "      <td>183</td>\n",
              "      <td>0</td>\n",
              "    </tr>\n",
              "  </tbody>\n",
              "</table>\n",
              "</div>"
            ],
            "text/plain": [
              "  Gender  Age  Driving_License  Region_Code  Previously_Insured Vehicle_Age  \\\n",
              "0   Male   44                1         28.0                   0   > 2 Years   \n",
              "1   Male   76                1          3.0                   0    1-2 Year   \n",
              "\n",
              "  Vehicle_Damage  Annual_Premium  Policy_Sales_Channel  Vintage  Response  \n",
              "0            Yes         40454.0                  26.0      217         1  \n",
              "1             No         33536.0                  26.0      183         0  "
            ]
          },
          "metadata": {},
          "execution_count": 71
        }
      ]
    },
    {
      "cell_type": "code",
      "metadata": {
        "id": "2Zu2q4Q3uG_J"
      },
      "source": [
        "#Convertendo string em numeros\n",
        "label_encoder = LabelEncoder()\n",
        "df_train['Gender'] = label_encoder.fit_transform(list(df_train['Gender'].values))\n",
        "df_train['Vehicle_Age'] = label_encoder.fit_transform(list(df_train['Vehicle_Age'].values))\n",
        "df_train['Vehicle_Damage'] = label_encoder.fit_transform(list(df_train['Vehicle_Damage'].values))\n"
      ],
      "execution_count": null,
      "outputs": []
    },
    {
      "cell_type": "code",
      "metadata": {
        "colab": {
          "base_uri": "https://localhost:8080/"
        },
        "id": "xOaeg8nNeJ-H",
        "outputId": "7092eb74-5986-4aed-f5d9-5f3525390a50"
      },
      "source": [
        "df_train.head(2)"
      ],
      "execution_count": null,
      "outputs": [
        {
          "output_type": "execute_result",
          "data": {
            "text/html": [
              "<div>\n",
              "<style scoped>\n",
              "    .dataframe tbody tr th:only-of-type {\n",
              "        vertical-align: middle;\n",
              "    }\n",
              "\n",
              "    .dataframe tbody tr th {\n",
              "        vertical-align: top;\n",
              "    }\n",
              "\n",
              "    .dataframe thead th {\n",
              "        text-align: right;\n",
              "    }\n",
              "</style>\n",
              "<table border=\"1\" class=\"dataframe\">\n",
              "  <thead>\n",
              "    <tr style=\"text-align: right;\">\n",
              "      <th></th>\n",
              "      <th>Gender</th>\n",
              "      <th>Age</th>\n",
              "      <th>Driving_License</th>\n",
              "      <th>Region_Code</th>\n",
              "      <th>Previously_Insured</th>\n",
              "      <th>Vehicle_Age</th>\n",
              "      <th>Vehicle_Damage</th>\n",
              "      <th>Annual_Premium</th>\n",
              "      <th>Policy_Sales_Channel</th>\n",
              "      <th>Vintage</th>\n",
              "      <th>Response</th>\n",
              "    </tr>\n",
              "  </thead>\n",
              "  <tbody>\n",
              "    <tr>\n",
              "      <th>0</th>\n",
              "      <td>1</td>\n",
              "      <td>44</td>\n",
              "      <td>1</td>\n",
              "      <td>28.0</td>\n",
              "      <td>0</td>\n",
              "      <td>2</td>\n",
              "      <td>1</td>\n",
              "      <td>40454.0</td>\n",
              "      <td>26.0</td>\n",
              "      <td>217</td>\n",
              "      <td>1</td>\n",
              "    </tr>\n",
              "    <tr>\n",
              "      <th>1</th>\n",
              "      <td>1</td>\n",
              "      <td>76</td>\n",
              "      <td>1</td>\n",
              "      <td>3.0</td>\n",
              "      <td>0</td>\n",
              "      <td>0</td>\n",
              "      <td>0</td>\n",
              "      <td>33536.0</td>\n",
              "      <td>26.0</td>\n",
              "      <td>183</td>\n",
              "      <td>0</td>\n",
              "    </tr>\n",
              "  </tbody>\n",
              "</table>\n",
              "</div>"
            ],
            "text/plain": [
              "   Gender  Age  Driving_License  Region_Code  Previously_Insured  Vehicle_Age  \\\n",
              "0       1   44                1         28.0                   0            2   \n",
              "1       1   76                1          3.0                   0            0   \n",
              "\n",
              "   Vehicle_Damage  Annual_Premium  Policy_Sales_Channel  Vintage  Response  \n",
              "0               1         40454.0                  26.0      217         1  \n",
              "1               0         33536.0                  26.0      183         0  "
            ]
          },
          "metadata": {},
          "execution_count": 73
        }
      ]
    },
    {
      "cell_type": "code",
      "metadata": {
        "id": "wwz9Fe_vfUAt"
      },
      "source": [
        "X = df_train.loc[:,'Gender':'Vintage'].to_numpy()\n",
        "y = df_train['Response'].to_numpy()"
      ],
      "execution_count": null,
      "outputs": []
    },
    {
      "cell_type": "code",
      "metadata": {
        "colab": {
          "base_uri": "https://localhost:8080/"
        },
        "id": "tthAXQmU7Umd",
        "outputId": "2b9a795a-41c0-46e9-a614-d875ce31d7f6"
      },
      "source": [
        "X"
      ],
      "execution_count": null,
      "outputs": [
        {
          "output_type": "execute_result",
          "data": {
            "text/plain": [
              "array([[1.0000e+00, 4.4000e+01, 1.0000e+00, ..., 4.0454e+04, 2.6000e+01,\n",
              "        2.1700e+02],\n",
              "       [1.0000e+00, 7.6000e+01, 1.0000e+00, ..., 3.3536e+04, 2.6000e+01,\n",
              "        1.8300e+02],\n",
              "       [1.0000e+00, 4.7000e+01, 1.0000e+00, ..., 3.8294e+04, 2.6000e+01,\n",
              "        2.7000e+01],\n",
              "       ...,\n",
              "       [1.0000e+00, 2.1000e+01, 1.0000e+00, ..., 3.5118e+04, 1.6000e+02,\n",
              "        1.6100e+02],\n",
              "       [0.0000e+00, 6.8000e+01, 1.0000e+00, ..., 4.4617e+04, 1.2400e+02,\n",
              "        7.4000e+01],\n",
              "       [1.0000e+00, 4.6000e+01, 1.0000e+00, ..., 4.1777e+04, 2.6000e+01,\n",
              "        2.3700e+02]])"
            ]
          },
          "metadata": {},
          "execution_count": 75
        }
      ]
    },
    {
      "cell_type": "code",
      "metadata": {
        "colab": {
          "base_uri": "https://localhost:8080/"
        },
        "id": "-Mo4z2d-7XA2",
        "outputId": "07b19791-5ee3-4060-f1b2-67f0547ecc8b"
      },
      "source": [
        "y"
      ],
      "execution_count": null,
      "outputs": [
        {
          "output_type": "execute_result",
          "data": {
            "text/plain": [
              "array([1, 0, 1, ..., 0, 0, 0])"
            ]
          },
          "metadata": {},
          "execution_count": 76
        }
      ]
    },
    {
      "cell_type": "code",
      "metadata": {
        "id": "se0UAB1w_JBL"
      },
      "source": [
        "target_names = [\"Não\",\"Sim\"]"
      ],
      "execution_count": null,
      "outputs": []
    },
    {
      "cell_type": "markdown",
      "metadata": {
        "id": "kPWPUP1IYfw2"
      },
      "source": [
        "##4.1 Dividindo Treino e Teste"
      ]
    },
    {
      "cell_type": "code",
      "metadata": {
        "id": "B8m6r5Kj7ZZF"
      },
      "source": [
        "X_train, X_test, y_train, y_test = train_test_split(X, \n",
        "                                                    y,\n",
        "                                                    stratify = y,\n",
        "                                                    test_size=0.20, \n",
        "                                                    random_state=0)"
      ],
      "execution_count": null,
      "outputs": []
    },
    {
      "cell_type": "code",
      "metadata": {
        "id": "FsyAdMZAQbYJ"
      },
      "source": [
        "# Normalizando os dados\n",
        "sc = StandardScaler()\n",
        "X_train = sc.fit_transform(X_train)\n",
        "X_test = sc.transform(X_test)"
      ],
      "execution_count": null,
      "outputs": []
    },
    {
      "cell_type": "code",
      "metadata": {
        "colab": {
          "base_uri": "https://localhost:8080/"
        },
        "id": "_MZUuRtd7pCi",
        "outputId": "84284c31-846e-4203-841b-c9d7e57568a9"
      },
      "source": [
        "X_train"
      ],
      "execution_count": null,
      "outputs": [
        {
          "output_type": "execute_result",
          "data": {
            "text/plain": [
              "array([[-1.08552087,  0.39830382,  0.04696456, ...,  0.46718414,\n",
              "         0.22028064, -0.50556932],\n",
              "       [ 0.92121674, -1.0203265 ,  0.04696456, ...,  0.11318043,\n",
              "         0.73705718, -0.27863263],\n",
              "       [-1.08552087,  0.33382062,  0.04696456, ..., -0.3171016 ,\n",
              "        -1.58843725,  0.17524074],\n",
              "       ...,\n",
              "       [ 0.92121674,  1.17210218,  0.04696456, ...,  0.31754109,\n",
              "        -1.58843725,  1.35770033],\n",
              "       [-1.08552087, -0.9558433 ,  0.04696456, ..., -0.32945531,\n",
              "         0.71860088, -0.62500969],\n",
              "       [ 0.92121674, -0.9558433 ,  0.04696456, ...,  0.14453089,\n",
              "         0.73705718,  1.66824527]])"
            ]
          },
          "metadata": {},
          "execution_count": 80
        }
      ]
    },
    {
      "cell_type": "code",
      "metadata": {
        "colab": {
          "base_uri": "https://localhost:8080/"
        },
        "id": "G7YD3wOk7r65",
        "outputId": "73830a91-7b3d-4e43-e4ef-bd3725f1cef4"
      },
      "source": [
        "X_test"
      ],
      "execution_count": null,
      "outputs": [
        {
          "output_type": "execute_result",
          "data": {
            "text/plain": [
              "array([[-1.08552087, -0.82687691,  0.04696456, ...,  0.40628968,\n",
              "         0.73705718,  0.73661045],\n",
              "       [-1.08552087, -1.08480969,  0.04696456, ..., -0.18505676,\n",
              "         0.73705718, -0.97138674],\n",
              "       [-1.08552087,  0.20485423,  0.04696456, ..., -1.6272358 ,\n",
              "        -1.58843725, -0.74445005],\n",
              "       ...,\n",
              "       [ 0.92121674,  0.39830382,  0.04696456, ...,  0.64765319,\n",
              "         0.18336803,  0.65300219],\n",
              "       [-1.08552087, -1.08480969,  0.04696456, ...,  0.19616007,\n",
              "         0.73705718,  0.87993888],\n",
              "       [ 0.92121674,  1.55900136,  0.04696456, ...,  0.68914301,\n",
              "         0.22028064, -1.6521968 ]])"
            ]
          },
          "metadata": {},
          "execution_count": 81
        }
      ]
    },
    {
      "cell_type": "code",
      "metadata": {
        "colab": {
          "base_uri": "https://localhost:8080/"
        },
        "id": "mJ-welrAsSF6",
        "outputId": "89de3597-e0a2-4b3a-cfff-3c472d5792d8"
      },
      "source": [
        "print('Amostras de treino:')\n",
        "print(f' * X_train: {X_train.shape}')\n",
        "print(f' * y_train: {y_train.shape}')\n",
        "\n",
        "print('Amostras de teste:')\n",
        "print(f' * X_test: {X_test.shape}')\n",
        "print(f' * y_test: {y_test.shape}')"
      ],
      "execution_count": null,
      "outputs": [
        {
          "output_type": "stream",
          "name": "stdout",
          "text": [
            "Amostras de treino:\n",
            " * X_train: (304887, 10)\n",
            " * y_train: (304887,)\n",
            "Amostras de teste:\n",
            " * X_test: (76222, 10)\n",
            " * y_test: (76222,)\n"
          ]
        }
      ]
    },
    {
      "cell_type": "markdown",
      "metadata": {
        "id": "SzAqnLGOjSSU"
      },
      "source": [
        "#5. KNN"
      ]
    },
    {
      "cell_type": "markdown",
      "metadata": {
        "id": "6DqX2LmfeFmS"
      },
      "source": [
        "##5.1 Treino Modelo"
      ]
    },
    {
      "cell_type": "code",
      "metadata": {
        "colab": {
          "base_uri": "https://localhost:8080/"
        },
        "id": "1Vz3PdzntwNC",
        "outputId": "4b4a668b-ed77-4ebe-ca51-9f02686e48ef"
      },
      "source": [
        "knn_model = KNeighborsClassifier(n_neighbors=25)\n",
        "\n",
        "knn_model.fit(X_train, y_train)"
      ],
      "execution_count": null,
      "outputs": [
        {
          "output_type": "execute_result",
          "data": {
            "text/plain": [
              "KNeighborsClassifier(algorithm='auto', leaf_size=30, metric='minkowski',\n",
              "                     metric_params=None, n_jobs=None, n_neighbors=25, p=2,\n",
              "                     weights='uniform')"
            ]
          },
          "metadata": {},
          "execution_count": 83
        }
      ]
    },
    {
      "cell_type": "markdown",
      "metadata": {
        "id": "b2W9TLmRSL90"
      },
      "source": [
        "## 5.2 Avaliando Modelo"
      ]
    },
    {
      "cell_type": "code",
      "metadata": {
        "colab": {
          "base_uri": "https://localhost:8080/"
        },
        "id": "sQcClQSjyMuZ",
        "outputId": "6a071ae6-bc9f-4918-8acd-2b0e48cb3b76"
      },
      "source": [
        "print(f'Acurácia (Treino): {round(accuracy_score(y_train, knn_model.predict(X_train)), 2)}')\n",
        "print(f'Acurácia (Teste): {round(accuracy_score(y_test, knn_model.predict(X_test)), 2)}')"
      ],
      "execution_count": null,
      "outputs": [
        {
          "output_type": "stream",
          "name": "stdout",
          "text": [
            "Acurácia (Treino): 0.88\n",
            "Acurácia (Teste): 0.87\n"
          ]
        }
      ]
    },
    {
      "cell_type": "code",
      "metadata": {
        "colab": {
          "base_uri": "https://localhost:8080/"
        },
        "id": "s74Ka9Nu_ezh",
        "outputId": "61f4766f-1140-402f-af38-09ff97ad216b"
      },
      "source": [
        "print(classification_report(y_test, knn_model.predict(X_test), target_names=['Não', 'Sim']))"
      ],
      "execution_count": null,
      "outputs": [
        {
          "output_type": "stream",
          "name": "stdout",
          "text": [
            "              precision    recall  f1-score   support\n",
            "\n",
            "         Não       0.88      0.99      0.93     66880\n",
            "         Sim       0.38      0.05      0.09      9342\n",
            "\n",
            "    accuracy                           0.87     76222\n",
            "   macro avg       0.63      0.52      0.51     76222\n",
            "weighted avg       0.82      0.87      0.83     76222\n",
            "\n"
          ]
        }
      ]
    },
    {
      "cell_type": "code",
      "metadata": {
        "colab": {
          "base_uri": "https://localhost:8080/"
        },
        "id": "hr1MsHTPn8nh",
        "outputId": "9a4da52a-d9b0-4b55-94ba-5c33fe8cdd85"
      },
      "source": [
        "cm = confusion_matrix(y_test, knn_model.predict(X_test), labels=knn_model.classes_)\n",
        "# Normalise\n",
        "cmn = cm.astype('float') /  cm.sum(axis=1)[:, np.newaxis]\n",
        "fig, ax = plt.subplots(figsize=(5,4))\n",
        "sns.heatmap(cmn, annot=True, fmt='.2f', xticklabels=target_names, yticklabels=target_names)\n",
        "plt.ylabel('Actual')\n",
        "plt.xlabel('Predicted')\n",
        "plt.show(block=False)"
      ],
      "execution_count": null,
      "outputs": [
        {
          "output_type": "display_data",
          "data": {
            "image/png": "[encoded data removed]",
            "text/plain": [
              "<Figure size 360x288 with 2 Axes>"
            ]
          },
          "metadata": {}
        }
      ]
    },
    {
      "cell_type": "markdown",
      "metadata": {
        "id": "ETqbEOR-hqmb"
      },
      "source": [
        "#6. Árvore de Decisão"
      ]
    },
    {
      "cell_type": "markdown",
      "metadata": {
        "id": "H41P7TK1dDFX"
      },
      "source": [
        "##6.1 Treinando Modelo"
      ]
    },
    {
      "cell_type": "code",
      "metadata": {
        "colab": {
          "base_uri": "https://localhost:8080/"
        },
        "id": "q9wev3s_B0p5",
        "outputId": "06d2cb51-41ff-4649-ce7c-7b59fcf9f2a0"
      },
      "source": [
        "tree_model = DecisionTreeClassifier(criterion='gini',\n",
        "                                    max_depth=10,\n",
        "                                    random_state=0)\n",
        "\n",
        "tree_model.fit(X_train, y_train)"
      ],
      "execution_count": null,
      "outputs": [
        {
          "output_type": "execute_result",
          "data": {
            "text/plain": [
              "DecisionTreeClassifier(ccp_alpha=0.0, class_weight=None, criterion='gini',\n",
              "                       max_depth=10, max_features=None, max_leaf_nodes=None,\n",
              "                       min_impurity_decrease=0.0, min_impurity_split=None,\n",
              "                       min_samples_leaf=1, min_samples_split=2,\n",
              "                       min_weight_fraction_leaf=0.0, presort='deprecated',\n",
              "                       random_state=0, splitter='best')"
            ]
          },
          "metadata": {},
          "execution_count": 87
        }
      ]
    },
    {
      "cell_type": "code",
      "metadata": {
        "colab": {
          "base_uri": "https://localhost:8080/"
        },
        "id": "ciCveJV1B3jX",
        "outputId": "b01accea-a414-431c-c9ed-5c2933052f5b"
      },
      "source": [
        "plt.figure(figsize=(18,10))\n",
        "\n",
        "ax = plot_tree(tree_model,\n",
        "               max_depth=3,\n",
        "               fontsize=12,\n",
        "               feature_names=df_train.columns[1:])\n",
        "\n",
        "plt.show()"
      ],
      "execution_count": null,
      "outputs": [
        {
          "output_type": "display_data",
          "data": {
            "image/png": "[encoded data removed]",
            "text/plain": [
              "<Figure size 1296x720 with 1 Axes>"
            ]
          },
          "metadata": {}
        }
      ]
    },
    {
      "cell_type": "markdown",
      "metadata": {
        "id": "qiyGxbgYh-w6"
      },
      "source": [
        "## 6.2 Avaliando Modelo"
      ]
    },
    {
      "cell_type": "code",
      "metadata": {
        "colab": {
          "base_uri": "https://localhost:8080/"
        },
        "id": "5yulLxlKB8OG",
        "outputId": "76e25989-14d1-46a5-fec7-1aa78db26204"
      },
      "source": [
        "print(f'Acurácia (Treino): {round(accuracy_score(y_train, tree_model.predict(X_train)), 2)}')\n",
        "print(f'Acurácia (Teste): {round(accuracy_score(y_test, tree_model.predict(X_test)), 2)}')"
      ],
      "execution_count": null,
      "outputs": [
        {
          "output_type": "stream",
          "name": "stdout",
          "text": [
            "Acurácia (Treino): 0.88\n",
            "Acurácia (Teste): 0.88\n"
          ]
        }
      ]
    },
    {
      "cell_type": "code",
      "metadata": {
        "colab": {
          "base_uri": "https://localhost:8080/"
        },
        "id": "HDxlSkLeB-E7",
        "outputId": "77f73bef-049b-4853-ba9a-838ac9c92f31"
      },
      "source": [
        "print(classification_report(y_test, tree_model.predict(X_test), target_names=['Não', 'Sim']))"
      ],
      "execution_count": null,
      "outputs": [
        {
          "output_type": "stream",
          "name": "stdout",
          "text": [
            "              precision    recall  f1-score   support\n",
            "\n",
            "         Não       0.88      1.00      0.93     66880\n",
            "         Sim       0.34      0.01      0.01      9342\n",
            "\n",
            "    accuracy                           0.88     76222\n",
            "   macro avg       0.61      0.50      0.47     76222\n",
            "weighted avg       0.81      0.88      0.82     76222\n",
            "\n"
          ]
        }
      ]
    },
    {
      "cell_type": "code",
      "metadata": {
        "id": "1kph3tNQB9q6",
        "colab": {
          "base_uri": "https://localhost:8080/",
          "height": 289
        },
        "outputId": "09140d0d-f917-4e35-f9ec-86bd423d2c08"
      },
      "source": [
        "cm = confusion_matrix(y_test, tree_model.predict(X_test), labels=tree_model.classes_)\n",
        "# Normalise\n",
        "cmn = cm.astype('float') /  cm.sum(axis=1)[:, np.newaxis]\n",
        "fig, ax = plt.subplots(figsize=(5,4))\n",
        "sns.heatmap(cmn, annot=True, fmt='.2f', xticklabels=target_names, yticklabels=target_names)\n",
        "plt.ylabel('Actual')\n",
        "plt.xlabel('Predicted')\n",
        "plt.show(block=False)"
      ],
      "execution_count": null,
      "outputs": [
        {
          "output_type": "display_data",
          "data": {
            "image/png": "[encoded data removed]",
            "text/plain": [
              "<Figure size 360x288 with 2 Axes>"
            ]
          },
          "metadata": {}
        }
      ]
    },
    {
      "cell_type": "markdown",
      "metadata": {
        "id": "HLazYrEOhvNp"
      },
      "source": [
        "#7. Regressão Logística"
      ]
    },
    {
      "cell_type": "markdown",
      "metadata": {
        "id": "ng8PKwxVd_Cf"
      },
      "source": [
        "##7.1 Treino Modelo"
      ]
    },
    {
      "cell_type": "code",
      "metadata": {
        "colab": {
          "base_uri": "https://localhost:8080/"
        },
        "id": "lgprTTZtfj0W",
        "outputId": "e6afe2ab-ec84-4ad5-a500-66e818eee913"
      },
      "source": [
        "reglog_model = SGDClassifier(loss='log', \n",
        "                             learning_rate='constant', \n",
        "                             max_iter=250,\n",
        "                             eta0=0.05, \n",
        "                             verbose=1, \n",
        "                             tol=None, \n",
        "                             random_state=0)\n",
        "\n",
        "reglog_model.fit(X_train, y_train)"
      ],
      "execution_count": null,
      "outputs": [
        {
          "output_type": "stream",
          "name": "stdout",
          "text": [
            "-- Epoch 1\n",
            "Norm: 2.41, NNZs: 10, Bias: -4.251311, T: 304887, Avg. loss: 0.294061\n",
            "Total training time: 0.09 seconds.\n",
            "-- Epoch 2\n",
            "Norm: 2.40, NNZs: 10, Bias: -3.866969, T: 609774, Avg. loss: 0.294191\n",
            "Total training time: 0.18 seconds.\n",
            "-- Epoch 3\n",
            "Norm: 2.50, NNZs: 10, Bias: -4.047614, T: 914661, Avg. loss: 0.294011\n",
            "Total training time: 0.27 seconds.\n",
            "-- Epoch 4\n",
            "Norm: 2.27, NNZs: 10, Bias: -4.219268, T: 1219548, Avg. loss: 0.293863\n",
            "Total training time: 0.36 seconds.\n",
            "-- Epoch 5\n",
            "Norm: 2.16, NNZs: 10, Bias: -4.267394, T: 1524435, Avg. loss: 0.293987\n",
            "Total training time: 0.45 seconds.\n",
            "-- Epoch 6\n",
            "Norm: 2.24, NNZs: 10, Bias: -3.989412, T: 1829322, Avg. loss: 0.293801\n",
            "Total training time: 0.54 seconds.\n",
            "-- Epoch 7\n",
            "Norm: 2.32, NNZs: 10, Bias: -3.772208, T: 2134209, Avg. loss: 0.294073\n",
            "Total training time: 0.63 seconds.\n",
            "-- Epoch 8\n",
            "Norm: 2.41, NNZs: 10, Bias: -4.137564, T: 2439096, Avg. loss: 0.294050\n",
            "Total training time: 0.72 seconds.\n",
            "-- Epoch 9\n",
            "Norm: 2.60, NNZs: 10, Bias: -3.966937, T: 2743983, Avg. loss: 0.294150\n",
            "Total training time: 0.81 seconds.\n",
            "-- Epoch 10\n",
            "Norm: 2.45, NNZs: 10, Bias: -4.098527, T: 3048870, Avg. loss: 0.294103\n",
            "Total training time: 0.90 seconds.\n",
            "-- Epoch 11\n",
            "Norm: 2.38, NNZs: 10, Bias: -4.375276, T: 3353757, Avg. loss: 0.293871\n",
            "Total training time: 0.99 seconds.\n",
            "-- Epoch 12\n",
            "Norm: 2.36, NNZs: 10, Bias: -3.971574, T: 3658644, Avg. loss: 0.294010\n",
            "Total training time: 1.08 seconds.\n",
            "-- Epoch 13\n",
            "Norm: 2.29, NNZs: 10, Bias: -4.298630, T: 3963531, Avg. loss: 0.293863\n",
            "Total training time: 1.17 seconds.\n",
            "-- Epoch 14\n",
            "Norm: 2.46, NNZs: 10, Bias: -4.079423, T: 4268418, Avg. loss: 0.293954\n",
            "Total training time: 1.26 seconds.\n",
            "-- Epoch 15\n",
            "Norm: 2.30, NNZs: 10, Bias: -3.924264, T: 4573305, Avg. loss: 0.293973\n",
            "Total training time: 1.35 seconds.\n",
            "-- Epoch 16\n",
            "Norm: 2.21, NNZs: 10, Bias: -4.305389, T: 4878192, Avg. loss: 0.294216\n",
            "Total training time: 1.44 seconds.\n",
            "-- Epoch 17\n",
            "Norm: 2.16, NNZs: 10, Bias: -4.047384, T: 5183079, Avg. loss: 0.294372\n",
            "Total training time: 1.53 seconds.\n",
            "-- Epoch 18\n",
            "Norm: 2.39, NNZs: 10, Bias: -4.267215, T: 5487966, Avg. loss: 0.294593\n",
            "Total training time: 1.62 seconds.\n",
            "-- Epoch 19\n",
            "Norm: 2.10, NNZs: 10, Bias: -4.052452, T: 5792853, Avg. loss: 0.294289\n",
            "Total training time: 1.71 seconds.\n",
            "-- Epoch 20\n",
            "Norm: 2.28, NNZs: 10, Bias: -4.261784, T: 6097740, Avg. loss: 0.294045\n",
            "Total training time: 1.80 seconds.\n",
            "-- Epoch 21\n",
            "Norm: 2.26, NNZs: 10, Bias: -3.996940, T: 6402627, Avg. loss: 0.294253\n",
            "Total training time: 1.89 seconds.\n",
            "-- Epoch 22\n",
            "Norm: 2.27, NNZs: 10, Bias: -4.248812, T: 6707514, Avg. loss: 0.294093\n",
            "Total training time: 1.99 seconds.\n",
            "-- Epoch 23\n",
            "Norm: 2.64, NNZs: 10, Bias: -4.018841, T: 7012401, Avg. loss: 0.294158\n",
            "Total training time: 2.08 seconds.\n",
            "-- Epoch 24\n",
            "Norm: 2.46, NNZs: 10, Bias: -4.224079, T: 7317288, Avg. loss: 0.293999\n",
            "Total training time: 2.16 seconds.\n",
            "-- Epoch 25\n",
            "Norm: 2.28, NNZs: 10, Bias: -4.440542, T: 7622175, Avg. loss: 0.293858\n",
            "Total training time: 2.26 seconds.\n",
            "-- Epoch 26\n",
            "Norm: 2.07, NNZs: 10, Bias: -3.995300, T: 7927062, Avg. loss: 0.294124\n",
            "Total training time: 2.34 seconds.\n",
            "-- Epoch 27\n",
            "Norm: 2.34, NNZs: 10, Bias: -4.157853, T: 8231949, Avg. loss: 0.293958\n",
            "Total training time: 2.43 seconds.\n",
            "-- Epoch 28\n",
            "Norm: 2.41, NNZs: 10, Bias: -4.019202, T: 8536836, Avg. loss: 0.294161\n",
            "Total training time: 2.52 seconds.\n",
            "-- Epoch 29\n",
            "Norm: 2.27, NNZs: 10, Bias: -4.334042, T: 8841723, Avg. loss: 0.294129\n",
            "Total training time: 2.61 seconds.\n",
            "-- Epoch 30\n",
            "Norm: 2.41, NNZs: 10, Bias: -3.852028, T: 9146610, Avg. loss: 0.293889\n",
            "Total training time: 2.71 seconds.\n",
            "-- Epoch 31\n",
            "Norm: 2.17, NNZs: 10, Bias: -4.248638, T: 9451497, Avg. loss: 0.293704\n",
            "Total training time: 2.79 seconds.\n",
            "-- Epoch 32\n",
            "Norm: 2.03, NNZs: 10, Bias: -4.195470, T: 9756384, Avg. loss: 0.294254\n",
            "Total training time: 2.88 seconds.\n",
            "-- Epoch 33\n",
            "Norm: 2.20, NNZs: 10, Bias: -4.350333, T: 10061271, Avg. loss: 0.294227\n",
            "Total training time: 2.97 seconds.\n",
            "-- Epoch 34\n",
            "Norm: 2.24, NNZs: 10, Bias: -4.292465, T: 10366158, Avg. loss: 0.293808\n",
            "Total training time: 3.06 seconds.\n",
            "-- Epoch 35\n",
            "Norm: 2.15, NNZs: 10, Bias: -4.292754, T: 10671045, Avg. loss: 0.293825\n",
            "Total training time: 3.14 seconds.\n",
            "-- Epoch 36\n",
            "Norm: 2.48, NNZs: 10, Bias: -3.926505, T: 10975932, Avg. loss: 0.294191\n",
            "Total training time: 3.24 seconds.\n",
            "-- Epoch 37\n",
            "Norm: 2.17, NNZs: 10, Bias: -4.406574, T: 11280819, Avg. loss: 0.293887\n",
            "Total training time: 3.33 seconds.\n",
            "-- Epoch 38\n",
            "Norm: 2.35, NNZs: 10, Bias: -4.430872, T: 11585706, Avg. loss: 0.294139\n",
            "Total training time: 3.41 seconds.\n",
            "-- Epoch 39\n",
            "Norm: 2.37, NNZs: 10, Bias: -4.037290, T: 11890593, Avg. loss: 0.294189\n",
            "Total training time: 3.50 seconds.\n",
            "-- Epoch 40\n",
            "Norm: 2.61, NNZs: 10, Bias: -4.158171, T: 12195480, Avg. loss: 0.293992\n",
            "Total training time: 3.60 seconds.\n",
            "-- Epoch 41\n",
            "Norm: 2.24, NNZs: 10, Bias: -4.053716, T: 12500367, Avg. loss: 0.294148\n",
            "Total training time: 3.69 seconds.\n",
            "-- Epoch 42\n",
            "Norm: 2.09, NNZs: 10, Bias: -4.595824, T: 12805254, Avg. loss: 0.293852\n",
            "Total training time: 3.78 seconds.\n",
            "-- Epoch 43\n",
            "Norm: 2.44, NNZs: 10, Bias: -4.158443, T: 13110141, Avg. loss: 0.294114\n",
            "Total training time: 3.87 seconds.\n",
            "-- Epoch 44\n",
            "Norm: 2.16, NNZs: 10, Bias: -4.072449, T: 13415028, Avg. loss: 0.294054\n",
            "Total training time: 3.96 seconds.\n",
            "-- Epoch 45\n",
            "Norm: 2.31, NNZs: 10, Bias: -4.097451, T: 13719915, Avg. loss: 0.294089\n",
            "Total training time: 4.05 seconds.\n",
            "-- Epoch 46\n",
            "Norm: 2.34, NNZs: 10, Bias: -4.137244, T: 14024802, Avg. loss: 0.293867\n",
            "Total training time: 4.14 seconds.\n",
            "-- Epoch 47\n",
            "Norm: 2.66, NNZs: 10, Bias: -4.065674, T: 14329689, Avg. loss: 0.293885\n",
            "Total training time: 4.23 seconds.\n",
            "-- Epoch 48\n",
            "Norm: 2.40, NNZs: 10, Bias: -4.478237, T: 14634576, Avg. loss: 0.293993\n",
            "Total training time: 4.32 seconds.\n",
            "-- Epoch 49\n",
            "Norm: 2.03, NNZs: 10, Bias: -4.302086, T: 14939463, Avg. loss: 0.294109\n",
            "Total training time: 4.41 seconds.\n",
            "-- Epoch 50\n",
            "Norm: 2.48, NNZs: 10, Bias: -3.963492, T: 15244350, Avg. loss: 0.294142\n",
            "Total training time: 4.50 seconds.\n",
            "-- Epoch 51\n",
            "Norm: 2.53, NNZs: 10, Bias: -4.072309, T: 15549237, Avg. loss: 0.294113\n",
            "Total training time: 4.59 seconds.\n",
            "-- Epoch 52\n",
            "Norm: 2.20, NNZs: 10, Bias: -3.958678, T: 15854124, Avg. loss: 0.294246\n",
            "Total training time: 4.68 seconds.\n",
            "-- Epoch 53\n",
            "Norm: 2.48, NNZs: 10, Bias: -4.019788, T: 16159011, Avg. loss: 0.294471\n",
            "Total training time: 4.76 seconds.\n",
            "-- Epoch 54\n",
            "Norm: 2.22, NNZs: 10, Bias: -4.160339, T: 16463898, Avg. loss: 0.294173\n",
            "Total training time: 4.85 seconds.\n",
            "-- Epoch 55\n",
            "Norm: 2.47, NNZs: 10, Bias: -4.090760, T: 16768785, Avg. loss: 0.294082\n",
            "Total training time: 4.94 seconds.\n",
            "-- Epoch 56\n",
            "Norm: 2.51, NNZs: 10, Bias: -4.212203, T: 17073672, Avg. loss: 0.293807\n",
            "Total training time: 5.03 seconds.\n",
            "-- Epoch 57\n",
            "Norm: 2.15, NNZs: 10, Bias: -4.135843, T: 17378559, Avg. loss: 0.294631\n",
            "Total training time: 5.12 seconds.\n",
            "-- Epoch 58\n",
            "Norm: 2.38, NNZs: 10, Bias: -4.286829, T: 17683446, Avg. loss: 0.294055\n",
            "Total training time: 5.21 seconds.\n",
            "-- Epoch 59\n",
            "Norm: 2.31, NNZs: 10, Bias: -4.160125, T: 17988333, Avg. loss: 0.293971\n",
            "Total training time: 5.30 seconds.\n",
            "-- Epoch 60\n",
            "Norm: 2.44, NNZs: 10, Bias: -4.034070, T: 18293220, Avg. loss: 0.294180\n",
            "Total training time: 5.39 seconds.\n",
            "-- Epoch 61\n",
            "Norm: 2.52, NNZs: 10, Bias: -3.934867, T: 18598107, Avg. loss: 0.294090\n",
            "Total training time: 5.48 seconds.\n",
            "-- Epoch 62\n",
            "Norm: 2.10, NNZs: 10, Bias: -4.110206, T: 18902994, Avg. loss: 0.294286\n",
            "Total training time: 5.57 seconds.\n",
            "-- Epoch 63\n",
            "Norm: 2.26, NNZs: 10, Bias: -4.289838, T: 19207881, Avg. loss: 0.294322\n",
            "Total training time: 5.66 seconds.\n",
            "-- Epoch 64\n",
            "Norm: 2.46, NNZs: 10, Bias: -3.861537, T: 19512768, Avg. loss: 0.294278\n",
            "Total training time: 5.75 seconds.\n",
            "-- Epoch 65\n",
            "Norm: 2.70, NNZs: 10, Bias: -3.990371, T: 19817655, Avg. loss: 0.293848\n",
            "Total training time: 5.83 seconds.\n",
            "-- Epoch 66\n",
            "Norm: 2.42, NNZs: 10, Bias: -4.075263, T: 20122542, Avg. loss: 0.294103\n",
            "Total training time: 5.92 seconds.\n",
            "-- Epoch 67\n",
            "Norm: 2.27, NNZs: 10, Bias: -4.101221, T: 20427429, Avg. loss: 0.294078\n",
            "Total training time: 6.01 seconds.\n",
            "-- Epoch 68\n",
            "Norm: 2.54, NNZs: 10, Bias: -3.852870, T: 20732316, Avg. loss: 0.294315\n",
            "Total training time: 6.10 seconds.\n",
            "-- Epoch 69\n",
            "Norm: 2.10, NNZs: 10, Bias: -4.125942, T: 21037203, Avg. loss: 0.294117\n",
            "Total training time: 6.19 seconds.\n",
            "-- Epoch 70\n",
            "Norm: 2.38, NNZs: 10, Bias: -4.060123, T: 21342090, Avg. loss: 0.293909\n",
            "Total training time: 6.28 seconds.\n",
            "-- Epoch 71\n",
            "Norm: 2.37, NNZs: 10, Bias: -4.165275, T: 21646977, Avg. loss: 0.294263\n",
            "Total training time: 6.37 seconds.\n",
            "-- Epoch 72\n",
            "Norm: 2.08, NNZs: 10, Bias: -3.691442, T: 21951864, Avg. loss: 0.294138\n",
            "Total training time: 6.46 seconds.\n",
            "-- Epoch 73\n",
            "Norm: 2.33, NNZs: 10, Bias: -4.075091, T: 22256751, Avg. loss: 0.293734\n",
            "Total training time: 6.55 seconds.\n",
            "-- Epoch 74\n",
            "Norm: 2.36, NNZs: 10, Bias: -4.226059, T: 22561638, Avg. loss: 0.294240\n",
            "Total training time: 6.63 seconds.\n",
            "-- Epoch 75\n",
            "Norm: 2.49, NNZs: 10, Bias: -3.967001, T: 22866525, Avg. loss: 0.293928\n",
            "Total training time: 6.72 seconds.\n",
            "-- Epoch 76\n",
            "Norm: 2.38, NNZs: 10, Bias: -4.097835, T: 23171412, Avg. loss: 0.294112\n",
            "Total training time: 6.81 seconds.\n",
            "-- Epoch 77\n",
            "Norm: 2.49, NNZs: 10, Bias: -4.085709, T: 23476299, Avg. loss: 0.293727\n",
            "Total training time: 6.89 seconds.\n",
            "-- Epoch 78\n",
            "Norm: 2.21, NNZs: 10, Bias: -4.265555, T: 23781186, Avg. loss: 0.294209\n",
            "Total training time: 6.98 seconds.\n",
            "-- Epoch 79\n",
            "Norm: 2.39, NNZs: 10, Bias: -4.409083, T: 24086073, Avg. loss: 0.294166\n",
            "Total training time: 7.07 seconds.\n",
            "-- Epoch 80\n",
            "Norm: 2.55, NNZs: 10, Bias: -4.137240, T: 24390960, Avg. loss: 0.293765\n",
            "Total training time: 7.16 seconds.\n",
            "-- Epoch 81\n",
            "Norm: 2.59, NNZs: 10, Bias: -4.049394, T: 24695847, Avg. loss: 0.294220\n",
            "Total training time: 7.25 seconds.\n",
            "-- Epoch 82\n",
            "Norm: 2.35, NNZs: 10, Bias: -4.066882, T: 25000734, Avg. loss: 0.294320\n",
            "Total training time: 7.34 seconds.\n",
            "-- Epoch 83\n",
            "Norm: 2.31, NNZs: 10, Bias: -4.157311, T: 25305621, Avg. loss: 0.293985\n",
            "Total training time: 7.43 seconds.\n",
            "-- Epoch 84\n",
            "Norm: 2.43, NNZs: 10, Bias: -3.945371, T: 25610508, Avg. loss: 0.293806\n",
            "Total training time: 7.53 seconds.\n",
            "-- Epoch 85\n",
            "Norm: 2.06, NNZs: 10, Bias: -4.192447, T: 25915395, Avg. loss: 0.294174\n",
            "Total training time: 7.62 seconds.\n",
            "-- Epoch 86\n",
            "Norm: 2.45, NNZs: 10, Bias: -4.343124, T: 26220282, Avg. loss: 0.294426\n",
            "Total training time: 7.70 seconds.\n",
            "-- Epoch 87\n",
            "Norm: 2.31, NNZs: 10, Bias: -4.099913, T: 26525169, Avg. loss: 0.293911\n",
            "Total training time: 7.79 seconds.\n",
            "-- Epoch 88\n",
            "Norm: 2.50, NNZs: 10, Bias: -4.013963, T: 26830056, Avg. loss: 0.294045\n",
            "Total training time: 7.88 seconds.\n",
            "-- Epoch 89\n",
            "Norm: 2.39, NNZs: 10, Bias: -4.219258, T: 27134943, Avg. loss: 0.293830\n",
            "Total training time: 7.97 seconds.\n",
            "-- Epoch 90\n",
            "Norm: 2.18, NNZs: 10, Bias: -3.804034, T: 27439830, Avg. loss: 0.293834\n",
            "Total training time: 8.06 seconds.\n",
            "-- Epoch 91\n",
            "Norm: 2.60, NNZs: 10, Bias: -4.119253, T: 27744717, Avg. loss: 0.294186\n",
            "Total training time: 8.15 seconds.\n",
            "-- Epoch 92\n",
            "Norm: 2.33, NNZs: 10, Bias: -4.199229, T: 28049604, Avg. loss: 0.294287\n",
            "Total training time: 8.24 seconds.\n",
            "-- Epoch 93\n",
            "Norm: 2.38, NNZs: 10, Bias: -4.215397, T: 28354491, Avg. loss: 0.294021\n",
            "Total training time: 8.33 seconds.\n",
            "-- Epoch 94\n",
            "Norm: 2.12, NNZs: 10, Bias: -4.027178, T: 28659378, Avg. loss: 0.293933\n",
            "Total training time: 8.42 seconds.\n",
            "-- Epoch 95\n",
            "Norm: 2.57, NNZs: 10, Bias: -3.926268, T: 28964265, Avg. loss: 0.294271\n",
            "Total training time: 8.51 seconds.\n",
            "-- Epoch 96\n",
            "Norm: 2.51, NNZs: 10, Bias: -4.188725, T: 29269152, Avg. loss: 0.293969\n",
            "Total training time: 8.60 seconds.\n",
            "-- Epoch 97\n",
            "Norm: 2.13, NNZs: 10, Bias: -3.852560, T: 29574039, Avg. loss: 0.294063\n",
            "Total training time: 8.68 seconds.\n",
            "-- Epoch 98\n",
            "Norm: 2.36, NNZs: 10, Bias: -4.046834, T: 29878926, Avg. loss: 0.294224\n",
            "Total training time: 8.77 seconds.\n",
            "-- Epoch 99\n",
            "Norm: 2.34, NNZs: 10, Bias: -4.108356, T: 30183813, Avg. loss: 0.294185\n",
            "Total training time: 8.86 seconds.\n",
            "-- Epoch 100\n",
            "Norm: 2.32, NNZs: 10, Bias: -4.173844, T: 30488700, Avg. loss: 0.294284\n",
            "Total training time: 8.95 seconds.\n",
            "-- Epoch 101\n",
            "Norm: 2.19, NNZs: 10, Bias: -3.870318, T: 30793587, Avg. loss: 0.294150\n",
            "Total training time: 9.04 seconds.\n",
            "-- Epoch 102\n",
            "Norm: 2.45, NNZs: 10, Bias: -4.058521, T: 31098474, Avg. loss: 0.294088\n",
            "Total training time: 9.13 seconds.\n",
            "-- Epoch 103\n",
            "Norm: 2.47, NNZs: 10, Bias: -4.062653, T: 31403361, Avg. loss: 0.293542\n",
            "Total training time: 9.22 seconds.\n",
            "-- Epoch 104\n",
            "Norm: 2.47, NNZs: 10, Bias: -4.124109, T: 31708248, Avg. loss: 0.294039\n",
            "Total training time: 9.31 seconds.\n",
            "-- Epoch 105\n",
            "Norm: 2.49, NNZs: 10, Bias: -4.131458, T: 32013135, Avg. loss: 0.294052\n",
            "Total training time: 9.40 seconds.\n",
            "-- Epoch 106\n",
            "Norm: 2.12, NNZs: 10, Bias: -4.142639, T: 32318022, Avg. loss: 0.294208\n",
            "Total training time: 9.49 seconds.\n",
            "-- Epoch 107\n",
            "Norm: 2.52, NNZs: 10, Bias: -3.847341, T: 32622909, Avg. loss: 0.293886\n",
            "Total training time: 9.57 seconds.\n",
            "-- Epoch 108\n",
            "Norm: 2.50, NNZs: 10, Bias: -4.016276, T: 32927796, Avg. loss: 0.294146\n",
            "Total training time: 9.66 seconds.\n",
            "-- Epoch 109\n",
            "Norm: 2.18, NNZs: 10, Bias: -4.073842, T: 33232683, Avg. loss: 0.294360\n",
            "Total training time: 9.75 seconds.\n",
            "-- Epoch 110\n",
            "Norm: 2.12, NNZs: 10, Bias: -4.233421, T: 33537570, Avg. loss: 0.293824\n",
            "Total training time: 9.84 seconds.\n",
            "-- Epoch 111\n",
            "Norm: 2.20, NNZs: 10, Bias: -4.220602, T: 33842457, Avg. loss: 0.294157\n",
            "Total training time: 9.93 seconds.\n",
            "-- Epoch 112\n",
            "Norm: 2.57, NNZs: 10, Bias: -3.952088, T: 34147344, Avg. loss: 0.293960\n",
            "Total training time: 10.01 seconds.\n",
            "-- Epoch 113\n",
            "Norm: 2.51, NNZs: 10, Bias: -4.139195, T: 34452231, Avg. loss: 0.293922\n",
            "Total training time: 10.11 seconds.\n",
            "-- Epoch 114\n",
            "Norm: 2.32, NNZs: 10, Bias: -4.135819, T: 34757118, Avg. loss: 0.293948\n",
            "Total training time: 10.20 seconds.\n",
            "-- Epoch 115\n",
            "Norm: 2.37, NNZs: 10, Bias: -4.176757, T: 35062005, Avg. loss: 0.293989\n",
            "Total training time: 10.28 seconds.\n",
            "-- Epoch 116\n",
            "Norm: 2.28, NNZs: 10, Bias: -3.870863, T: 35366892, Avg. loss: 0.293999\n",
            "Total training time: 10.37 seconds.\n",
            "-- Epoch 117\n",
            "Norm: 2.52, NNZs: 10, Bias: -4.134153, T: 35671779, Avg. loss: 0.293653\n",
            "Total training time: 10.46 seconds.\n",
            "-- Epoch 118\n",
            "Norm: 2.45, NNZs: 10, Bias: -4.061050, T: 35976666, Avg. loss: 0.294023\n",
            "Total training time: 10.55 seconds.\n",
            "-- Epoch 119\n",
            "Norm: 2.61, NNZs: 10, Bias: -4.006664, T: 36281553, Avg. loss: 0.294493\n",
            "Total training time: 10.64 seconds.\n",
            "-- Epoch 120\n",
            "Norm: 2.22, NNZs: 10, Bias: -4.019453, T: 36586440, Avg. loss: 0.293896\n",
            "Total training time: 10.73 seconds.\n",
            "-- Epoch 121\n",
            "Norm: 2.38, NNZs: 10, Bias: -3.899642, T: 36891327, Avg. loss: 0.294261\n",
            "Total training time: 10.82 seconds.\n",
            "-- Epoch 122\n",
            "Norm: 2.41, NNZs: 10, Bias: -4.150575, T: 37196214, Avg. loss: 0.294457\n",
            "Total training time: 10.90 seconds.\n",
            "-- Epoch 123\n",
            "Norm: 2.43, NNZs: 10, Bias: -4.151094, T: 37501101, Avg. loss: 0.294471\n",
            "Total training time: 10.99 seconds.\n",
            "-- Epoch 124\n",
            "Norm: 2.41, NNZs: 10, Bias: -4.013714, T: 37805988, Avg. loss: 0.294107\n",
            "Total training time: 11.08 seconds.\n",
            "-- Epoch 125\n",
            "Norm: 2.26, NNZs: 10, Bias: -4.188260, T: 38110875, Avg. loss: 0.294110\n",
            "Total training time: 11.17 seconds.\n",
            "-- Epoch 126\n",
            "Norm: 2.22, NNZs: 10, Bias: -4.036497, T: 38415762, Avg. loss: 0.294020\n",
            "Total training time: 11.26 seconds.\n",
            "-- Epoch 127\n",
            "Norm: 2.34, NNZs: 10, Bias: -4.135094, T: 38720649, Avg. loss: 0.294125\n",
            "Total training time: 11.35 seconds.\n",
            "-- Epoch 128\n",
            "Norm: 2.26, NNZs: 10, Bias: -4.016585, T: 39025536, Avg. loss: 0.294042\n",
            "Total training time: 11.43 seconds.\n",
            "-- Epoch 129\n",
            "Norm: 2.34, NNZs: 10, Bias: -4.280179, T: 39330423, Avg. loss: 0.294240\n",
            "Total training time: 11.52 seconds.\n",
            "-- Epoch 130\n",
            "Norm: 2.30, NNZs: 10, Bias: -3.984757, T: 39635310, Avg. loss: 0.294253\n",
            "Total training time: 11.61 seconds.\n",
            "-- Epoch 131\n",
            "Norm: 2.60, NNZs: 10, Bias: -4.149110, T: 39940197, Avg. loss: 0.294158\n",
            "Total training time: 11.69 seconds.\n",
            "-- Epoch 132\n",
            "Norm: 2.66, NNZs: 10, Bias: -4.009032, T: 40245084, Avg. loss: 0.294018\n",
            "Total training time: 11.78 seconds.\n",
            "-- Epoch 133\n",
            "Norm: 2.53, NNZs: 10, Bias: -4.061729, T: 40549971, Avg. loss: 0.293892\n",
            "Total training time: 11.87 seconds.\n",
            "-- Epoch 134\n",
            "Norm: 2.44, NNZs: 10, Bias: -4.294218, T: 40854858, Avg. loss: 0.293781\n",
            "Total training time: 11.96 seconds.\n",
            "-- Epoch 135\n",
            "Norm: 2.22, NNZs: 10, Bias: -4.237291, T: 41159745, Avg. loss: 0.294206\n",
            "Total training time: 12.05 seconds.\n",
            "-- Epoch 136\n",
            "Norm: 2.34, NNZs: 10, Bias: -4.183976, T: 41464632, Avg. loss: 0.294327\n",
            "Total training time: 12.14 seconds.\n",
            "-- Epoch 137\n",
            "Norm: 2.36, NNZs: 10, Bias: -4.107084, T: 41769519, Avg. loss: 0.294149\n",
            "Total training time: 12.23 seconds.\n",
            "-- Epoch 138\n",
            "Norm: 2.43, NNZs: 10, Bias: -4.221888, T: 42074406, Avg. loss: 0.294055\n",
            "Total training time: 12.32 seconds.\n",
            "-- Epoch 139\n",
            "Norm: 2.39, NNZs: 10, Bias: -3.909504, T: 42379293, Avg. loss: 0.294023\n",
            "Total training time: 12.40 seconds.\n",
            "-- Epoch 140\n",
            "Norm: 2.44, NNZs: 10, Bias: -4.038067, T: 42684180, Avg. loss: 0.294082\n",
            "Total training time: 12.49 seconds.\n",
            "-- Epoch 141\n",
            "Norm: 2.12, NNZs: 10, Bias: -4.020855, T: 42989067, Avg. loss: 0.293996\n",
            "Total training time: 12.58 seconds.\n",
            "-- Epoch 142\n",
            "Norm: 2.39, NNZs: 10, Bias: -4.131417, T: 43293954, Avg. loss: 0.293941\n",
            "Total training time: 12.67 seconds.\n",
            "-- Epoch 143\n",
            "Norm: 2.43, NNZs: 10, Bias: -4.361123, T: 43598841, Avg. loss: 0.294115\n",
            "Total training time: 12.76 seconds.\n",
            "-- Epoch 144\n",
            "Norm: 2.59, NNZs: 10, Bias: -4.108609, T: 43903728, Avg. loss: 0.294023\n",
            "Total training time: 12.85 seconds.\n",
            "-- Epoch 145\n",
            "Norm: 2.13, NNZs: 10, Bias: -4.347316, T: 44208615, Avg. loss: 0.293989\n",
            "Total training time: 12.94 seconds.\n",
            "-- Epoch 146\n",
            "Norm: 2.21, NNZs: 10, Bias: -4.172274, T: 44513502, Avg. loss: 0.293987\n",
            "Total training time: 13.02 seconds.\n",
            "-- Epoch 147\n",
            "Norm: 2.35, NNZs: 10, Bias: -3.939763, T: 44818389, Avg. loss: 0.294074\n",
            "Total training time: 13.12 seconds.\n",
            "-- Epoch 148\n",
            "Norm: 2.47, NNZs: 10, Bias: -4.201605, T: 45123276, Avg. loss: 0.294044\n",
            "Total training time: 13.20 seconds.\n",
            "-- Epoch 149\n",
            "Norm: 2.38, NNZs: 10, Bias: -4.105730, T: 45428163, Avg. loss: 0.293974\n",
            "Total training time: 13.29 seconds.\n",
            "-- Epoch 150\n",
            "Norm: 2.28, NNZs: 10, Bias: -4.175268, T: 45733050, Avg. loss: 0.294060\n",
            "Total training time: 13.38 seconds.\n",
            "-- Epoch 151\n",
            "Norm: 2.47, NNZs: 10, Bias: -4.115848, T: 46037937, Avg. loss: 0.294052\n",
            "Total training time: 13.47 seconds.\n",
            "-- Epoch 152\n",
            "Norm: 2.60, NNZs: 10, Bias: -3.931644, T: 46342824, Avg. loss: 0.293856\n",
            "Total training time: 13.56 seconds.\n",
            "-- Epoch 153\n",
            "Norm: 2.37, NNZs: 10, Bias: -3.993196, T: 46647711, Avg. loss: 0.293950\n",
            "Total training time: 13.65 seconds.\n",
            "-- Epoch 154\n",
            "Norm: 2.52, NNZs: 10, Bias: -3.992765, T: 46952598, Avg. loss: 0.293735\n",
            "Total training time: 13.74 seconds.\n",
            "-- Epoch 155\n",
            "Norm: 2.59, NNZs: 10, Bias: -4.165243, T: 47257485, Avg. loss: 0.294289\n",
            "Total training time: 13.83 seconds.\n",
            "-- Epoch 156\n",
            "Norm: 2.39, NNZs: 10, Bias: -4.142425, T: 47562372, Avg. loss: 0.294423\n",
            "Total training time: 13.93 seconds.\n",
            "-- Epoch 157\n",
            "Norm: 2.49, NNZs: 10, Bias: -4.036146, T: 47867259, Avg. loss: 0.294137\n",
            "Total training time: 14.02 seconds.\n",
            "-- Epoch 158\n",
            "Norm: 2.42, NNZs: 10, Bias: -3.881606, T: 48172146, Avg. loss: 0.293821\n",
            "Total training time: 14.11 seconds.\n",
            "-- Epoch 159\n",
            "Norm: 2.20, NNZs: 10, Bias: -4.124320, T: 48477033, Avg. loss: 0.294295\n",
            "Total training time: 14.21 seconds.\n",
            "-- Epoch 160\n",
            "Norm: 2.19, NNZs: 10, Bias: -4.206040, T: 48781920, Avg. loss: 0.293956\n",
            "Total training time: 14.29 seconds.\n",
            "-- Epoch 161\n",
            "Norm: 2.32, NNZs: 10, Bias: -4.081904, T: 49086807, Avg. loss: 0.294088\n",
            "Total training time: 14.39 seconds.\n",
            "-- Epoch 162\n",
            "Norm: 2.16, NNZs: 10, Bias: -4.131192, T: 49391694, Avg. loss: 0.294101\n",
            "Total training time: 14.48 seconds.\n",
            "-- Epoch 163\n",
            "Norm: 2.48, NNZs: 10, Bias: -4.156235, T: 49696581, Avg. loss: 0.294035\n",
            "Total training time: 14.57 seconds.\n",
            "-- Epoch 164\n",
            "Norm: 2.30, NNZs: 10, Bias: -4.108413, T: 50001468, Avg. loss: 0.294076\n",
            "Total training time: 14.66 seconds.\n",
            "-- Epoch 165\n",
            "Norm: 2.13, NNZs: 10, Bias: -4.334347, T: 50306355, Avg. loss: 0.294040\n",
            "Total training time: 14.75 seconds.\n",
            "-- Epoch 166\n",
            "Norm: 2.60, NNZs: 10, Bias: -4.295115, T: 50611242, Avg. loss: 0.294059\n",
            "Total training time: 14.84 seconds.\n",
            "-- Epoch 167\n",
            "Norm: 2.37, NNZs: 10, Bias: -4.242762, T: 50916129, Avg. loss: 0.294004\n",
            "Total training time: 14.93 seconds.\n",
            "-- Epoch 168\n",
            "Norm: 2.20, NNZs: 10, Bias: -4.311404, T: 51221016, Avg. loss: 0.293945\n",
            "Total training time: 15.02 seconds.\n",
            "-- Epoch 169\n",
            "Norm: 2.64, NNZs: 10, Bias: -3.909185, T: 51525903, Avg. loss: 0.294059\n",
            "Total training time: 15.10 seconds.\n",
            "-- Epoch 170\n",
            "Norm: 2.58, NNZs: 10, Bias: -4.186269, T: 51830790, Avg. loss: 0.294153\n",
            "Total training time: 15.20 seconds.\n",
            "-- Epoch 171\n",
            "Norm: 2.15, NNZs: 10, Bias: -4.128827, T: 52135677, Avg. loss: 0.294048\n",
            "Total training time: 15.29 seconds.\n",
            "-- Epoch 172\n",
            "Norm: 2.27, NNZs: 10, Bias: -4.584678, T: 52440564, Avg. loss: 0.294335\n",
            "Total training time: 15.37 seconds.\n",
            "-- Epoch 173\n",
            "Norm: 2.50, NNZs: 10, Bias: -4.270910, T: 52745451, Avg. loss: 0.293699\n",
            "Total training time: 15.46 seconds.\n",
            "-- Epoch 174\n",
            "Norm: 2.33, NNZs: 10, Bias: -4.346197, T: 53050338, Avg. loss: 0.293892\n",
            "Total training time: 15.55 seconds.\n",
            "-- Epoch 175\n",
            "Norm: 2.57, NNZs: 10, Bias: -4.370640, T: 53355225, Avg. loss: 0.294211\n",
            "Total training time: 15.64 seconds.\n",
            "-- Epoch 176\n",
            "Norm: 2.13, NNZs: 10, Bias: -4.238217, T: 53660112, Avg. loss: 0.294095\n",
            "Total training time: 15.73 seconds.\n",
            "-- Epoch 177\n",
            "Norm: 2.41, NNZs: 10, Bias: -4.540277, T: 53964999, Avg. loss: 0.293816\n",
            "Total training time: 15.81 seconds.\n",
            "-- Epoch 178\n",
            "Norm: 2.75, NNZs: 10, Bias: -3.768441, T: 54269886, Avg. loss: 0.293578\n",
            "Total training time: 15.90 seconds.\n",
            "-- Epoch 179\n",
            "Norm: 2.18, NNZs: 10, Bias: -4.098479, T: 54574773, Avg. loss: 0.293604\n",
            "Total training time: 15.99 seconds.\n",
            "-- Epoch 180\n",
            "Norm: 2.36, NNZs: 10, Bias: -4.108810, T: 54879660, Avg. loss: 0.294243\n",
            "Total training time: 16.08 seconds.\n",
            "-- Epoch 181\n",
            "Norm: 2.38, NNZs: 10, Bias: -4.196462, T: 55184547, Avg. loss: 0.294157\n",
            "Total training time: 16.17 seconds.\n",
            "-- Epoch 182\n",
            "Norm: 2.57, NNZs: 10, Bias: -4.059697, T: 55489434, Avg. loss: 0.294167\n",
            "Total training time: 16.26 seconds.\n",
            "-- Epoch 183\n",
            "Norm: 2.32, NNZs: 10, Bias: -4.067163, T: 55794321, Avg. loss: 0.294038\n",
            "Total training time: 16.34 seconds.\n",
            "-- Epoch 184\n",
            "Norm: 2.46, NNZs: 10, Bias: -4.363608, T: 56099208, Avg. loss: 0.294317\n",
            "Total training time: 16.43 seconds.\n",
            "-- Epoch 185\n",
            "Norm: 2.38, NNZs: 10, Bias: -4.277312, T: 56404095, Avg. loss: 0.294471\n",
            "Total training time: 16.52 seconds.\n",
            "-- Epoch 186\n",
            "Norm: 2.42, NNZs: 10, Bias: -4.274958, T: 56708982, Avg. loss: 0.294212\n",
            "Total training time: 16.61 seconds.\n",
            "-- Epoch 187\n",
            "Norm: 2.41, NNZs: 10, Bias: -4.068823, T: 57013869, Avg. loss: 0.294348\n",
            "Total training time: 16.69 seconds.\n",
            "-- Epoch 188\n",
            "Norm: 2.31, NNZs: 10, Bias: -4.381702, T: 57318756, Avg. loss: 0.294198\n",
            "Total training time: 16.78 seconds.\n",
            "-- Epoch 189\n",
            "Norm: 2.47, NNZs: 10, Bias: -4.157787, T: 57623643, Avg. loss: 0.294414\n",
            "Total training time: 16.87 seconds.\n",
            "-- Epoch 190\n",
            "Norm: 2.20, NNZs: 10, Bias: -3.932870, T: 57928530, Avg. loss: 0.294134\n",
            "Total training time: 16.96 seconds.\n",
            "-- Epoch 191\n",
            "Norm: 2.15, NNZs: 10, Bias: -4.315255, T: 58233417, Avg. loss: 0.294035\n",
            "Total training time: 17.05 seconds.\n",
            "-- Epoch 192\n",
            "Norm: 2.40, NNZs: 10, Bias: -4.035442, T: 58538304, Avg. loss: 0.293758\n",
            "Total training time: 17.13 seconds.\n",
            "-- Epoch 193\n",
            "Norm: 2.30, NNZs: 10, Bias: -4.106697, T: 58843191, Avg. loss: 0.294175\n",
            "Total training time: 17.22 seconds.\n",
            "-- Epoch 194\n",
            "Norm: 2.60, NNZs: 10, Bias: -4.234219, T: 59148078, Avg. loss: 0.294438\n",
            "Total training time: 17.31 seconds.\n",
            "-- Epoch 195\n",
            "Norm: 2.35, NNZs: 10, Bias: -4.025733, T: 59452965, Avg. loss: 0.294209\n",
            "Total training time: 17.40 seconds.\n",
            "-- Epoch 196\n",
            "Norm: 2.47, NNZs: 10, Bias: -4.087857, T: 59757852, Avg. loss: 0.294327\n",
            "Total training time: 17.49 seconds.\n",
            "-- Epoch 197\n",
            "Norm: 2.32, NNZs: 10, Bias: -4.325602, T: 60062739, Avg. loss: 0.293995\n",
            "Total training time: 17.58 seconds.\n",
            "-- Epoch 198\n",
            "Norm: 2.26, NNZs: 10, Bias: -4.277398, T: 60367626, Avg. loss: 0.294219\n",
            "Total training time: 17.67 seconds.\n",
            "-- Epoch 199\n",
            "Norm: 2.28, NNZs: 10, Bias: -4.172757, T: 60672513, Avg. loss: 0.294155\n",
            "Total training time: 17.76 seconds.\n",
            "-- Epoch 200\n",
            "Norm: 2.31, NNZs: 10, Bias: -4.064901, T: 60977400, Avg. loss: 0.294012\n",
            "Total training time: 17.84 seconds.\n",
            "-- Epoch 201\n",
            "Norm: 2.23, NNZs: 10, Bias: -4.218914, T: 61282287, Avg. loss: 0.293772\n",
            "Total training time: 17.93 seconds.\n",
            "-- Epoch 202\n",
            "Norm: 2.25, NNZs: 10, Bias: -4.001833, T: 61587174, Avg. loss: 0.294314\n",
            "Total training time: 18.02 seconds.\n",
            "-- Epoch 203\n",
            "Norm: 2.31, NNZs: 10, Bias: -4.288170, T: 61892061, Avg. loss: 0.294052\n",
            "Total training time: 18.11 seconds.\n",
            "-- Epoch 204\n",
            "Norm: 2.30, NNZs: 10, Bias: -4.128424, T: 62196948, Avg. loss: 0.294230\n",
            "Total training time: 18.21 seconds.\n",
            "-- Epoch 205\n",
            "Norm: 2.24, NNZs: 10, Bias: -4.353548, T: 62501835, Avg. loss: 0.294150\n",
            "Total training time: 18.30 seconds.\n",
            "-- Epoch 206\n",
            "Norm: 2.47, NNZs: 10, Bias: -4.233302, T: 62806722, Avg. loss: 0.293869\n",
            "Total training time: 18.39 seconds.\n",
            "-- Epoch 207\n",
            "Norm: 2.29, NNZs: 10, Bias: -4.128549, T: 63111609, Avg. loss: 0.294220\n",
            "Total training time: 18.48 seconds.\n",
            "-- Epoch 208\n",
            "Norm: 2.65, NNZs: 10, Bias: -4.172144, T: 63416496, Avg. loss: 0.294190\n",
            "Total training time: 18.57 seconds.\n",
            "-- Epoch 209\n",
            "Norm: 2.31, NNZs: 10, Bias: -4.216607, T: 63721383, Avg. loss: 0.293769\n",
            "Total training time: 18.66 seconds.\n",
            "-- Epoch 210\n",
            "Norm: 2.37, NNZs: 10, Bias: -4.267626, T: 64026270, Avg. loss: 0.294348\n",
            "Total training time: 18.75 seconds.\n",
            "-- Epoch 211\n",
            "Norm: 2.50, NNZs: 10, Bias: -4.039460, T: 64331157, Avg. loss: 0.293773\n",
            "Total training time: 18.84 seconds.\n",
            "-- Epoch 212\n",
            "Norm: 2.46, NNZs: 10, Bias: -4.158659, T: 64636044, Avg. loss: 0.293749\n",
            "Total training time: 18.93 seconds.\n",
            "-- Epoch 213\n",
            "Norm: 2.10, NNZs: 10, Bias: -4.008077, T: 64940931, Avg. loss: 0.294176\n",
            "Total training time: 19.02 seconds.\n",
            "-- Epoch 214\n",
            "Norm: 2.33, NNZs: 10, Bias: -4.158959, T: 65245818, Avg. loss: 0.294289\n",
            "Total training time: 19.10 seconds.\n",
            "-- Epoch 215\n",
            "Norm: 2.56, NNZs: 10, Bias: -4.179515, T: 65550705, Avg. loss: 0.293850\n",
            "Total training time: 19.19 seconds.\n",
            "-- Epoch 216\n",
            "Norm: 2.37, NNZs: 10, Bias: -4.104966, T: 65855592, Avg. loss: 0.294209\n",
            "Total training time: 19.29 seconds.\n",
            "-- Epoch 217\n",
            "Norm: 2.19, NNZs: 10, Bias: -4.118092, T: 66160479, Avg. loss: 0.293863\n",
            "Total training time: 19.38 seconds.\n",
            "-- Epoch 218\n",
            "Norm: 2.48, NNZs: 10, Bias: -4.083598, T: 66465366, Avg. loss: 0.293676\n",
            "Total training time: 19.46 seconds.\n",
            "-- Epoch 219\n",
            "Norm: 2.30, NNZs: 10, Bias: -4.213059, T: 66770253, Avg. loss: 0.293970\n",
            "Total training time: 19.55 seconds.\n",
            "-- Epoch 220\n",
            "Norm: 2.47, NNZs: 10, Bias: -4.016395, T: 67075140, Avg. loss: 0.293989\n",
            "Total training time: 19.64 seconds.\n",
            "-- Epoch 221\n",
            "Norm: 2.49, NNZs: 10, Bias: -4.035938, T: 67380027, Avg. loss: 0.294115\n",
            "Total training time: 19.73 seconds.\n",
            "-- Epoch 222\n",
            "Norm: 2.33, NNZs: 10, Bias: -4.139669, T: 67684914, Avg. loss: 0.294158\n",
            "Total training time: 19.82 seconds.\n",
            "-- Epoch 223\n",
            "Norm: 2.26, NNZs: 10, Bias: -4.354885, T: 67989801, Avg. loss: 0.293644\n",
            "Total training time: 19.90 seconds.\n",
            "-- Epoch 224\n",
            "Norm: 2.18, NNZs: 10, Bias: -4.093597, T: 68294688, Avg. loss: 0.294211\n",
            "Total training time: 19.99 seconds.\n",
            "-- Epoch 225\n",
            "Norm: 2.17, NNZs: 10, Bias: -4.304777, T: 68599575, Avg. loss: 0.294029\n",
            "Total training time: 20.08 seconds.\n",
            "-- Epoch 226\n",
            "Norm: 2.20, NNZs: 10, Bias: -3.978850, T: 68904462, Avg. loss: 0.294167\n",
            "Total training time: 20.17 seconds.\n",
            "-- Epoch 227\n",
            "Norm: 2.36, NNZs: 10, Bias: -4.164536, T: 69209349, Avg. loss: 0.294301\n",
            "Total training time: 20.26 seconds.\n",
            "-- Epoch 228\n",
            "Norm: 2.27, NNZs: 10, Bias: -4.234176, T: 69514236, Avg. loss: 0.294235\n",
            "Total training time: 20.35 seconds.\n",
            "-- Epoch 229\n",
            "Norm: 2.39, NNZs: 10, Bias: -3.896004, T: 69819123, Avg. loss: 0.293997\n",
            "Total training time: 20.44 seconds.\n",
            "-- Epoch 230\n",
            "Norm: 2.48, NNZs: 10, Bias: -4.247541, T: 70124010, Avg. loss: 0.293926\n",
            "Total training time: 20.52 seconds.\n",
            "-- Epoch 231\n",
            "Norm: 2.10, NNZs: 10, Bias: -4.123723, T: 70428897, Avg. loss: 0.293965\n",
            "Total training time: 20.62 seconds.\n",
            "-- Epoch 232\n",
            "Norm: 2.09, NNZs: 10, Bias: -4.289601, T: 70733784, Avg. loss: 0.294166\n",
            "Total training time: 20.71 seconds.\n",
            "-- Epoch 233\n",
            "Norm: 2.00, NNZs: 10, Bias: -4.385562, T: 71038671, Avg. loss: 0.294095\n",
            "Total training time: 20.79 seconds.\n",
            "-- Epoch 234\n",
            "Norm: 2.36, NNZs: 10, Bias: -4.154331, T: 71343558, Avg. loss: 0.294358\n",
            "Total training time: 20.88 seconds.\n",
            "-- Epoch 235\n",
            "Norm: 2.54, NNZs: 10, Bias: -4.178323, T: 71648445, Avg. loss: 0.294220\n",
            "Total training time: 20.97 seconds.\n",
            "-- Epoch 236\n",
            "Norm: 2.10, NNZs: 10, Bias: -4.217936, T: 71953332, Avg. loss: 0.293693\n",
            "Total training time: 21.06 seconds.\n",
            "-- Epoch 237\n",
            "Norm: 2.44, NNZs: 10, Bias: -4.051334, T: 72258219, Avg. loss: 0.293993\n",
            "Total training time: 21.15 seconds.\n",
            "-- Epoch 238\n",
            "Norm: 2.27, NNZs: 10, Bias: -4.162947, T: 72563106, Avg. loss: 0.294322\n",
            "Total training time: 21.24 seconds.\n",
            "-- Epoch 239\n",
            "Norm: 2.43, NNZs: 10, Bias: -4.132921, T: 72867993, Avg. loss: 0.293915\n",
            "Total training time: 21.33 seconds.\n",
            "-- Epoch 240\n",
            "Norm: 2.63, NNZs: 10, Bias: -4.160174, T: 73172880, Avg. loss: 0.294077\n",
            "Total training time: 21.42 seconds.\n",
            "-- Epoch 241\n",
            "Norm: 2.28, NNZs: 10, Bias: -4.294580, T: 73477767, Avg. loss: 0.293975\n",
            "Total training time: 21.51 seconds.\n",
            "-- Epoch 242\n",
            "Norm: 2.37, NNZs: 10, Bias: -4.040407, T: 73782654, Avg. loss: 0.293937\n",
            "Total training time: 21.60 seconds.\n",
            "-- Epoch 243\n",
            "Norm: 2.42, NNZs: 10, Bias: -4.190284, T: 74087541, Avg. loss: 0.294289\n",
            "Total training time: 21.69 seconds.\n",
            "-- Epoch 244\n",
            "Norm: 2.22, NNZs: 10, Bias: -4.069017, T: 74392428, Avg. loss: 0.294172\n",
            "Total training time: 21.78 seconds.\n",
            "-- Epoch 245\n",
            "Norm: 2.41, NNZs: 10, Bias: -3.935077, T: 74697315, Avg. loss: 0.294105\n",
            "Total training time: 21.87 seconds.\n",
            "-- Epoch 246\n",
            "Norm: 2.15, NNZs: 10, Bias: -4.465537, T: 75002202, Avg. loss: 0.294312\n",
            "Total training time: 21.96 seconds.\n",
            "-- Epoch 247\n",
            "Norm: 2.21, NNZs: 10, Bias: -4.107691, T: 75307089, Avg. loss: 0.294267\n",
            "Total training time: 22.05 seconds.\n",
            "-- Epoch 248\n",
            "Norm: 2.14, NNZs: 10, Bias: -4.150793, T: 75611976, Avg. loss: 0.293948\n",
            "Total training time: 22.14 seconds.\n",
            "-- Epoch 249\n",
            "Norm: 2.50, NNZs: 10, Bias: -4.050755, T: 75916863, Avg. loss: 0.294075\n",
            "Total training time: 22.23 seconds.\n",
            "-- Epoch 250\n",
            "Norm: 2.29, NNZs: 10, Bias: -4.043475, T: 76221750, Avg. loss: 0.294108\n",
            "Total training time: 22.32 seconds.\n"
          ]
        },
        {
          "output_type": "execute_result",
          "data": {
            "text/plain": [
              "SGDClassifier(alpha=0.0001, average=False, class_weight=None,\n",
              "              early_stopping=False, epsilon=0.1, eta0=0.05, fit_intercept=True,\n",
              "              l1_ratio=0.15, learning_rate='constant', loss='log', max_iter=250,\n",
              "              n_iter_no_change=5, n_jobs=None, penalty='l2', power_t=0.5,\n",
              "              random_state=0, shuffle=True, tol=None, validation_fraction=0.1,\n",
              "              verbose=1, warm_start=False)"
            ]
          },
          "metadata": {},
          "execution_count": 92
        }
      ]
    },
    {
      "cell_type": "markdown",
      "metadata": {
        "id": "BrDwi7sckio6"
      },
      "source": [
        "##7.2 Avaliando Modelo"
      ]
    },
    {
      "cell_type": "code",
      "metadata": {
        "colab": {
          "base_uri": "https://localhost:8080/"
        },
        "id": "kk52a5KNftfR",
        "outputId": "03982abd-90af-488c-8558-4e3898d893e8"
      },
      "source": [
        "for f, c in zip(df_train.columns[1:], reglog_model.coef_[0].tolist()):\n",
        "    print(f'{f} = {c}')\n",
        "\n",
        "print(f'CONST = {float(reglog_model.intercept_)}')"
      ],
      "execution_count": null,
      "outputs": [
        {
          "output_type": "stream",
          "name": "stdout",
          "text": [
            "Age = 0.15380118174017898\n",
            "Driving_License = -0.018563130095055683\n",
            "Region_Code = 0.29474261776306765\n",
            "Previously_Insured = -0.02246074015132885\n",
            "Vehicle_Age = -1.940621367327331\n",
            "Vehicle_Damage = -0.4121165174932702\n",
            "Annual_Premium = 1.072930778900923\n",
            "Policy_Sales_Channel = -0.021772883657645292\n",
            "Vintage = -0.1840606301310812\n",
            "Response = 0.14391038678560436\n",
            "CONST = -4.043475429754126\n"
          ]
        }
      ]
    },
    {
      "cell_type": "code",
      "metadata": {
        "colab": {
          "base_uri": "https://localhost:8080/"
        },
        "id": "oKrGyrUMgPfd",
        "outputId": "cecf1193-f3f3-46d9-f6ad-be8524117df2"
      },
      "source": [
        "print(f'Acurácia (Treino): {round(accuracy_score(y_train, reglog_model.predict(X_train)), 2)}')"
      ],
      "execution_count": null,
      "outputs": [
        {
          "output_type": "stream",
          "name": "stdout",
          "text": [
            "Acurácia (Treino): 0.88\n"
          ]
        }
      ]
    },
    {
      "cell_type": "code",
      "metadata": {
        "colab": {
          "base_uri": "https://localhost:8080/"
        },
        "id": "bNgtAjM3gRHK",
        "outputId": "c0072863-3052-4861-e9bc-7d031ef3efea"
      },
      "source": [
        "print(f'Acurácia (Teste): {round(accuracy_score(y_test, reglog_model.predict(X_test)), 2)}')"
      ],
      "execution_count": null,
      "outputs": [
        {
          "output_type": "stream",
          "name": "stdout",
          "text": [
            "Acurácia (Teste): 0.88\n"
          ]
        }
      ]
    },
    {
      "cell_type": "code",
      "metadata": {
        "colab": {
          "base_uri": "https://localhost:8080/"
        },
        "id": "DK7Kgp67qk7U",
        "outputId": "9afdd554-ca31-488b-c049-52edcdfb47cd"
      },
      "source": [
        "cm = confusion_matrix(y_test, reglog_model.predict(X_test), labels=reglog_model.classes_)\n",
        "# Normalise\n",
        "cmn = cm.astype('float') /  cm.sum(axis=1)[:, np.newaxis]\n",
        "fig, ax = plt.subplots(figsize=(5,4))\n",
        "sns.heatmap(cmn, annot=True, fmt='.2f', xticklabels=target_names, yticklabels=target_names)\n",
        "plt.ylabel('Actual')\n",
        "plt.xlabel('Predicted')\n",
        "plt.show(block=False)"
      ],
      "execution_count": null,
      "outputs": [
        {
          "output_type": "display_data",
          "data": {
            "image/png": "[encoded data removed]",
            "text/plain": [
              "<Figure size 360x288 with 2 Axes>"
            ]
          },
          "metadata": {}
        }
      ]
    },
    {
      "cell_type": "markdown",
      "metadata": {
        "id": "f0bm2OCZOYM1"
      },
      "source": [
        "#8. Random Forest"
      ]
    },
    {
      "cell_type": "code",
      "metadata": {
        "id": "OdHYOQgXObCI"
      },
      "source": [
        "random_forest_model = RandomForestClassifier(n_estimators=50, \n",
        "                                             criterion='entropy',\n",
        "                                             max_depth=10,\n",
        "                                             min_samples_split=2,\n",
        "                                             random_state=0)\n"
      ],
      "execution_count": null,
      "outputs": []
    },
    {
      "cell_type": "code",
      "metadata": {
        "colab": {
          "base_uri": "https://localhost:8080/"
        },
        "id": "6g4dtCQSO_7j",
        "outputId": "f12f1429-0519-41c0-a40e-bd3bfaf01397"
      },
      "source": [
        "random_forest_model.fit(X_train, y_train)"
      ],
      "execution_count": null,
      "outputs": [
        {
          "output_type": "execute_result",
          "data": {
            "text/plain": [
              "RandomForestClassifier(bootstrap=True, ccp_alpha=0.0, class_weight=None,\n",
              "                       criterion='entropy', max_depth=10, max_features='auto',\n",
              "                       max_leaf_nodes=None, max_samples=None,\n",
              "                       min_impurity_decrease=0.0, min_impurity_split=None,\n",
              "                       min_samples_leaf=1, min_samples_split=2,\n",
              "                       min_weight_fraction_leaf=0.0, n_estimators=50,\n",
              "                       n_jobs=None, oob_score=False, random_state=0, verbose=0,\n",
              "                       warm_start=False)"
            ]
          },
          "metadata": {},
          "execution_count": 98
        }
      ]
    },
    {
      "cell_type": "code",
      "metadata": {
        "colab": {
          "base_uri": "https://localhost:8080/"
        },
        "id": "vRFb7GrrPCD_",
        "outputId": "a96ef1d3-bd32-4493-b143-3aba35ac8e95"
      },
      "source": [
        "print('Random Forest')\n",
        "print(f'Acurácia: {round(accuracy_score(y_test, random_forest_model.predict(X_test)), 4)}')"
      ],
      "execution_count": null,
      "outputs": [
        {
          "output_type": "stream",
          "name": "stdout",
          "text": [
            "Random Forest\n",
            "Acurácia: 0.8774\n"
          ]
        }
      ]
    },
    {
      "cell_type": "code",
      "metadata": {
        "colab": {
          "base_uri": "https://localhost:8080/"
        },
        "id": "zo2ozBZjPDmj",
        "outputId": "c868be64-558d-47f7-8628-486c45c7fb4b"
      },
      "source": [
        "print(classification_report(y_test, random_forest_model.predict(X_test), target_names=['Não', 'Sim']))"
      ],
      "execution_count": null,
      "outputs": [
        {
          "output_type": "stream",
          "name": "stdout",
          "text": [
            "              precision    recall  f1-score   support\n",
            "\n",
            "         Não       0.88      1.00      0.93     66880\n",
            "         Sim       0.00      0.00      0.00      9342\n",
            "\n",
            "    accuracy                           0.88     76222\n",
            "   macro avg       0.44      0.50      0.47     76222\n",
            "weighted avg       0.77      0.88      0.82     76222\n",
            "\n"
          ]
        },
        {
          "output_type": "stream",
          "name": "stderr",
          "text": [
            "Precision and F-score are ill-defined and being set to 0.0 in labels with no predicted samples. Use `zero_division` parameter to control this behavior.\n"
          ]
        }
      ]
    },
    {
      "cell_type": "code",
      "metadata": {
        "colab": {
          "base_uri": "https://localhost:8080/"
        },
        "id": "xzmQTkcc9gWg",
        "outputId": "81177299-38c6-451f-801e-aa2547e52623"
      },
      "source": [
        "cm = confusion_matrix(y_test, random_forest_model.predict(X_test), labels=random_forest_model.classes_)\n",
        "# Normalise\n",
        "cmn = cm.astype('float') /  cm.sum(axis=1)[:, np.newaxis]\n",
        "fig, ax = plt.subplots(figsize=(5,4))\n",
        "sns.heatmap(cmn, annot=True, fmt='.2f', xticklabels=target_names, yticklabels=target_names)\n",
        "plt.ylabel('Actual')\n",
        "plt.xlabel('Predicted')\n",
        "plt.show(block=False)"
      ],
      "execution_count": null,
      "outputs": [
        {
          "output_type": "display_data",
          "data": {
            "image/png": "[encoded data removed]",
            "text/plain": [
              "<Figure size 360x288 with 2 Axes>"
            ]
          },
          "metadata": {}
        }
      ]
    },
    {
      "cell_type": "markdown",
      "metadata": {
        "id": "p70GJj7B58zy"
      },
      "source": [
        "#9. XGBoost"
      ]
    },
    {
      "cell_type": "code",
      "metadata": {
        "id": "qFRiGJ0D5_QD"
      },
      "source": [
        "%%capture\n",
        "\n",
        "xgb_model = xgboost.XGBClassifier(booster = 'gbtree', \n",
        "                                  learning_rate = 0.03,\n",
        "                                  n_estimators = 100,\n",
        "                                  max_depth = 3, \n",
        "                                  use_label_encoder=False)\n",
        "\n",
        "cv = KFold(n_splits = 5, \n",
        "           shuffle = True, \n",
        "           random_state=0)\n",
        "\n",
        "n_scores = cross_val_score(xgb_model, \n",
        "                           X_train, y_train, \n",
        "                           scoring = 'accuracy', \n",
        "                           cv = cv)"
      ],
      "execution_count": null,
      "outputs": []
    },
    {
      "cell_type": "code",
      "metadata": {
        "colab": {
          "base_uri": "https://localhost:8080/"
        },
        "id": "FO6STSM36CrQ",
        "outputId": "6d4d2822-8dce-4345-f64e-fe582a2c0029"
      },
      "source": [
        "print('Validação Cruzada\\n')\n",
        "print(f'Acurácias: {n_scores}\\n')\n",
        "print(f'Acurácias (média): {round(np.mean(n_scores), 4)}')\n",
        "print(f'Acurácias (desvio padrão): {round(np.std(n_scores), 4)}')"
      ],
      "execution_count": null,
      "outputs": [
        {
          "output_type": "stream",
          "name": "stdout",
          "text": [
            "Validação Cruzada\n",
            "\n",
            "Acurácias: [0.87629965 0.87921873 0.87619922 0.87778999 0.87767519]\n",
            "\n",
            "Acurácias (média): 0.8774\n",
            "Acurácias (desvio padrão): 0.0011\n"
          ]
        }
      ]
    },
    {
      "cell_type": "code",
      "metadata": {
        "id": "eNwQ4fh46FeW"
      },
      "source": [
        "%%capture\n",
        "\n",
        "xgb_model.fit(X_train, y_train)"
      ],
      "execution_count": null,
      "outputs": []
    },
    {
      "cell_type": "code",
      "metadata": {
        "colab": {
          "base_uri": "https://localhost:8080/"
        },
        "id": "1Qx7npCJGJFv",
        "outputId": "a06e57fa-eb90-46de-d539-99895716525e"
      },
      "source": [
        "print('XGBoost')\n",
        "print(f'Acurácia: {round(accuracy_score(y_test, xgb_model.predict(X_test)), 4)}')"
      ],
      "execution_count": null,
      "outputs": [
        {
          "output_type": "stream",
          "name": "stdout",
          "text": [
            "XGBoost\n",
            "Acurácia: 0.8774\n"
          ]
        }
      ]
    },
    {
      "cell_type": "code",
      "metadata": {
        "colab": {
          "base_uri": "https://localhost:8080/"
        },
        "id": "F8FbUURyqxYl",
        "outputId": "a8bce45f-8810-4041-a920-b4d073b472eb"
      },
      "source": [
        "cm = confusion_matrix(y_test, xgb_model.predict(X_test), labels=xgb_model.classes_)\n",
        "# Normalise\n",
        "cmn = cm.astype('float') /  cm.sum(axis=1)[:, np.newaxis]\n",
        "fig, ax = plt.subplots(figsize=(5,4))\n",
        "sns.heatmap(cmn, annot=True, fmt='.2f', xticklabels=target_names, yticklabels=target_names)\n",
        "plt.ylabel('Actual')\n",
        "plt.xlabel('Predicted')\n",
        "plt.show(block=False)"
      ],
      "execution_count": null,
      "outputs": [
        {
          "output_type": "display_data",
          "data": {
            "image/png": "[encoded data removed]",
            "text/plain": [
              "<Figure size 360x288 with 2 Axes>"
            ]
          },
          "metadata": {}
        }
      ]
    }
  ]
}